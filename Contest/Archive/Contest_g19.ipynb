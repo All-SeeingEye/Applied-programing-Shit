{
 "cells": [
  {
   "cell_type": "markdown",
   "id": "c786b234",
   "metadata": {},
   "source": [
    "# Approach\n",
    "* The logic we thought of is to sort the given numbers in acending order then, the numbers at the odd postions of the sorted array will make a group and numbers at even position of the sorted array will second group, the diffrence between them would be minimum as the average of two numbers at the odd position will be the number between them or close to it and hence the diffrence between the sum of odd postioned number and even position would be close to zero"
   ]
  },
  {
   "cell_type": "code",
   "execution_count": 1,
   "id": "af7ab406",
   "metadata": {},
   "outputs": [
    {
     "ename": "FileNotFoundError",
     "evalue": "[Errno 2] No such file or directory: 'inp_10k.txt'",
     "output_type": "error",
     "traceback": [
      "\u001b[0;31m---------------------------------------------------------------------------\u001b[0m",
      "\u001b[0;31mFileNotFoundError\u001b[0m                         Traceback (most recent call last)",
      "\u001b[1;32m/Users/jainamshah/Downloads/SEM 4/EE2703 APL/Contest/Archive/Contest_g19.ipynb Cell 2\u001b[0m in \u001b[0;36m<cell line: 7>\u001b[0;34m()\u001b[0m\n\u001b[1;32m      <a href='vscode-notebook-cell:/Users/jainamshah/Downloads/SEM%204/EE2703%20APL/Contest/Archive/Contest_g19.ipynb#W1sZmlsZQ%3D%3D?line=4'>5</a>\u001b[0m \u001b[39m# Reading the file containg the inputs\u001b[39;00m\n\u001b[1;32m      <a href='vscode-notebook-cell:/Users/jainamshah/Downloads/SEM%204/EE2703%20APL/Contest/Archive/Contest_g19.ipynb#W1sZmlsZQ%3D%3D?line=5'>6</a>\u001b[0m filename \u001b[39m=\u001b[39m \u001b[39m'\u001b[39m\u001b[39minp_10k.txt\u001b[39m\u001b[39m'\u001b[39m\n\u001b[0;32m----> <a href='vscode-notebook-cell:/Users/jainamshah/Downloads/SEM%204/EE2703%20APL/Contest/Archive/Contest_g19.ipynb#W1sZmlsZQ%3D%3D?line=6'>7</a>\u001b[0m \u001b[39mwith\u001b[39;00m \u001b[39mopen\u001b[39;49m(filename,\u001b[39m'\u001b[39;49m\u001b[39mr\u001b[39;49m\u001b[39m'\u001b[39;49m) \u001b[39mas\u001b[39;00m f:\n\u001b[1;32m      <a href='vscode-notebook-cell:/Users/jainamshah/Downloads/SEM%204/EE2703%20APL/Contest/Archive/Contest_g19.ipynb#W1sZmlsZQ%3D%3D?line=7'>8</a>\u001b[0m     text \u001b[39m=\u001b[39m f\u001b[39m.\u001b[39mread()\u001b[39m.\u001b[39msplitlines()    \n\u001b[1;32m     <a href='vscode-notebook-cell:/Users/jainamshah/Downloads/SEM%204/EE2703%20APL/Contest/Archive/Contest_g19.ipynb#W1sZmlsZQ%3D%3D?line=9'>10</a>\u001b[0m \u001b[39m# Converting the strings to int type\u001b[39;00m\n",
      "\u001b[0;31mFileNotFoundError\u001b[0m: [Errno 2] No such file or directory: 'inp_10k.txt'"
     ]
    }
   ],
   "source": [
    "import numpy as np\n",
    "num = []\n",
    "dic = {}\n",
    "ls = []\n",
    "# Reading the file containg the inputs\n",
    "filename = 'inp_10k.txt'\n",
    "with open(filename,'r') as f:\n",
    "    text = f.read().splitlines()    \n",
    "\n",
    "# Converting the strings to int type\n",
    "for i in text:\n",
    "    num.append(int(i))\n",
    "\n",
    "# Storing the sorted inputs in a list\n",
    "numbers = np.sort(num)"
   ]
  },
  {
   "cell_type": "code",
   "execution_count": 3,
   "id": "db75f245",
   "metadata": {},
   "outputs": [],
   "source": [
    "# Dividing the numbers at even positions in sorted array as 0 and the numbers in odd positions as 1\n",
    "# As by doing this the diffrence between them would be minium\n",
    "for i in range(len(numbers)):\n",
    "    if i<len(numbers)/2:\n",
    "        dic.update({numbers[i]:0})\n",
    "    else:\n",
    "        dic.update({numbers[i]:1})\n",
    "\n",
    "        \n",
    "# Writing the final output in the file\n",
    "filename = 'p2.txt'\n",
    "with open(filename,'w') as f:\n",
    "    f.write('10000\\n')\n",
    "    for i in num:\n",
    "        f.write(str(dic[i])+'\\n')  "
   ]
  },
  {
   "cell_type": "markdown",
   "id": "b844846e",
   "metadata": {},
   "source": [
    "Problem 2 is sumbited as .txt file max cut written in C++"
   ]
  },
  {
   "cell_type": "code",
   "execution_count": null,
   "id": "48d8fbc6",
   "metadata": {},
   "outputs": [],
   "source": []
  }
 ],
 "metadata": {
  "authors": [
   {
    "name": "Shah Jainam EE21B122"
   },
   {
    "name": "Satwik Anand EE21B120"
   },
   {
    "name": "Shivam Shah EE21B124"
   }
  ],
  "kernelspec": {
   "display_name": "Python 3 (ipykernel)",
   "language": "python",
   "name": "python3"
  },
  "language_info": {
   "codemirror_mode": {
    "name": "ipython",
    "version": 3
   },
   "file_extension": ".py",
   "mimetype": "text/x-python",
   "name": "python",
   "nbconvert_exporter": "python",
   "pygments_lexer": "ipython3",
   "version": "3.9.13"
  }
 },
 "nbformat": 4,
 "nbformat_minor": 5
}
