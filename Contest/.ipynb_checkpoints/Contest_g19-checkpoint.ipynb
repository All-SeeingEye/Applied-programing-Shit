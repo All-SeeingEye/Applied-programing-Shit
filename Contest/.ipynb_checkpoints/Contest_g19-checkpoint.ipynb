{
 "cells": [
  {
   "cell_type": "markdown",
   "id": "be3e9354",
   "metadata": {},
   "source": [
    "# Approach\n",
    "* The logic we thought of is to sort the given numbers in acending order then, the numbers at the odd postions of the sorted array will make a group and numbers at even position of the sorted array will second group, the diffrence between them would be minimum as the average of two numbers at the odd position will be the number between them or close to it and hence the diffrence between the sum of odd postioned number and even position would be close to zero"
   ]
  },
  {
   "cell_type": "code",
   "execution_count": 17,
   "id": "af7ab406",
   "metadata": {},
   "outputs": [],
   "source": [
    "import numpy as np\n",
    "import networkx as nx\n",
    "num = []\n",
    "dic = {}\n",
    "ls = []\n",
    "# Reading the file containg the inputs\n",
    "filename = 'inp_10k.txt'\n",
    "with open(filename,'r') as f:\n",
    "    text = f.read().splitlines()    \n",
    "\n",
    "# Converting the strings to int type\n",
    "for i in text:\n",
    "    num.append(int(i))\n",
    "\n",
    "# Storing the sorted inputs in a list\n",
    "numbers = np.sort(num)"
   ]
  },
  {
   "cell_type": "code",
   "execution_count": 3,
   "id": "db75f245",
   "metadata": {},
   "outputs": [],
   "source": [
    "# Dividing the numbers at even positions in sorted array as 0 and the numbers in odd positions as 1\n",
    "# As by doing this the diffrence between them would be minium\n",
    "for i in range(len(numbers)):\n",
    "    if i<len(numbers)/2:\n",
    "        dic.update({numbers[i]:0})\n",
    "    else:\n",
    "        dic.update({numbers[i]:1})\n",
    "\n",
    "        \n",
    "# Writing the final output in the file\n",
    "filename = 'p2.txt'\n",
    "with open(filename,'w') as f:\n",
    "    f.write('10000\\n')\n",
    "    for i in num:\n",
    "        f.write(str(dic[i])+'\\n')  "
   ]
  }
 ],
 "metadata": {
  "kernelspec": {
   "display_name": "Python 3 (ipykernel)",
   "language": "python",
   "name": "python3"
  },
  "language_info": {
   "codemirror_mode": {
    "name": "ipython",
    "version": 3
   },
   "file_extension": ".py",
   "mimetype": "text/x-python",
   "name": "python",
   "nbconvert_exporter": "python",
   "pygments_lexer": "ipython3",
   "version": "3.9.13"
  }
 },
 "nbformat": 4,
 "nbformat_minor": 5
}
