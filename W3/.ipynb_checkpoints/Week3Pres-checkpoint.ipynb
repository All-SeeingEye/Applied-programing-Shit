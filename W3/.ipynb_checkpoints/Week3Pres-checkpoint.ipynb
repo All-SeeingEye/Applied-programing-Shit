{
 "cells": [
  {
   "cell_type": "markdown",
   "metadata": {},
   "source": [
    "# Plotting and Visualization\n",
    "\n",
    "Many problems encountered in EE involve processing large amounts of data.  One of the first steps here would be to visualize this data to understand what it looks like and what can be done with it."
   ]
  },
  {
   "cell_type": "code",
   "execution_count": null,
   "metadata": {},
   "outputs": [],
   "source": [
    "# Imports and settings\n",
    "import numpy as np\n",
    "import matplotlib.pyplot as plt\n",
    "%matplotlib inline"
   ]
  },
  {
   "cell_type": "code",
   "execution_count": null,
   "metadata": {},
   "outputs": [],
   "source": [
    "# Create a time base and a straight line fit\n",
    "t = np.arange(0, 10, 0.01)\n",
    "def stline(x, m, c):\n",
    "    return m * x + c\n",
    "y = stline(t, 3, 1.2)\n",
    "# Add Gaussian noise\n",
    "n = 1 * np.random.randn(len(t))\n",
    "yn = y + n\n",
    "# plt.plot(t, y, t, yn)"
   ]
  },
  {
   "cell_type": "code",
   "execution_count": null,
   "metadata": {},
   "outputs": [],
   "source": [
    "# Get errorbars from noise \n",
    "# plt.plot(t, y, t, yn)\n",
    "# plt.errorbar(t[::5], yn[::5], np.std(n), fmt='ro')"
   ]
  },
  {
   "cell_type": "markdown",
   "metadata": {},
   "source": [
    "# Least Squares Curve Fitting\n",
    "\n",
    "Assume we know something about the function that underlies the observed data (for example, that it is linear or a polynomial function).  However, we don't know the coefficients of the various terms.  For example, say our function takes two parameters $p_1$ and $p_2$, and is a linear function of the time variable $t$: $g(t, p_1, p_2) = p_1 t + p_2$.  \n",
    "\n",
    "We have a number of *observations* $g_1, g_2, \\ldots, g_n$ of this function at different time instants $t_1, t_2, \\ldots, t_n$.  These observations can then be written as:\n",
    "\n",
    "$$\n",
    "\\mathbf{g} \\equiv\n",
    "\\begin{pmatrix}\n",
    "g_1 \\\\\n",
    "g_2 \\\\\n",
    "\\vdots \\\\\n",
    "g_n\n",
    "\\end{pmatrix}\n",
    "=\n",
    "\\begin{pmatrix}\n",
    "t_1 & 1 \\\\\n",
    "t_2 & 1 \\\\\n",
    "\\vdots & \\vdots \\\\\n",
    "t_n & 1\n",
    "\\end{pmatrix}\n",
    "\\begin{pmatrix}\n",
    "p_1 \\\\\n",
    "p_2\n",
    "\\end{pmatrix}\n",
    "\\equiv\n",
    "\\mathbf{M}\\mathbf{p}\n",
    "$$\n",
    "\n",
    "## Mean Square Error\n",
    "We can therefore define an error $\\varepsilon = \\mathbf{Mp}-\\mathbf{g}$ (note that this is itself a vector of point-wise errors), and a *mean-square error* or MSE as:\n",
    "\n",
    "$$\n",
    "E = \\varepsilon^T \\varepsilon = \\sum_{1}^{N} \\varepsilon_i = \\sum_1^N ((p_1 t_i + p_2) - g_i)^2\n",
    "$$\n",
    "\n",
    "The goal of *least squares fitting* is to find the parameters $p_i$ such that this MSE $E$ is minimized.  More details of how this works can be seen at [LibreTexts](https://math.libretexts.org/Bookshelves/Linear_Algebra/Interactive_Linear_Algebra_(Margalit_and_Rabinoff)/06%3A_Orthogonality/6.5%3A_The_Method_of_Least_Squares).\n",
    "\n",
    "In our case, we can use the `lstsq` function from the `numpy.linalg` library.  For this, we have to construct the $\\mathbf{M}$ matrix."
   ]
  },
  {
   "cell_type": "code",
   "execution_count": null,
   "metadata": {},
   "outputs": [],
   "source": [
    "# Use column_stack to put the vectors side by side\n",
    "M = np.column_stack([t, np.ones(len(t))])\n",
    "# Use the lstsq function to solve for p_1 and p_2\n",
    "(p1, p2), _, _, _ = np.linalg.lstsq(M, yn, rcond=None)\n",
    "print(f\"The estimated equation is {p1} t + {p2}\")"
   ]
  },
  {
   "cell_type": "code",
   "execution_count": null,
   "metadata": {},
   "outputs": [],
   "source": [
    "# Plot against the original input and compare\n",
    "yest = stline(t, p1, p2)\n",
    "# plt.plot(t, y, t, yn, t, yest)"
   ]
  },
  {
   "cell_type": "markdown",
   "metadata": {},
   "source": [
    "# Non-linear curve fitting\n",
    "\n",
    "What if your equation was not a linear function of the parameters?  For example:\n",
    "$$g(t; p_1, p_2) = e^{-p_1 t} + p_2$$\n",
    "\n",
    "The problem here is that we cannot create the $M$ matrix as a linear combination of $p_1$ and $p_2$!  We still have a notion of MSE:\n",
    "\n",
    "$$E = \\sum_1^N (g(t; p_1, p_2) - z_t)^2$$\n",
    "where $z_t$ are the observed values.  However, the least squares minimization techniques discussed earlier do not work.  \n",
    "\n",
    "## `curve_fit`\n",
    "\n",
    "The `scipy.optimize` library contains the `curve_fit` function that can perform a non-linear curve fitting on observed data.  Unlike the least squares method, here we need to feed in a parametrized function that can be used to estimate the parameters.  "
   ]
  },
  {
   "cell_type": "code",
   "execution_count": null,
   "metadata": {},
   "outputs": [],
   "source": [
    "# Create a function with nonlinear dependence on parameters\n",
    "def nlfunc(t, p1, p2):\n",
    "    return np.exp(-p1 * t) + p2\n",
    "z = nlfunc(t, 0.5, 0.5)\n",
    "# Reuse the same noise - we are lazy\n",
    "zn = z + 0.2*n\n",
    "# plt.plot(t, z, t, zn)\n",
    "# plt.errorbar(t[::5], zn[::5], np.std(n), fmt='ro')"
   ]
  },
  {
   "cell_type": "code",
   "execution_count": null,
   "metadata": {},
   "outputs": [],
   "source": [
    "# Set up the non-linear curve fit\n",
    "from scipy.optimize import curve_fit\n",
    "(zp1, zp2), pcov = curve_fit(nlfunc, t, zn)\n",
    "print(f\"Estimated function: exp(-{zp1}t) + {zp2}\")"
   ]
  },
  {
   "cell_type": "code",
   "execution_count": null,
   "metadata": {},
   "outputs": [],
   "source": [
    "zest = nlfunc(t, zp1, zp2)\n",
    "plt.plot(t, z, t, zest)"
   ]
  },
  {
   "cell_type": "code",
   "execution_count": null,
   "metadata": {},
   "outputs": [],
   "source": [
    "# Non-linear sinusoidal function\n",
    "def sinfunc(t, p1, p2):\n",
    "    return p1 * np.sin(2 * np.pi * p2 * t)\n",
    "s = sinfunc(t, 5, 0.5)\n",
    "sn = s + 0.2*n\n",
    "# Fit with only first K points\n",
    "K = 100\n",
    "(sp1, sp2), _ = curve_fit(sinfunc, t[:K], sn[:K])\n",
    "print(f\"Estimated: {sp1} * sin(2*pi*{sp2}*t)\")\n",
    "# Regenerate data\n",
    "sest = sinfunc(t, sp1, sp2)\n",
    "plt.plot(t, s, t, sest)"
   ]
  },
  {
   "cell_type": "markdown",
   "metadata": {},
   "source": [
    "# Assignment\n",
    "\n",
    "- You are given several data sets in text format.  For each of them:\n",
    "  - Plot the data along with errorbars - explain how you obtain the size of the errorbars.\n",
    "  - Propose a possible best curve fit for each of the data sets.  The exact nature of the function is not given, but some clues may be available.  \n",
    "  - Perform a curve fitting using appropriate techniques for each of the data.  You need to explain whether you are choosing to use a linear or nonlinear curve fit, and why it is the right approach.  Comment on the accuracy of your approach and whether it gives a good result, or something better could have been done.\n",
    "- For the straight line fit from the example above, compare the time taken, and accuracy of the fit, for `lstsq` *vs* `curve_fit`.  Comment on your observations."
   ]
  }
 ],
 "metadata": {
  "kernelspec": {
   "display_name": "Python 3 (ipykernel)",
   "language": "python",
   "name": "python3"
  },
  "language_info": {
   "codemirror_mode": {
    "name": "ipython",
    "version": 3
   },
   "file_extension": ".py",
   "mimetype": "text/x-python",
   "name": "python",
   "nbconvert_exporter": "python",
   "pygments_lexer": "ipython3",
   "version": "3.9.13"
  },
  "vscode": {
   "interpreter": {
    "hash": "135c9c029983d30fe2c25215b219c39403965bc9bf9257a46b5d1e1e22d97d61"
   }
  }
 },
 "nbformat": 4,
 "nbformat_minor": 2
}
