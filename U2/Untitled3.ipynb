{
 "cells": [
  {
   "cell_type": "code",
   "execution_count": null,
   "id": "50dffdd9",
   "metadata": {},
   "outputs": [],
   "source": [
    "def gridpaths(M, N, x1, y1, x2, y2):\n",
    "    pr = [[0] * N for _ in range(M)]\n",
    "    pr[0][0] = 1\n",
    "    for i in range(M):\n",
    "        for j in range(N):\n",
    "            if i == x1 and j == y1:\n",
    "                continue\n",
    "            if i < 0 or j < 0 or i >= M or j >= N:\n",
    "                continue\n",
    "            if i == x2 and j == y2:\n",
    "                pr[i][j] = pr[i-1][j] + pr[i][j-1] + pr[i][j+1]\n",
    "            else:\n",
    "                pr[i][j] = pr[i-1][j] + pr[i][j-1] + pr[i][j+1]\n",
    "                \n",
    "    return pr[x2][y2]"
   ]
  },
  {
   "cell_type": "code",
   "execution_count": null,
   "id": "33de87e7",
   "metadata": {},
   "outputs": [],
   "source": [
    "def evalbool(F, xvals):\n",
    "    r = False\n",
    "    for term in F:\n",
    "        term_r = True\n",
    "        for i in range(len(xvals)):\n",
    "            if term[i] == 1:\n",
    "                term_r = term_r and xvals[i]\n",
    "            elif term[i] == -1:\n",
    "                term_r = term_r and not xvals[i]\n",
    "        r = r or term_r\n",
    "    return r"
   ]
  }
 ],
 "metadata": {
  "kernelspec": {
   "display_name": "Python 3 (ipykernel)",
   "language": "python",
   "name": "python3"
  },
  "language_info": {
   "codemirror_mode": {
    "name": "ipython",
    "version": 3
   },
   "file_extension": ".py",
   "mimetype": "text/x-python",
   "name": "python",
   "nbconvert_exporter": "python",
   "pygments_lexer": "ipython3",
   "version": "3.9.13"
  }
 },
 "nbformat": 4,
 "nbformat_minor": 5
}
