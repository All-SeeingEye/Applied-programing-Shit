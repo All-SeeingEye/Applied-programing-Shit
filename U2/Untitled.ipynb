{
 "cells": [
  {
   "cell_type": "code",
   "execution_count": 71,
   "id": "ec9fc4a0",
   "metadata": {},
   "outputs": [],
   "source": [
    "\n",
    "# Some basic imports that are useful\n",
    "import numpy as np\n",
    "import matplotlib.pyplot as plt\n",
    "from matplotlib.animation import FuncAnimation"
   ]
  },
  {
   "cell_type": "code",
   "execution_count": 60,
   "id": "bfaf6a75",
   "metadata": {},
   "outputs": [],
   "source": [
    "import numpy as np\n",
    "\n",
    "def generate_polygon(n, m):\n",
    "    num_vertices = n\n",
    "    num_points = m\n",
    "\n",
    "    angles = np.linspace(0, 2*np.pi, num_vertices+1, endpoint=True)\n",
    "    x = 0.5 * np.cos(angles[:-1]) + 0.5\n",
    "    y = 0.5 * np.sin(angles[:-1]) + 0.5\n",
    "\n",
    "    points = np.zeros((num_points, 2))\n",
    "    for i in range(num_vertices):\n",
    "        start = i * (num_points // num_vertices)\n",
    "        end = (i + 1) * (num_points // num_vertices)\n",
    "        points[start:end, 0] = np.linspace(x[i], x[(i+1)%num_vertices], num_points // num_vertices, endpoint=False)\n",
    "        points[start:end, 1] = np.linspace(y[i], y[(i+1)%num_vertices], num_points // num_vertices, endpoint=False)\n",
    "\n",
    "    polygon = np.unique(points, axis=0)\n",
    "#     polygon = np.concatenate((polygon, np.array([polygon[0]])), axis=0)\n",
    "    return polygon\n"
   ]
  },
  {
   "cell_type": "code",
   "execution_count": null,
   "id": "a8303a16",
   "metadata": {},
   "outputs": [],
   "source": []
  },
  {
   "cell_type": "code",
   "execution_count": 30,
   "id": "7eed052b",
   "metadata": {},
   "outputs": [],
   "source": [
    "def split_tuple_set(tuple_set):\n",
    "    \"\"\"Splits a set of tuples into two lists: one with the first values of each tuple, and one with the second values.\"\"\"\n",
    "    first_values = [t[0] for t in tuple_set]\n",
    "    second_values = [t[1] for t in tuple_set]\n",
    "    return first_values, second_values\n"
   ]
  },
  {
   "cell_type": "code",
   "execution_count": 31,
   "id": "3cf1d861",
   "metadata": {},
   "outputs": [],
   "source": [
    "x_,y = split_tuple_set(x)"
   ]
  },
  {
   "cell_type": "code",
   "execution_count": 63,
   "id": "dd9bee84",
   "metadata": {},
   "outputs": [],
   "source": [
    "x = generate_polygon(4, 100)"
   ]
  },
  {
   "cell_type": "code",
   "execution_count": 69,
   "id": "27885391",
   "metadata": {},
   "outputs": [
    {
     "data": {
      "text/plain": [
       "[<matplotlib.lines.Line2D at 0x138b06760>]"
      ]
     },
     "execution_count": 69,
     "metadata": {},
     "output_type": "execute_result"
    },
    {
     "data": {
      "image/png": "[encoded data removed]",
      "text/plain": [
       "<Figure size 640x480 with 1 Axes>"
      ]
     },
     "metadata": {},
     "output_type": "display_data"
    }
   ],
   "source": [
    "%matplotlib inline\n",
    "x = generate_polygon(4, 100)\n",
    "y = generate_polygon(3, 100)\n",
    "plt.plot(x[:,0],x[:,1],'ro')\n",
    "plt.plot(y[:,0],y[:,1],'bo')"
   ]
  },
  {
   "cell_type": "code",
   "execution_count": 72,
   "id": "366bb519",
   "metadata": {},
   "outputs": [],
   "source": [
    "import matplotlib.pyplot as plt\n",
    "import numpy as np\n",
    "\n",
    "def morph_triangle_to_square():\n",
    "    # Define initial triangle coordinates\n",
    "    triangle_coords = np.array([[0, 0], [1, 0], [0.5, np.sqrt(3)/2]])\n",
    "\n",
    "    # Define target square coordinates\n",
    "    square_coords = np.array([[0, 0], [1, 0], [1, 1], [0, 1]])\n",
    "\n",
    "    # Define the number of frames to use for the morphing animation\n",
    "    num_frames = 50\n",
    "\n",
    "    # Generate a sequence of intermediate polygons between the triangle and the square\n",
    "    polygons = []\n",
    "    for i in range(num_frames+1):\n",
    "        t = i / num_frames\n",
    "        intermediate_coords = (1-t) * triangle_coords + t * square_coords\n",
    "        polygons.append(intermediate_coords)\n",
    "\n",
    "    # Create a new matplotlib figure and axis\n",
    "    fig, ax = plt.subplots()\n",
    "\n",
    "    # Plot the initial triangle\n",
    "    ax.plot(triangle_coords[:, 0], triangle_coords[:, 1], 'b')\n",
    "\n",
    "    # Animate the morphing of the triangle to the square\n",
    "    for i in range(num_frames+1):\n",
    "        ax.cla()\n",
    "        ax.plot(polygons[i][:, 0], polygons[i][:, 1], 'b')\n",
    "        plt.pause(0.01)\n",
    "\n",
    "    # Plot the final square\n",
    "    ax.plot(square_coords[:, 0], square_coords[:, 1], 'r')\n",
    "\n",
    "    # Show the final plot\n",
    "    plt.show()\n"
   ]
  },
  {
   "cell_type": "code",
   "execution_count": 73,
   "id": "712cbe70",
   "metadata": {},
   "outputs": [
    {
     "ename": "ValueError",
     "evalue": "operands could not be broadcast together with shapes (3,2) (4,2) ",
     "output_type": "error",
     "traceback": [
      "\u001b[0;31m---------------------------------------------------------------------------\u001b[0m",
      "\u001b[0;31mValueError\u001b[0m                                Traceback (most recent call last)",
      "Input \u001b[0;32mIn [73]\u001b[0m, in \u001b[0;36m<cell line: 1>\u001b[0;34m()\u001b[0m\n\u001b[0;32m----> 1\u001b[0m \u001b[43mmorph_triangle_to_square\u001b[49m\u001b[43m(\u001b[49m\u001b[43m)\u001b[49m\n",
      "Input \u001b[0;32mIn [72]\u001b[0m, in \u001b[0;36mmorph_triangle_to_square\u001b[0;34m()\u001b[0m\n\u001b[1;32m     16\u001b[0m \u001b[38;5;28;01mfor\u001b[39;00m i \u001b[38;5;129;01min\u001b[39;00m \u001b[38;5;28mrange\u001b[39m(num_frames\u001b[38;5;241m+\u001b[39m\u001b[38;5;241m1\u001b[39m):\n\u001b[1;32m     17\u001b[0m     t \u001b[38;5;241m=\u001b[39m i \u001b[38;5;241m/\u001b[39m num_frames\n\u001b[0;32m---> 18\u001b[0m     intermediate_coords \u001b[38;5;241m=\u001b[39m \u001b[43m(\u001b[49m\u001b[38;5;241;43m1\u001b[39;49m\u001b[38;5;241;43m-\u001b[39;49m\u001b[43mt\u001b[49m\u001b[43m)\u001b[49m\u001b[43m \u001b[49m\u001b[38;5;241;43m*\u001b[39;49m\u001b[43m \u001b[49m\u001b[43mtriangle_coords\u001b[49m\u001b[43m \u001b[49m\u001b[38;5;241;43m+\u001b[39;49m\u001b[43m \u001b[49m\u001b[43mt\u001b[49m\u001b[43m \u001b[49m\u001b[38;5;241;43m*\u001b[39;49m\u001b[43m \u001b[49m\u001b[43msquare_coords\u001b[49m\n\u001b[1;32m     19\u001b[0m     polygons\u001b[38;5;241m.\u001b[39mappend(intermediate_coords)\n\u001b[1;32m     21\u001b[0m \u001b[38;5;66;03m# Create a new matplotlib figure and axis\u001b[39;00m\n",
      "\u001b[0;31mValueError\u001b[0m: operands could not be broadcast together with shapes (3,2) (4,2) "
     ]
    }
   ],
   "source": [
    "morph_triangle_to_square()"
   ]
  },
  {
   "cell_type": "code",
   "execution_count": null,
   "id": "8d624750",
   "metadata": {},
   "outputs": [],
   "source": []
  }
 ],
 "metadata": {
  "kernelspec": {
   "display_name": "Python 3 (ipykernel)",
   "language": "python",
   "name": "python3"
  },
  "language_info": {
   "codemirror_mode": {
    "name": "ipython",
    "version": 3
   },
   "file_extension": ".py",
   "mimetype": "text/x-python",
   "name": "python",
   "nbconvert_exporter": "python",
   "pygments_lexer": "ipython3",
   "version": "3.9.13"
  }
 },
 "nbformat": 4,
 "nbformat_minor": 5
}
