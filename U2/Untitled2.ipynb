{
 "cells": [
  {
   "cell_type": "code",
   "execution_count": 3,
   "id": "f01c66a6",
   "metadata": {},
   "outputs": [],
   "source": [
    "def evalbool(F, xvals):\n",
    "    r = False\n",
    "    for term in F:\n",
    "        term_r = True\n",
    "        for i in range(len(xvals)):\n",
    "            if term[i] == 1:\n",
    "                term_r = term_r and xvals[i]\n",
    "            elif term[i] == -1:\n",
    "                term_r = term_r and not xvals[i]\n",
    "        r = r or term_r\n",
    "    return r"
   ]
  },
  {
   "cell_type": "code",
   "execution_count": 5,
   "id": "b2e033a5",
   "metadata": {},
   "outputs": [],
   "source": [
    "def count_paths(M, N, start, end):\n",
    "    dp = [[0] * N for _ in range(M)]\n",
    "    dp[0][0] = 1\n",
    "\n",
    "    for i in range(M):\n",
    "        for j in range(N):\n",
    "            if i == start[0] and j == start[1]:\n",
    "                continue  # skip the starting point\n",
    "            if i < 0 or j < 0 or i >= M or j >= N:\n",
    "                continue  # outside the grid\n",
    "            if i == end[0] and j == end[1]:\n",
    "                dp[i][j] = dp[i-1][j] + dp[i][j-1] + dp[i][j+1]\n",
    "            else:\n",
    "                dp[i][j] = dp[i-1][j] + dp[i][j-1] + dp[i][j+1]\n",
    "\n",
    "    return dp[end[0]][end[1]]\n"
   ]
  },
  {
   "cell_type": "code",
   "execution_count": 13,
   "id": "9e7607b8",
   "metadata": {},
   "outputs": [],
   "source": [
    "def gridpaths(M, N, x1, y1, x2, y2):\n",
    "    dp = [[0 for j in range(N)] for i in range(M)]\n",
    "    dp[x1][y1] = 1\n",
    "    for i in range(x1, x2+1):\n",
    "        for j in range(y1, y2+1):\n",
    "            if i == x1 and j == y1:\n",
    "                continue\n",
    "            if i == x1:\n",
    "                dp[i][j] = dp[i][j-1]\n",
    "            elif j == y1:\n",
    "                dp[i][j] = dp[i-1][j]\n",
    "            else:\n",
    "                if dp[i-1][j] == 0 or (i > x1 and dp[i][j-1] == 0):\n",
    "                    dp[i][j] = dp[i][j-1]\n",
    "                elif dp[i][j-1] == 0 or (j > y1 and dp[i-1][j] == 0):\n",
    "                    dp[i][j] = dp[i-1][j]\n",
    "                else:\n",
    "                    dp[i][j] = dp[i-1][j] + dp[i][j-1]\n",
    "    return dp[x2][y2]\n",
    "\n",
    "\n"
   ]
  },
  {
   "cell_type": "code",
   "execution_count": 17,
   "id": "1f2bc32a",
   "metadata": {},
   "outputs": [],
   "source": [
    "def gridpaths(M, N, x1, y1, x2, y2):\n",
    "    dp = [[0 for j in range(N)] for i in range(M)]\n",
    "\n",
    "    dp[x1][y1] = 1\n",
    "    \n",
    "    # fill dp array\n",
    "    for i in range(x1, x2+1):\n",
    "        for j in range(y1, y2+1):\n",
    "            if i == x1 and j == y1:\n",
    "                continue\n",
    "            if i == x1:\n",
    "                dp[i][j] = dp[i][j-1] if j > y1 and dp[i][j-1] > 0 else 0\n",
    "            elif j == y1:\n",
    "                dp[i][j] = dp[i-1][j] if i > x1 and dp[i-1][j] > 0 else 0\n",
    "            else:\n",
    "                dp[i][j] = (dp[i-1][j] if dp[i-1][j] > 0 and not (i > x1 and dp[i][j-1] == 0) else 0) + \\\n",
    "                           (dp[i][j-1] if dp[i][j-1] > 0 and not (j > y1 and dp[i-1][j] == 0) else 0)\n",
    "    \n",
    "    # return number of paths from start to end\n",
    "    return dp[x2][y2]\n",
    "\n"
   ]
  },
  {
   "cell_type": "code",
   "execution_count": 18,
   "id": "7086885b",
   "metadata": {},
   "outputs": [
    {
     "data": {
      "text/plain": [
       "15"
      ]
     },
     "execution_count": 18,
     "metadata": {},
     "output_type": "execute_result"
    }
   ],
   "source": [
    "gridpaths(9, 6, 2,2, 6,4)"
   ]
  },
  {
   "cell_type": "code",
   "execution_count": null,
   "id": "c8bb26b0",
   "metadata": {},
   "outputs": [],
   "source": [
    "def gridpaths(M, N, x1, y1, x2, y2):\n",
    "    pr = [[0] * N for _ in range(M)]\n",
    "    pr[0][0] = 1\n",
    "    for i in range"
   ]
  }
 ],
 "metadata": {
  "kernelspec": {
   "display_name": "Python 3 (ipykernel)",
   "language": "python",
   "name": "python3"
  },
  "language_info": {
   "codemirror_mode": {
    "name": "ipython",
    "version": 3
   },
   "file_extension": ".py",
   "mimetype": "text/x-python",
   "name": "python",
   "nbconvert_exporter": "python",
   "pygments_lexer": "ipython3",
   "version": "3.9.13"
  }
 },
 "nbformat": 4,
 "nbformat_minor": 5
}
