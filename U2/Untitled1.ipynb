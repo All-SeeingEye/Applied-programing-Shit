{
 "cells": [
  {
   "cell_type": "code",
   "execution_count": 46,
   "id": "4c2caa33",
   "metadata": {},
   "outputs": [],
   "source": [
    "def aliquot(n):\n",
    "    sum = 0 \n",
    "    if n == 1:\n",
    "        return 0\n",
    "    for i in range(2, n):\n",
    "        if n % i == 0: \n",
    "            sum += i\n",
    "    return sum + 1\n",
    "\n",
    "def checkperfect(n):\n",
    "    s = aliquot(n)\n",
    "    if s > n:\n",
    "        return \"abundant\"\n",
    "    elif s < n:\n",
    "        return \"deficient\" \n",
    "    else:\n",
    "        return \"perfect\""
   ]
  },
  {
   "cell_type": "code",
   "execution_count": 47,
   "id": "c4ada893",
   "metadata": {},
   "outputs": [
    {
     "data": {
      "text/plain": [
       "'deficient'"
      ]
     },
     "execution_count": 47,
     "metadata": {},
     "output_type": "execute_result"
    }
   ],
   "source": [
    "checkperfect(2)"
   ]
  },
  {
   "cell_type": "code",
   "execution_count": 64,
   "id": "1fb7f80a",
   "metadata": {},
   "outputs": [
    {
     "name": "stdout",
     "output_type": "stream",
     "text": [
      "True\n"
     ]
    },
    {
     "data": {
      "text/plain": [
       "'hello'"
      ]
     },
     "execution_count": 64,
     "metadata": {},
     "output_type": "execute_result"
    }
   ],
   "source": [
    "s = 'Hel%Lo'\n",
    "print(s[0].isalpha())\n",
    "ss = []\n",
    "for alpha in s:\n",
    "#     ss = []\n",
    "    if alpha.isalpha():\n",
    "        ss.append(alpha)\n",
    "k = ''.join(ss)\n",
    "\n",
    "k.lower()"
   ]
  },
  {
   "cell_type": "code",
   "execution_count": 67,
   "id": "713b9472",
   "metadata": {},
   "outputs": [],
   "source": [
    "def palindrome(s):\n",
    "    string = []\n",
    "    for a in s:\n",
    "        if a.isalpha():\n",
    "            string.append(a)\n",
    "    ss = ''.join(string)\n",
    "    ss = ss.lower()\n",
    "    if ss == ss[::-1]:\n",
    "        return True\n",
    "    else:\n",
    "        return False"
   ]
  },
  {
   "cell_type": "code",
   "execution_count": 94,
   "id": "90eedcd4",
   "metadata": {},
   "outputs": [
    {
     "data": {
      "text/plain": [
       "1"
      ]
     },
     "execution_count": 94,
     "metadata": {},
     "output_type": "execute_result"
    }
   ],
   "source": [
    "int(pow(2,0.5))"
   ]
  },
  {
   "cell_type": "code",
   "execution_count": 1,
   "id": "b927eb0c",
   "metadata": {},
   "outputs": [],
   "source": [
    "def checkprime(n):\n",
    "    if n==1:\n",
    "        return False\n",
    "    for i in range(2,int(pow(n,0.5))+1):\n",
    "        if n%i == 0:\n",
    "            return False   \n",
    "    return True"
   ]
  },
  {
   "cell_type": "code",
   "execution_count": 2,
   "id": "170c52a1",
   "metadata": {},
   "outputs": [],
   "source": [
    "def primesum(N):\n",
    "    sus = 0\n",
    "    for i in range(N):\n",
    "        if checkprime(i):\n",
    "            sus += i\n",
    "    return sus"
   ]
  },
  {
   "cell_type": "code",
   "execution_count": null,
   "id": "6a4af476",
   "metadata": {},
   "outputs": [],
   "source": [
    "primesum(10000000000)"
   ]
  },
  {
   "cell_type": "code",
   "execution_count": 1,
   "id": "4e5ad8bc",
   "metadata": {},
   "outputs": [
    {
     "ename": "SyntaxError",
     "evalue": "invalid syntax (2825446704.py, line 8)",
     "output_type": "error",
     "traceback": [
      "\u001b[0;36m  Input \u001b[0;32mIn [1]\u001b[0;36m\u001b[0m\n\u001b[0;31m    ls[i]+=\u001b[0m\n\u001b[0m            ^\u001b[0m\n\u001b[0;31mSyntaxError\u001b[0m\u001b[0;31m:\u001b[0m invalid syntax\n"
     ]
    }
   ],
   "source": [
    "def convolve(A, B):\n",
    "    leng = len(A) + len(B) - 1\n",
    "    ls = []\n",
    "    for i in range(leng):\n",
    "        ls.append(0)\n",
    "        \n",
    "    for i in range(len(B)):\n",
    "        ls[i]+= \n",
    "    return "
   ]
  },
  {
   "cell_type": "code",
   "execution_count": 2,
   "id": "985aa8e4",
   "metadata": {},
   "outputs": [],
   "source": [
    "def convolve(A, B):\n",
    "    len1 = len(A)\n",
    "    len2 = len(list2)\n",
    "    convolved = [0] * (len1 + len2 - 1)\n",
    "\n",
    "    for i in range(len1):\n",
    "        for j in range(len2):\n",
    "            convolved[i + j] += list1[i] * list2[j]\n",
    "\n",
    "    return convolved\n"
   ]
  },
  {
   "cell_type": "code",
   "execution_count": 3,
   "id": "2cd53b55",
   "metadata": {},
   "outputs": [],
   "source": [
    "def polyadd(A, B):\n",
    "    len1 = len(A)\n",
    "    len2 = len(B)\n",
    "    if len1>len2:\n",
    "        for i in range(len2):\n",
    "            A[i] = A[i] + B[i]\n",
    "        return A[i]\n",
    "    elif len2>len1:\n",
    "        for i in range(len1):\n",
    "            B[i] = B[i] + A[i]\n",
    "        return B[i]\n",
    "    else:\n",
    "        for i in range(len1):\n",
    "            A[i]= A[i] + B[i]\n",
    "        return A[i]\n",
    "    \n",
    "def polymul(A, B):\n",
    "    len1 = len(A)\n",
    "    len2 = len(B)\n",
    "    result = [0] * (len1 + len2 - 1)\n",
    "\n",
    "    for i in range(len1):\n",
    "        for j in range(len2):\n",
    "            result[i + j] += A[i] * B[j]\n",
    "\n",
    "    return result\n",
    "    \n",
    "def divide_polynomials(A, B):\n",
    "    len1 = len(A)\n",
    "    len2 = len(B)\n",
    "    q = [0] * (len1 - len2 + 1)\n",
    "    r = A.copy()\n",
    "    while len(r) >= len2:\n",
    "        curr_q = r[0] / B[0]\n",
    "        q[len(r) - len2] = curr_q\n",
    "        for i in range(len2):\n",
    "            r[i] -= curr_q * B[i]\n",
    "        r.pop(0)\n",
    "\n",
    "    return q, r"
   ]
  },
  {
   "cell_type": "code",
   "execution_count": null,
   "id": "d47fd1d3",
   "metadata": {},
   "outputs": [],
   "source": [
    "def polydiv(A, B):\n",
    "    \n",
    "    len1 = len(A)\n",
    "    len2 = len(B)\n",
    "    quotient = [0] * (len1 - len2 + 1)\n",
    "    remainder = A.copy()\n",
    "\n",
    "    for i in range(len1 - len2 + 1):\n",
    "        curr_quotient = remainder[0] / B[0]\n",
    "        quotient[i] = curr_quotient\n",
    "\n",
    "        for j in range(len2):\n",
    "            remainder[i + j] -= curr_quotient * poly2[j]\n",
    "\n",
    "    while len(remainder) > 0 and remainder[0] == 0:\n",
    "        remainder.pop(0)\n",
    "\n",
    "    return quotient, remainder\n",
    "\n"
   ]
  },
  {
   "cell_type": "code",
   "execution_count": null,
   "id": "b868843b",
   "metadata": {},
   "outputs": [],
   "source": [
    "def crc8(input_list, polynomial):\n",
    "    input_list += [0] * 8\n",
    "    remainder = input_list[:len(polynomial)].copy()\n",
    "    for i in range(len(input_list) - len(polynomial)):\n",
    "        if remainder[0] == 1:\n",
    "            for j in range(len(polynomial)):\n",
    "                remainder[j] = remainder[j] ^ polynomial[j]\n",
    "        remainder.pop(0)\n",
    "        remainder.append(input_list[i + len(polynomial)])\n",
    "\n",
    "    return remainder\n"
   ]
  },
  {
   "cell_type": "code",
   "execution_count": null,
   "id": "bda05dce",
   "metadata": {},
   "outputs": [],
   "source": [
    "def crc8(A):\n",
    "    # Define the polynomial G(x) = x^8 + x^2 + x + 1\n",
    "    polynomial = [1, 0, 0, 0, 0, 0, 1, 1]\n",
    "\n",
    "    # Pad the input list with 8 zeros\n",
    "    A += [0] * 8\n",
    "\n",
    "    # Perform long division using XOR operation\n",
    "    remainder = A[:len(polynomial)].copy()\n",
    "    for i in range(len(A) - len(polynomial)):\n",
    "        if remainder[0] == 1:\n",
    "            for j in range(len(polynomial)):\n",
    "                remainder[j] = remainder[j] ^ polynomial[j]\n",
    "        remainder.pop(0)\n",
    "        remainder.append(A[i + len(polynomial)])\n",
    "\n",
    "    return remainder\n"
   ]
  },
  {
   "cell_type": "code",
   "execution_count": 1,
   "id": "bc737757",
   "metadata": {},
   "outputs": [
    {
     "data": {
      "text/plain": [
       "1j"
      ]
     },
     "execution_count": 1,
     "metadata": {},
     "output_type": "execute_result"
    }
   ],
   "source": [
    "1j"
   ]
  },
  {
   "cell_type": "code",
   "execution_count": 3,
   "id": "32a2f5fb",
   "metadata": {},
   "outputs": [],
   "source": [
    "r1 = 0.045\n",
    "r2 = 0.054\n",
    "x1 = 0.29j\n",
    "x2 = 0.28j\n",
    "xm = 9.6j\n",
    "\n",
    "equ = (r2 + x2)*xm/(r2 + x2 + xm) + r1 + x1"
   ]
  },
  {
   "cell_type": "code",
   "execution_count": 4,
   "id": "537d2faa",
   "metadata": {},
   "outputs": [
    {
     "data": {
      "text/plain": [
       "1.1626964138723481"
      ]
     },
     "execution_count": 4,
     "metadata": {},
     "output_type": "execute_result"
    }
   ],
   "source": [
    "Z = abs(equ)\n",
    "abs(equ)"
   ]
  },
  {
   "cell_type": "code",
   "execution_count": 18,
   "id": "e4e2c2d8",
   "metadata": {},
   "outputs": [
    {
     "data": {
      "text/plain": [
       "0.09598111896459026"
      ]
     },
     "execution_count": 18,
     "metadata": {},
     "output_type": "execute_result"
    }
   ],
   "source": [
    "R = equ.real\n",
    "equ.real"
   ]
  },
  {
   "cell_type": "code",
   "execution_count": 19,
   "id": "bd385055",
   "metadata": {},
   "outputs": [
    {
     "data": {
      "text/plain": [
       "0.562343419071264"
      ]
     },
     "execution_count": 19,
     "metadata": {},
     "output_type": "execute_result"
    }
   ],
   "source": [
    "equ.imag"
   ]
  },
  {
   "cell_type": "code",
   "execution_count": 20,
   "id": "ea6c0646",
   "metadata": {},
   "outputs": [
    {
     "data": {
      "text/plain": [
       "(0.09598111896459026+0.562343419071264j)"
      ]
     },
     "execution_count": 20,
     "metadata": {},
     "output_type": "execute_result"
    }
   ],
   "source": [
    "equ"
   ]
  },
  {
   "cell_type": "code",
   "execution_count": 21,
   "id": "623bd1b6",
   "metadata": {},
   "outputs": [
    {
     "data": {
      "text/plain": [
       "0.16824752239445182"
      ]
     },
     "execution_count": 21,
     "metadata": {},
     "output_type": "execute_result"
    }
   ],
   "source": [
    "R/Z"
   ]
  },
  {
   "cell_type": "code",
   "execution_count": 22,
   "id": "fd0f51f4",
   "metadata": {},
   "outputs": [
    {
     "data": {
      "text/plain": [
       "1367.0335035351734"
      ]
     },
     "execution_count": 22,
     "metadata": {},
     "output_type": "execute_result"
    }
   ],
   "source": [
    "230/R*Z"
   ]
  },
  {
   "cell_type": "code",
   "execution_count": null,
   "id": "e899af2c",
   "metadata": {},
   "outputs": [],
   "source": []
  }
 ],
 "metadata": {
  "kernelspec": {
   "display_name": "Python 3 (ipykernel)",
   "language": "python",
   "name": "python3"
  },
  "language_info": {
   "codemirror_mode": {
    "name": "ipython",
    "version": 3
   },
   "file_extension": ".py",
   "mimetype": "text/x-python",
   "name": "python",
   "nbconvert_exporter": "python",
   "pygments_lexer": "ipython3",
   "version": "3.9.13"
  }
 },
 "nbformat": 4,
 "nbformat_minor": 5
}
