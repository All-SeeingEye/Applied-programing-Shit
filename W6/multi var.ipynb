{
 "cells": [
  {
   "cell_type": "code",
   "execution_count": 17,
   "id": "7b20650b",
   "metadata": {},
   "outputs": [],
   "source": [
    "import numpy as np\n",
    "def gradient_descent(func, derivative, start_point, learning_rate, error=1e-6, max_iterations=100000):\n",
    "    current_point = start_point\n",
    "    for i in range(max_iterations):\n",
    "        prev_point = current_point\n",
    "        gradient = derivative(current_point)\n",
    "#         current_point -= learning_rate * gradient\n",
    "        current_point = current_point - learning_rate * gradient\n",
    "        if np.linalg.norm(current_point - prev_point) < error:\n",
    "            break\n",
    "    return current_point\n"
   ]
  },
  {
   "cell_type": "code",
   "execution_count": 19,
   "id": "a54ec164",
   "metadata": {},
   "outputs": [
    {
     "name": "stdout",
     "output_type": "stream",
     "text": [
      "Minimum point found: [0.63531964 0.16872481 0.36861922]\n"
     ]
    }
   ],
   "source": [
    "def func(x):\n",
    "    return x[0]**2 + 2*x[1]**2 + 3*x[2]**2 + 4*x[0]*x[1] + 5*x[1]*x[2]\n",
    "\n",
    "def deri(x):\n",
    "    return np.array([\n",
    "        2*x[0] + 4*x[1],\n",
    "        4*x[1] + 4*x[0] + 5*x[2],\n",
    "        6*x[2] + 5*x[1]\n",
    "    ])\n",
    "\n",
    "# Define the starting point and learning rate\n",
    "start_point = np.array([1, 1, 1])\n",
    "learning_rate = 0.000001\n",
    "\n",
    "# Use the gradient_descent function to find the minimum\n",
    "minimum = gradient_descent(func, deri, start_point, learning_rate)\n",
    "\n",
    "\n",
    "print(f\"Minimum point found: {minimum}\")"
   ]
  },
  {
   "cell_type": "code",
   "execution_count": 15,
   "id": "2efffd77",
   "metadata": {},
   "outputs": [],
   "source": [
    "import math\n",
    "def grad_descent_mult(func,deri,start_point,learning_rate):\n",
    "    iteration=10000\n",
    "   \n",
    "    min_point=start_point\n",
    "    for items in range(iteration):\n",
    "        point=min_point\n",
    "        min_point=min_point-(deri(point)*learning_rate)\n",
    "        if(np.linalg.norm(min_point - point) <1e-7):\n",
    "            break\n",
    "            \n",
    "    return min_point"
   ]
  },
  {
   "cell_type": "code",
   "execution_count": 16,
   "id": "758b1990",
   "metadata": {},
   "outputs": [
    {
     "data": {
      "text/plain": [
       "array([0.63530878, 0.16870532, 0.36859958])"
      ]
     },
     "execution_count": 16,
     "metadata": {},
     "output_type": "execute_result"
    }
   ],
   "source": [
    "\n",
    "grad_descent_mult(func,deri,start_point,learning_rate)"
   ]
  },
  {
   "cell_type": "code",
   "execution_count": null,
   "id": "995a8abf",
   "metadata": {},
   "outputs": [],
   "source": []
  }
 ],
 "metadata": {
  "kernelspec": {
   "display_name": "Python 3 (ipykernel)",
   "language": "python",
   "name": "python3"
  },
  "language_info": {
   "codemirror_mode": {
    "name": "ipython",
    "version": 3
   },
   "file_extension": ".py",
   "mimetype": "text/x-python",
   "name": "python",
   "nbconvert_exporter": "python",
   "pygments_lexer": "ipython3",
   "version": "3.9.13"
  }
 },
 "nbformat": 4,
 "nbformat_minor": 5
}
