{
 "cells": [
  {
   "cell_type": "markdown",
   "id": "0844afb4",
   "metadata": {},
   "source": [
    "# Assignment Goals\n",
    "\n",
    "Assignment 6 requires you to implement gradient descent based optimization.  \n",
    "\n",
    "- Minimum requirement: adapt the code from the presentation to optimize as many of the functions below as possible.\n",
    "- Write a generic function that will take in 2 other functions as input, and a range of values within which to search, and then implement gradient descent to find the optimum.  The basic requirements of gradient descent are already available in the presentation.\n",
    "-  For some assignments, the gradient has not been given.  You can either write the function on your own, or suggest other methods that can achieve this purpose."
   ]
  },
  {
   "cell_type": "code",
   "execution_count": 14,
   "id": "e669c869-9fd2-4428-985d-0e8583613c33",
   "metadata": {},
   "outputs": [],
   "source": [
    "# The following imports are assumed for the rest of the problems\n",
    "import numpy as np\n",
    "from numpy import cos, sin, pi, exp "
   ]
  },
  {
   "cell_type": "markdown",
   "id": "cdffc3cc",
   "metadata": {},
   "source": [
    "## Problem 1 - 1-D simple polynomial\n",
    "\n",
    "The gradient is not specified.  You can write the function for gradient on your own.  The range within which to search for minimum is [-5, 5]."
   ]
  },
  {
   "cell_type": "code",
   "execution_count": null,
   "id": "5df21fc4",
   "metadata": {},
   "outputs": [],
   "source": [
    "def f1(x):\n",
    "    return x ** 2 + 3 * x + 8"
   ]
  },
  {
   "cell_type": "markdown",
   "id": "e6f81aa8",
   "metadata": {},
   "source": [
    "## Problem 2 - 2-D polynomial\n",
    "\n",
    "Functions for derivatives, as well as the range of values within which to search for the minimum, are given."
   ]
  },
  {
   "cell_type": "code",
   "execution_count": 1,
   "id": "6535029a-caea-4da4-a613-fb6a2d69491c",
   "metadata": {},
   "outputs": [
    {
     "ename": "TypeError",
     "evalue": "df3_dx() missing 1 required positional argument: 'y'",
     "output_type": "error",
     "traceback": [
      "\u001b[0;31m---------------------------------------------------------------------------\u001b[0m",
      "\u001b[0;31mTypeError\u001b[0m                                 Traceback (most recent call last)",
      "Input \u001b[0;32mIn [1]\u001b[0m, in \u001b[0;36m<cell line: 35>\u001b[0;34m()\u001b[0m\n\u001b[1;32m     31\u001b[0m             \u001b[38;5;28;01mbreak\u001b[39;00m\n\u001b[1;32m     32\u001b[0m     \u001b[38;5;28;01mreturn\u001b[39;00m [current_point_x,current_point_y]\n\u001b[0;32m---> 35\u001b[0m \u001b[43mgradient_descent_for_2variables\u001b[49m\u001b[43m(\u001b[49m\u001b[43mf3\u001b[49m\u001b[43m,\u001b[49m\u001b[43m \u001b[49m\u001b[43mdf3_dx\u001b[49m\u001b[43m,\u001b[49m\u001b[43mdf3_dy\u001b[49m\u001b[43m,\u001b[49m\u001b[38;5;241;43m-\u001b[39;49m\u001b[38;5;241;43m10\u001b[39;49m\u001b[43m,\u001b[49m\u001b[38;5;241;43m-\u001b[39;49m\u001b[38;5;241;43m10\u001b[39;49m\u001b[43m,\u001b[49m\u001b[43m \u001b[49m\u001b[38;5;241;43m0.1\u001b[39;49m\u001b[43m)\u001b[49m\n",
      "Input \u001b[0;32mIn [1]\u001b[0m, in \u001b[0;36mgradient_descent_for_2variables\u001b[0;34m(func, derivative_x, derivative_y, start_point_x, start_point_y, learning_rate, precesion, max_iterations)\u001b[0m\n\u001b[1;32m     23\u001b[0m \u001b[38;5;28;01mfor\u001b[39;00m i \u001b[38;5;129;01min\u001b[39;00m \u001b[38;5;28mrange\u001b[39m(max_iterations):\n\u001b[1;32m     24\u001b[0m     prev_point_x,prev_point_y \u001b[38;5;241m=\u001b[39m current_point_x,current_point_y\n\u001b[0;32m---> 25\u001b[0m     gradient_x,gradient_y \u001b[38;5;241m=\u001b[39m \u001b[43mderivative_x\u001b[49m\u001b[43m(\u001b[49m\u001b[43mcurrent_point_x\u001b[49m\u001b[43m)\u001b[49m,derivative_y(current_point_y)\n\u001b[1;32m     27\u001b[0m     current_point_x \u001b[38;5;241m-\u001b[39m\u001b[38;5;241m=\u001b[39m learning_rate \u001b[38;5;241m*\u001b[39m gradient_x\n\u001b[1;32m     28\u001b[0m     current_point_y \u001b[38;5;241m-\u001b[39m\u001b[38;5;241m=\u001b[39m learning_rate \u001b[38;5;241m*\u001b[39m gradient_y\n",
      "\u001b[0;31mTypeError\u001b[0m: df3_dx() missing 1 required positional argument: 'y'"
     ]
    }
   ],
   "source": [
    "xlim3 =  [-10, 10]\n",
    "ylim3 =  [-10, 10]\n",
    "def f3(x, y):\n",
    "    return x**4 - 16*x**3 + 96*x**2 - 256*x + y**2 - 4*y + 262\n",
    "\n",
    "def df3_dx(x, y):\n",
    "    return 4*x**3 - 48*x**2 + 192*x - 256\n",
    "\n",
    "def df3_dy(x, y):\n",
    "    return 2*y - 4\n",
    "\n",
    "\n",
    "\n",
    "\n",
    "import math\n",
    "def pythagores(x1,y1,x2,y2):\n",
    "    distance = math.sqrt((x1-x2)**2 + (y1-y2)**2)\n",
    "    return distance\n",
    "\n",
    "\n",
    "def gradient_descent_for_2variables(func, derivative_x,derivative_y,start_point_x,start_point_y, learning_rate, precesion=1e-6, max_iterations=10000):\n",
    "    current_point_x,current_point_y = start_point_x,start_point_y\n",
    "    for i in range(max_iterations):\n",
    "        prev_point_x,prev_point_y = current_point_x,current_point_y\n",
    "        gradient_x,gradient_y = derivative_x(current_point_x),derivative_y(current_point_y)\n",
    "        \n",
    "        current_point_x -= learning_rate * gradient_x\n",
    "        current_point_y -= learning_rate * gradient_y\n",
    "        \n",
    "        if (pythagores(current_point_x,current_point_y,prev_point_x,prev_point_y)) < precesion:\n",
    "            break\n",
    "    return [current_point_x,current_point_y]\n",
    "        \n",
    "    \n",
    "gradient_descent_for_2variables(f3, df3_dx,df3_dy,-10,-10, 0.1)  "
   ]
  },
  {
   "cell_type": "markdown",
   "id": "d7336ff0",
   "metadata": {},
   "source": [
    "## Problem 3 - 2-D function \n",
    "\n",
    "Derivatives and limits given. "
   ]
  },
  {
   "cell_type": "code",
   "execution_count": 18,
   "id": "a08ed29e-d92d-4f8d-8785-e9b804dadd36",
   "metadata": {},
   "outputs": [],
   "source": [
    "xlim4 = [-pi, pi]\n",
    "def f4(x,y):\n",
    "    return exp(-(x - y)**2)*sin(y)\n",
    "\n",
    "def f4_dx(x, y):\n",
    "    return -2*exp(-(x - y)**2)*sin(y)*(x - y)\n",
    "\n",
    "def f4_dy(x, y):\n",
    "    return exp(-(x - y)**2)*cos(y) + 2*exp(-(x - y)**2)*sin(y)*(x - y)\n"
   ]
  },
  {
   "cell_type": "markdown",
   "id": "75f357cd",
   "metadata": {},
   "source": [
    "## Problem 4 - 1-D trigonometric\n",
    "\n",
    "Derivative not given.  Optimization range [0, 2*pi]"
   ]
  },
  {
   "cell_type": "code",
   "execution_count": 19,
   "id": "b4684cb5-714d-422e-9e4c-2ea02f865951",
   "metadata": {},
   "outputs": [],
   "source": [
    "def f5(x):\n",
    "    return cos(x)**4 - sin(x)**3 - 4*sin(x)**2 + cos(x) + 1\n"
   ]
  },
  {
   "cell_type": "code",
   "execution_count": null,
   "id": "751d86b0-0c91-410d-89af-ab9118cf7866",
   "metadata": {},
   "outputs": [],
   "source": []
  }
 ],
 "metadata": {
  "kernelspec": {
   "display_name": "Python 3 (ipykernel)",
   "language": "python",
   "name": "python3"
  },
  "language_info": {
   "codemirror_mode": {
    "name": "ipython",
    "version": 3
   },
   "file_extension": ".py",
   "mimetype": "text/x-python",
   "name": "python",
   "nbconvert_exporter": "python",
   "pygments_lexer": "ipython3",
   "version": "3.9.13"
  }
 },
 "nbformat": 4,
 "nbformat_minor": 5
}
