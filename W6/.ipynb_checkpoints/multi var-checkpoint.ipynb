{
 "cells": [
  {
   "cell_type": "code",
   "execution_count": 1,
   "id": "7b20650b",
   "metadata": {},
   "outputs": [],
   "source": [
    "import numpy as np\n",
    "def gradient_descent(func, derivative, start_point, learning_rate, error=1e-6, max_iterations=100000):\n",
    "    current_point = start_point\n",
    "    for i in range(max_iterations):\n",
    "        prev_point = current_point\n",
    "        gradient = derivative(current_point)\n",
    "#         current_point -= learning_rate * gradient\n",
    "        current_point = current_point - learning_rate * gradient\n",
    "        if np.linalg.norm(current_point - prev_point) < error:\n",
    "            break\n",
    "    return current_point\n"
   ]
  },
  {
   "cell_type": "code",
   "execution_count": 39,
   "id": "a54ec164",
   "metadata": {},
   "outputs": [
    {
     "name": "stdout",
     "output_type": "stream",
     "text": [
      "Minimum point found: [ 4.67840115e+107 -5.26141227e+107  3.09550544e+107]\n"
     ]
    }
   ],
   "source": [
    "def func(x):\n",
    "    return x[0]**2 + 2*x[1]**2 + 3*x[2]**2 + 4*x[0]*x[1] + 5*x[1]*x[2]\n",
    "\n",
    "def deri(x):\n",
    "    return np.array([\n",
    "        2*x[0] + 4*x[1],\n",
    "        4*x[1] + 4*x[0] + 5*x[2],\n",
    "        6*x[2] + 5*x[1]\n",
    "    ])\n",
    "\n",
    "# Define the starting point and learning rate\n",
    "start_point = np.array([1, 1, 1])\n",
    "learning_rate = 0.001\n",
    "\n",
    "# Use the gradient_descent function to find the minimum\n",
    "minimum = gradient_descent(func, deri, start_point, learning_rate)\n",
    "\n",
    "\n",
    "print(f\"Minimum point found: {minimum}\")"
   ]
  }
 ],
 "metadata": {
  "kernelspec": {
   "display_name": "Python 3 (ipykernel)",
   "language": "python",
   "name": "python3"
  },
  "language_info": {
   "codemirror_mode": {
    "name": "ipython",
    "version": 3
   },
   "file_extension": ".py",
   "mimetype": "text/x-python",
   "name": "python",
   "nbconvert_exporter": "python",
   "pygments_lexer": "ipython3",
   "version": "3.9.13"
  }
 },
 "nbformat": 4,
 "nbformat_minor": 5
}
