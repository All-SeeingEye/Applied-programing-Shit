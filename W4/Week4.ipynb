{
 "cells": [
  {
   "cell_type": "code",
   "execution_count": 11,
   "metadata": {},
   "outputs": [],
   "source": [
    "def pri(A):\n",
    "    for i in A:\n",
    "        print(i)"
   ]
  },
  {
   "cell_type": "code",
   "execution_count": 12,
   "metadata": {},
   "outputs": [],
   "source": [
    "def andFunc(a,b):\n",
    "    if(a==0 or b==0):\n",
    "        return 0\n",
    "    else:\n",
    "        return 1\n",
    "\n",
    "def orFunc(a,b):\n",
    "    if(a==1 or b==1):\n",
    "        return 1\n",
    "    else:\n",
    "        return 0\n",
    "\n",
    "def invFunc(a):\n",
    "    if(a==1):\n",
    "        return 0\n",
    "    else:\n",
    "        return 1\n",
    "\n",
    "def norFunc(a,b):\n",
    "    if(a==1 or b==1):\n",
    "        return 0\n",
    "    else:\n",
    "        return 1\n",
    "\n",
    "def nandFunc(a,b):\n",
    "    if(a==0 or b==0):\n",
    "        return 1\n",
    "    else:\n",
    "        return 0\n",
    "\n",
    "def xorFunc(a,b):\n",
    "    if ((a==1 and b==0) or (a==0 and b==1)):\n",
    "        return 1\n",
    "    else:\n",
    "        return 0\n",
    "        \n",
    "def xnorFunc(a,b):\n",
    "    if ((a==1 and b==0) or (a==0 and b==1)):\n",
    "        return 0\n",
    "    else:\n",
    "        return 1\n"
   ]
  },
  {
   "cell_type": "markdown",
   "metadata": {},
   "source": [
    "# TOPOLOGICAL SORT FOR CIRCUIT EVALUATION"
   ]
  },
  {
   "cell_type": "code",
   "execution_count": 13,
   "metadata": {},
   "outputs": [],
   "source": [
    "import networkx as nx\n",
    "import matplotlib.pyplot as plt"
   ]
  },
  {
   "cell_type": "markdown",
   "metadata": {},
   "source": [
    "## Reading the netlist"
   ]
  },
  {
   "cell_type": "code",
   "execution_count": 14,
   "metadata": {},
   "outputs": [
    {
     "name": "stdout",
     "output_type": "stream",
     "text": [
      "['g51', 'nand2', 'n_3', 'n_0', 'N22']\n",
      "['g52', 'nand2', 'n_3', 'n_2', 'N23']\n",
      "['g53', 'nand2', 'n_1', 'N2', 'n_3']\n",
      "['g54', 'nand2', 'n_1', 'N7', 'n_2']\n",
      "['g55', 'nand2', 'N1', 'N3', 'n_0']\n",
      "['g56', 'nand2', 'N3', 'N6', 'n_1']\n"
     ]
    }
   ],
   "source": [
    "# Reading the data file\n",
    "def readNetlist(points):\n",
    "    data = []\n",
    "    for point in points:\n",
    "        point = point.rstrip('\\n') \n",
    "        point = point.split()\n",
    "        data.append(point)\n",
    "    return data \n",
    "\n",
    "with open('./benchmarks/c17.net') as f:\n",
    "    lines = f.readlines()\n",
    "\n",
    "netList = readNetlist(lines)\n",
    "pri(netList)"
   ]
  },
  {
   "cell_type": "markdown",
   "metadata": {},
   "source": [
    "## Reading the inputs"
   ]
  },
  {
   "cell_type": "code",
   "execution_count": 15,
   "metadata": {},
   "outputs": [
    {
     "name": "stdout",
     "output_type": "stream",
     "text": [
      "['N1', 'N2', 'N3', 'N6', 'N7']\n",
      "['0', '1', '0', '0', '0']\n",
      "['0', '0', '1', '0', '0']\n",
      "['1', '0', '0', '0', '0']\n",
      "['0', '0', '1', '1', '1']\n",
      "['1', '1', '1', '1', '1']\n",
      "['1', '1', '1', '0', '0']\n",
      "['1', '1', '1', '1', '0']\n",
      "['1', '1', '0', '0', '0']\n",
      "['0', '1', '1', '0', '1']\n",
      "['0', '0', '1', '1', '0']\n"
     ]
    }
   ],
   "source": [
    "# Reading the input file\n",
    "def readInput(points):\n",
    "    data = []\n",
    "    for point in points:\n",
    "        point = point.rstrip('\\n') \n",
    "        point = point.split()\n",
    "        data.append(point)\n",
    "    return data \n",
    "\n",
    "with open('./benchmarks/c17.inputs') as f:\n",
    "    ln = f.readlines()\n",
    "\n",
    "netInput = readNetlist(ln)\n",
    "pri(netInput)"
   ]
  },
  {
   "cell_type": "code",
   "execution_count": 16,
   "metadata": {},
   "outputs": [
    {
     "name": "stdout",
     "output_type": "stream",
     "text": [
      "['g51', 'nand2', 'n_3', 'n_0', 'N22']\n",
      "['g52', 'nand2', 'n_3', 'n_2', 'N23']\n",
      "['g53', 'nand2', 'n_1', 'N2', 'n_3']\n",
      "['g54', 'nand2', 'n_1', 'N7', 'n_2']\n",
      "['g55', 'nand2', 'N1', 'N3', 'n_0']\n",
      "['g56', 'nand2', 'N3', 'N6', 'n_1']\n",
      "Nodes in topological order ['N2', 'N7', 'N1', 'N3', 'N6', 'n_0', 'n_1', 'n_3', 'n_2', 'N22', 'N23']\n"
     ]
    }
   ],
   "source": [
    "g = nx.DiGraph()\n",
    "\n",
    "for i in netList:\n",
    "    print(i)\n",
    "    if(i[1]=='inv'):\n",
    "        g.add_edge(i[2],i[3])\n",
    "    else:\n",
    "        g.add_edge(i[2],i[4])\n",
    "        g.add_edge(i[3],i[4])\n",
    "# pri(g)\n",
    "nl =  list(nx.topological_sort(g))\n",
    "print('Nodes in topological order', nl)\n",
    "\n"
   ]
  },
  {
   "cell_type": "code",
   "execution_count": 17,
   "metadata": {},
   "outputs": [
    {
     "name": "stdout",
     "output_type": "stream",
     "text": [
      "{'N22': ['nand2', 'n_3', 'n_0'], 'N23': ['nand2', 'n_3', 'n_2'], 'n_3': ['nand2', 'n_1', 'N2'], 'n_2': ['nand2', 'n_1', 'N7'], 'n_0': ['nand2', 'N1', 'N3'], 'n_1': ['nand2', 'N3', 'N6']}\n"
     ]
    }
   ],
   "source": [
    "info = {}\n",
    "for i in netList:\n",
    "    if(i[1]=='inv'):\n",
    "        info.update({i[3]:[i[1],i[2]]})\n",
    "    else:\n",
    "        info.update({i[4]:[i[1],i[2],i[3]]})\n",
    "\n",
    "print(info)\n"
   ]
  },
  {
   "cell_type": "code",
   "execution_count": 18,
   "metadata": {},
   "outputs": [
    {
     "name": "stdout",
     "output_type": "stream",
     "text": [
      "{'N1': [0, 0, 1, 0, 1, 1, 1, 1, 0, 0], 'N2': [1, 0, 0, 0, 1, 1, 1, 1, 1, 0], 'N3': [0, 1, 0, 1, 1, 1, 1, 0, 1, 1], 'N6': [0, 0, 0, 1, 1, 0, 1, 0, 0, 1], 'N7': [0, 0, 0, 1, 1, 0, 0, 0, 1, 0]}\n"
     ]
    }
   ],
   "source": [
    "inputDict = {}\n",
    "\n",
    "for i in range (len(netInput[0])):\n",
    "    inputDict.update({netInput[0][i]:[]})\n",
    "\n",
    "for i in range(1, len(netInput)):\n",
    "    for j in range(len(netInput[0])):\n",
    "        inputDict[netInput[0][j]].append(int(netInput[i][j]))\n",
    "\n",
    "print(inputDict)"
   ]
  },
  {
   "cell_type": "code",
   "execution_count": 19,
   "metadata": {},
   "outputs": [
    {
     "name": "stdout",
     "output_type": "stream",
     "text": [
      "['N2', 'N7', 'N1', 'N3', 'N6', 'n_0', 'n_1', 'n_3', 'n_2', 'N22', 'N23']\n",
      "[1, 0, 0, 0, 0, 1, 1, 0, 1, 1, 1]\n",
      "[0, 0, 0, 1, 0, 1, 1, 1, 1, 0, 0]\n",
      "[0, 0, 1, 0, 0, 1, 1, 1, 1, 0, 0]\n",
      "[0, 1, 0, 1, 1, 1, 0, 1, 1, 0, 0]\n",
      "[1, 1, 1, 1, 1, 0, 0, 1, 1, 1, 0]\n",
      "[1, 0, 1, 1, 0, 0, 1, 0, 1, 1, 1]\n",
      "[1, 0, 1, 1, 1, 0, 0, 1, 1, 1, 0]\n",
      "[1, 0, 1, 0, 0, 1, 1, 0, 1, 1, 1]\n",
      "[1, 1, 0, 1, 0, 1, 1, 0, 0, 1, 1]\n",
      "[0, 0, 0, 1, 1, 1, 0, 1, 1, 0, 0]\n"
     ]
    }
   ],
   "source": [
    "# , len(netInput)\n",
    "print(nl)\n",
    "for i in range (1, len(netInput)):\n",
    "    output = []\n",
    "    outputDict = {}\n",
    "\n",
    "    for j in range (len(nl)):\n",
    "        output.append(None)\n",
    "    \n",
    "    # print(output)\n",
    "    \n",
    "    for j in range (len(nl)):\n",
    "        if(nl[j] in inputDict.keys()):\n",
    "            output[j] = inputDict[nl[j]][i-1]\n",
    "            outputDict.update({nl[j]:output[j]})\n",
    "            # print(nl[j],\" \",inputDict[nl[j]][i-1], \" \",output[j])\n",
    "\n",
    "        else:\n",
    "            if (info[nl[j]][0]=='and2'):\n",
    "                output[j] = andFunc(outputDict[info[nl[j]][1]],outputDict[info[nl[j]][2]])\n",
    "                outputDict.update({nl[j]:output[j]})\n",
    "\n",
    "            elif(info[nl[j]][0]=='or2'):\n",
    "                output[j] = orFunc(outputDict[info[nl[j]][1]],outputDict[info[nl[j]][2]])\n",
    "                outputDict.update({nl[j]:output[j]})\n",
    "\n",
    "            elif (info[nl[j]][0]=='inv'):\n",
    "                output[j] = invFunc(outputDict[info[nl[j]][1]])\n",
    "                outputDict.update({nl[j]:output[j]})\n",
    "\n",
    "            elif (info[nl[j]][0]=='nor2'):\n",
    "                output[j] = norFunc(outputDict[info[nl[j]][1]],outputDict[info[nl[j]][2]])\n",
    "                outputDict.update({nl[j]:output[j]})\n",
    "\n",
    "            elif (info[nl[j]][0]=='nand2'):\n",
    "                output[j] = nandFunc(outputDict[info[nl[j]][1]],outputDict[info[nl[j]][2]])\n",
    "                outputDict.update({nl[j]:output[j]})\n",
    "\n",
    "            elif (info[nl[j]][0]=='xor2'):\n",
    "                output[j] = xorFunc(outputDict[info[nl[j]][1]],outputDict[info[nl[j]][2]])\n",
    "                outputDict.update({nl[j]:output[j]})\n",
    "                \n",
    "            elif (info[nl[j]][0]=='xnor2'):\n",
    "                output[j] = xnorFunc(outputDict[info[nl[j]][1]],outputDict[info[nl[j]][2]])\n",
    "                outputDict.update({nl[j]:output[j]})\n",
    "                \n",
    "    print((output))\n",
    "            \n",
    "\n"
   ]
  }
 ],
 "metadata": {
  "kernelspec": {
   "display_name": "Python 3 (ipykernel)",
   "language": "python",
   "name": "python3"
  },
  "language_info": {
   "codemirror_mode": {
    "name": "ipython",
    "version": 3
   },
   "file_extension": ".py",
   "mimetype": "text/x-python",
   "name": "python",
   "nbconvert_exporter": "python",
   "pygments_lexer": "ipython3",
   "version": "3.9.13"
  },
  "vscode": {
   "interpreter": {
    "hash": "c3c6d9a892257278237776a7f0d0403293d8d9148bb4c28a881ecf38b9c85a94"
   }
  }
 },
 "nbformat": 4,
 "nbformat_minor": 2
}
