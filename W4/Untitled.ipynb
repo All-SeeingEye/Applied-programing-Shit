{
 "cells": [
  {
   "cell_type": "code",
   "execution_count": 1,
   "id": "a8b980c1",
   "metadata": {},
   "outputs": [
    {
     "name": "stdout",
     "output_type": "stream",
     "text": [
      "{'i': 'j'}\n"
     ]
    }
   ],
   "source": [
    "v = {}\n",
    "v.update({'i':'j'})\n",
    "print(v)"
   ]
  },
  {
   "cell_type": "code",
   "execution_count": 3,
   "id": "ed95bdc4",
   "metadata": {},
   "outputs": [
    {
     "name": "stdout",
     "output_type": "stream",
     "text": [
      "{'o': 'p'}\n"
     ]
    }
   ],
   "source": [
    "gvalue = {}\n",
    "gvalue.update({'o':'p'})\n",
    "print(gvalue)"
   ]
  },
  {
   "cell_type": "code",
   "execution_count": 5,
   "id": "22e39109",
   "metadata": {},
   "outputs": [
    {
     "name": "stdout",
     "output_type": "stream",
     "text": [
      "{'i': 'l'}\n"
     ]
    }
   ],
   "source": [
    "v = {'i':'j'}\n",
    "v.update({'i':'l'})\n",
    "\n",
    "print(v)"
   ]
  },
  {
   "cell_type": "code",
   "execution_count": null,
   "id": "56a8a890",
   "metadata": {},
   "outputs": [],
   "source": []
  }
 ],
 "metadata": {
  "kernelspec": {
   "display_name": "Python 3 (ipykernel)",
   "language": "python",
   "name": "python3"
  },
  "language_info": {
   "codemirror_mode": {
    "name": "ipython",
    "version": 3
   },
   "file_extension": ".py",
   "mimetype": "text/x-python",
   "name": "python",
   "nbconvert_exporter": "python",
   "pygments_lexer": "ipython3",
   "version": "3.9.13"
  }
 },
 "nbformat": 4,
 "nbformat_minor": 5
}
