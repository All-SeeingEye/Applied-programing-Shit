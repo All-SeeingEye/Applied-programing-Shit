{
 "cells": [
  {
   "cell_type": "code",
   "execution_count": 110,
   "id": "5f08ae6c",
   "metadata": {},
   "outputs": [],
   "source": [
    "# Import neccesray libraries\n",
    "\n",
    "import networkx as nx\n",
    "\n",
    "#define some important functions\n",
    "''''''''''''''''''''''''''''''''''''''''''''''''''''''\n",
    "# Make a function to alphabetically sort the dictinary\n",
    "def sort_d(dictionary):\n",
    "    sorted_keys = sorted(dictionary.keys())\n",
    "    sorted_dict = {key: dictionary[key] for key in sorted_keys}\n",
    "    return sorted_dict\n",
    "''''''''''''''''''''''''''''''''''''''''''''''''''''''\n",
    "# Make a loading function\n",
    "def loader(raw,i):\n",
    "    value = {}\n",
    "    for node in raw[0].split():\n",
    "        '''\n",
    "        set the key of dic as node name and get node name from the first element of the\n",
    "        set the input 1,0 as values, first split the other element the get the coresponding\n",
    "        by getting the index of the node name\n",
    "        '''\n",
    "        value.update({node:raw[i].split()[raw[0].split().index(node)]})\n",
    "    return value\n",
    "''''''''''''''''''''''''''''''''''''''''''''''''''''''\n",
    "# Find input and output pins or nodes from the net list itself\n",
    "\n",
    "# A function that returns intersection of two sets\n",
    "def node_finder(a,b):\n",
    "    aset = set(a)\n",
    "    bset = set(b)\n",
    "    \n",
    "    return aset.intersection(bset)\n",
    "'''\n",
    " This function returns two value first the input pins or nodes and second the output pins \n",
    " mixed with some in between nodes.\n",
    "'''\n",
    "\n",
    "''''''''''''''''''''''''''''''''''''''''''''''''''''''\n",
    "def pin_namer(data):\n",
    "    i_pins_f = []\n",
    "    o_pins_f = []\n",
    "    for i in range(len(data)):\n",
    "        line = data[i].split()\n",
    "        i_pins_f.append(line[2])\n",
    "        i_pins_f.append(line[3])\n",
    "        o_pins_f.append(line[4])\n",
    "        \n",
    "    i_pins_f = set(i_pins_f)\n",
    "    \n",
    "    nodes = node_finder(i_pins_f,o_pins_f)\n",
    "    #o_pins = set(o_pins_f).symmetric_difference(list(nodes))\n",
    "    '''\n",
    "    uncomment the above line to only get output pins without middle nodes\n",
    "    Make sure to use o_pins insted o_pins_f in return value\n",
    "    '''\n",
    "    i_pins = i_pins_f.symmetric_difference(list(nodes))\n",
    "    return list(o_pins_f),list(i_pins)\n",
    "pin_namer(raw_circuit)[1]\n",
    "''''''''''''''''''''''''''''''''''''''''''''''''''''''\n",
    "\n",
    "# This function returns a dictionary that contains the keys and values that have been changed\n",
    "def changer(dict1, dict2):\n",
    "    result_dict = {}\n",
    "    for key in dict1:\n",
    "        if key in dict2 and dict1[key] != dict2[key]:\n",
    "            result_dict[key] = dict2[key]\n",
    "    return result_dict"
   ]
  },
  {
   "cell_type": "code",
   "execution_count": 111,
   "id": "707a05bd",
   "metadata": {},
   "outputs": [],
   "source": [
    "# Take nodes from .net file\n",
    "filename = 'c17.net'\n",
    "with open(filename,'r') as f:\n",
    "    rawcircuit = f.read().splitlines()\n",
    "\n",
    "# Take inputs from .input file\n",
    "file = 'c17.inputs'\n",
    "with open(file,'r') as f:\n",
    "    raw_inputs = f.read().splitlines()    \n",
    "####################################################   \n",
    "#for not gate converting, not to nands\n",
    "raw_circuit = []\n",
    "for line in rawcircuit:\n",
    "    line = line.split()\n",
    "#     print(line[1])\n",
    "    if line[1] == 'inv':\n",
    "#         line[1] = 'nand2'\n",
    "        line.insert(3,line[2])\n",
    "    if line[1] == 'buf':\n",
    "        line.insert(3,line[2])\n",
    "    line = ' '.join(line)\n",
    "    raw_circuit.append(line)\n",
    "    \n",
    "# Handling a corrupted netlist that contains missing or excess input nodes\n",
    "if sorted(raw_inputs[0].split()) != sorted(pin_namer(raw_circuit)[1]):\n",
    "       print('Wrong Inputs')"
   ]
  },
  {
   "cell_type": "code",
   "execution_count": 112,
   "id": "60bb56d1",
   "metadata": {},
   "outputs": [],
   "source": [
    "# get edges in a list name edge\n",
    "# edge means inputs and outputs\n",
    "n = len(raw_circuit)\n",
    "edge = []\n",
    "for i in range(n):\n",
    "    buf = []\n",
    "    line = raw_circuit[i].split()\n",
    "    buf.append((line[2],line[4]))\n",
    "    buf.append((line[3],line[4]))\n",
    "    edge.extend(buf)"
   ]
  },
  {
   "cell_type": "code",
   "execution_count": 113,
   "id": "433b4dc9",
   "metadata": {},
   "outputs": [],
   "source": [
    "# Make a dictionary to whose key the node name and value is the gate type\n",
    "namegate = {}\n",
    "\n",
    "'''\n",
    "Get inputs as the are names 'pi' not any particular gate type\n",
    "\n",
    "Output nodes are fine as they can be valued as their gates and hence \n",
    "they are similar to other nodes\n",
    "'''\n",
    "input_pins = pin_namer(raw_circuit)[1]\n",
    "output_pins = pin_namer(raw_circuit)[0]\n",
    "\n",
    "# line[1] has gate type in netlist\n",
    "for i in range(n):\n",
    "    line = raw_circuit[i].split()\n",
    "    namegate.update({output_pins[i]:line[1]})\n",
    "\n",
    "# Give input node as 'pi' as values\n",
    "for pin in input_pins:\n",
    "    namegate.update({pin:'pi'})"
   ]
  },
  {
   "cell_type": "code",
   "execution_count": 114,
   "id": "052870e1",
   "metadata": {},
   "outputs": [],
   "source": [
    "# Define the gate functions\n",
    "'''\n",
    "I have not made NOT and BUF gates as they can be said to be NAND and AND with same inputs\n",
    "\n",
    "'''\n",
    "def AND (n1, n2):\n",
    "    if int(n1) == 1 and int(n2) == 1:\n",
    "        return '1'\n",
    "    else:\n",
    "        return '0'\n",
    "    \n",
    "def NAND (n1, n2):\n",
    " \n",
    "    if int(n1) == 1 and int(n2) == 1:\n",
    "        return '0'\n",
    "    else:\n",
    "        return '1'\n",
    "    \n",
    "def OR(n1, n2):\n",
    "    if int(n1) == 1 or int(n2) == 1:\n",
    "        return '1'\n",
    "    else:\n",
    "        return '0'\n",
    "\n",
    "def NOR(n1, n2):\n",
    "    if int(n1) == 1 or int(n2) == 1:\n",
    "        return '0'\n",
    "    else:\n",
    "        return '1'\n",
    "    \n",
    "def XOR (n1, n2):\n",
    "    if int(n1) != int(n2):\n",
    "        return '1'\n",
    "    else:\n",
    "        return '0'\n",
    "    \n",
    "def XNOR (n1, n2):\n",
    "    if int(n1) != int(n2):\n",
    "        return '0'\n",
    "    else:\n",
    "        return '1'"
   ]
  },
  {
   "cell_type": "markdown",
   "id": "873e391a",
   "metadata": {},
   "source": [
    "# Topological Order"
   ]
  },
  {
   "cell_type": "code",
   "execution_count": 115,
   "id": "c1d8c150",
   "metadata": {},
   "outputs": [
    {
     "name": "stdout",
     "output_type": "stream",
     "text": [
      "Nodes in topological order ['N2', 'N7', 'N1', 'N3', 'N6', 'n_0', 'n_1', 'n_3', 'n_2', 'N22', 'N23']\n"
     ]
    }
   ],
   "source": [
    "# Object generator\n",
    "g = nx.DiGraph()\n",
    "\n",
    "# Add edges using list edge made earlier\n",
    "g.add_edges_from(edge)\n",
    "# Set nodes using dictionary namegate made earlier\n",
    "nx.set_node_attributes(g,namegate,name=\"gateType\")\n",
    "\n",
    "# print(g.nodes(data=True))\n",
    "# print()\n",
    "try:\n",
    "    nl = list(nx.topological_sort(g))\n",
    "    # Print in topological order\n",
    "    print('Nodes in topological order',nl)\n",
    "except nx.NetworkXUnfeasible:\n",
    "    print('Cannot Evaluate a sequential cicuit')\n"
   ]
  },
  {
   "cell_type": "markdown",
   "id": "4a44ef46",
   "metadata": {},
   "source": [
    "# Topological Evaluation"
   ]
  },
  {
   "cell_type": "markdown",
   "id": "d847a934",
   "metadata": {},
   "source": [
    "## This evaluated using Method-1\n",
    "\n",
    "* Method-1 was to repetadly loading the inputs and get the coressponding outputs "
   ]
  },
  {
   "cell_type": "markdown",
   "id": "dbef884c",
   "metadata": {},
   "source": [
    "* g.nodes[node] gives me a dictionary that has key gateType whose value is gate type\n",
    "* The inputs to the gate can be found using g.predeccesors and we can be safe in assuming\n",
    "  that its list length will be 2 except in BUF and NOT gates with length being 1\n",
    "* Thow the predecessor nodes in a dictionary as keys, the value of the keys is the state of the node\n",
    "* Update the value dict by adding the state of nodes step by step in topological order\n",
    "* We can be sure that there is no KeyError because we are iterating in order of topological sort so unknow states are calculated from its predeccesor nodes\n"
   ]
  },
  {
   "cell_type": "code",
   "execution_count": 116,
   "id": "28e26e44",
   "metadata": {},
   "outputs": [],
   "source": [
    "# Solve the combinational circuit now\n",
    "# Total number of inputs in the file\n",
    "n = len(raw_inputs)\n",
    "\n",
    "value = {}\n",
    "outputs = []\n",
    "\n",
    "\n",
    "for i in range(1,n):\n",
    "    value.update(loader(raw_inputs,i))\n",
    "    for node in nl:\n",
    "        if g.nodes[node]['gateType'] == 'pi':\n",
    "            pass\n",
    "    #         value_t[node] = value[node]     \n",
    "        elif g.nodes[node]['gateType'] == 'nand2':\n",
    "            nands = NAND(value[list(g.predecessors(node))[0]],value[list(g.predecessors(node))[1]])\n",
    "            value.update({node:nands})\n",
    "        elif g.nodes[node]['gateType'] == 'and2':\n",
    "            ands = AND(value[list(g.predecessors(node))[0]],value[list(g.predecessors(node))[1]])\n",
    "            value.update({node:ands})\n",
    "        elif g.nodes[node]['gateType'] == 'or2':\n",
    "            ors = OR(value[list(g.predecessors(node))[0]],value[list(g.predecessors(node))[1]])\n",
    "            value.update({node:ors})\n",
    "        elif g.nodes[node]['gateType'] == 'nor2':\n",
    "            nors = NOR(value[list(g.predecessors(node))[0]],value[list(g.predecessors(node))[1]])\n",
    "            value.update({node:nors})\n",
    "        elif g.nodes[node]['gateType'] == 'xor2':\n",
    "            xors = XOR(value[list(g.predecessors(node))[0]],value[list(g.predecessors(node))[1]])\n",
    "            value.update({node:xors})\n",
    "        elif g.nodes[node]['gateType'] == 'xnor2':\n",
    "            xnors = XNOR(value[list(g.predecessors(node))[0]],value[list(g.predecessors(node))[1]])\n",
    "            value.update({node:xnors})\n",
    "        elif g.nodes[node]['gateType'] == 'inv':\n",
    "            nots = NAND(value[list(g.predecessors(node))[0]],value[list(g.predecessors(node))[0]])\n",
    "            value.update({node:nots})\n",
    "        elif g.nodes[node]['gateType'] == 'buf':\n",
    "            buffs = AND(value[list(g.predecessors(node))[0]],value[list(g.predecessors(node))[0]])\n",
    "            value.update({node:buffs})\n",
    "#   sort the dictionary alphabetically\n",
    "    value = sort_d(value)        \n",
    "    outputs.append(list(value.values()))\n",
    "    \n",
    "    "
   ]
  },
  {
   "cell_type": "code",
   "execution_count": 117,
   "id": "69f6f5a2",
   "metadata": {},
   "outputs": [
    {
     "name": "stdout",
     "output_type": "stream",
     "text": [
      "['N1', 'N2', 'N22', 'N23', 'N3', 'N6', 'N7', 'n_0', 'n_1', 'n_2', 'n_3']\n"
     ]
    },
    {
     "data": {
      "text/plain": [
       "[['0', '1', '1', '1', '0', '0', '0', '1', '1', '1', '0'],\n",
       " ['0', '0', '0', '0', '1', '0', '0', '1', '1', '1', '1'],\n",
       " ['1', '0', '0', '0', '0', '0', '0', '1', '1', '1', '1'],\n",
       " ['0', '0', '0', '0', '1', '1', '1', '1', '0', '1', '1'],\n",
       " ['1', '1', '1', '0', '1', '1', '1', '0', '0', '1', '1'],\n",
       " ['1', '1', '1', '1', '1', '0', '0', '0', '1', '1', '0'],\n",
       " ['1', '1', '1', '0', '1', '1', '0', '0', '0', '1', '1'],\n",
       " ['1', '1', '1', '1', '0', '0', '0', '1', '1', '1', '0'],\n",
       " ['0', '1', '1', '1', '1', '0', '1', '1', '1', '0', '0'],\n",
       " ['0', '0', '0', '0', '1', '1', '0', '1', '0', '1', '1']]"
      ]
     },
     "execution_count": 117,
     "metadata": {},
     "output_type": "execute_result"
    }
   ],
   "source": [
    "print(list(value.keys()))\n",
    "outputs"
   ]
  },
  {
   "cell_type": "code",
   "execution_count": 118,
   "id": "7a5de920",
   "metadata": {},
   "outputs": [],
   "source": [
    "# Write the solution in a text file\n",
    "file_answers = 'topo_eval_ee21b122_17.txt'\n",
    "with open(file_answers,'w') as f:\n",
    "    f.write(' '.join(list(value.keys()))+'\\n')\n",
    "    for out in outputs:\n",
    "        f.write(' '.join(out) +'\\n')\n",
    "        "
   ]
  },
  {
   "cell_type": "markdown",
   "id": "8eb0fd5e",
   "metadata": {},
   "source": [
    "# Event-driven simulation\n",
    "\n",
    "* This computed using event driven evaluation\n",
    "* In event driven evalution I pop a node from top and push its sucsessor from the bottom\n",
    "* For simulation I push the nodes whose inputs are changed and run the same algorithm"
   ]
  },
  {
   "cell_type": "code",
   "execution_count": 119,
   "id": "2af12861",
   "metadata": {
    "scrolled": true
   },
   "outputs": [],
   "source": [
    "# Intializing the que\n",
    "input_pins = raw_inputs[0].split()\n",
    "\n",
    "# Intializing variables\n",
    "value = {}\n",
    "prev={}\n",
    "new = {}\n",
    "outpus = []\n",
    "\n",
    "# Simulation\n",
    "for i in range(1,n):\n",
    "#   load the i'th input\n",
    "    value.update(loader(raw_inputs,i))\n",
    "    \n",
    "#   Is the circuit running for first time? Yes the proceed or go to if block\n",
    "    if i!=1:\n",
    "        '''\n",
    "        Load the previous input and use the changer() that returns a \n",
    "        dictionary that keys and values which are changed\n",
    "        now add this keys to the que and clear the dictionary\n",
    "        '''\n",
    "        prev.update(loader(raw_inputs,i-1))\n",
    "        new.update(changer(prev,value))\n",
    "        input_pins.extend(list(new.keys()))\n",
    "        new = {} \n",
    "\n",
    "#   Run a infinte loop till the queue is empty\n",
    "    while True:\n",
    "        '''\n",
    "        Using try-except block because when the circuit runs for the first time the\n",
    "        dictionary values only contains the inputs and no other nodes,and thus this \n",
    "        gives a key error in below code\n",
    "        ''' \n",
    "        try: \n",
    "            '''Pop the first node and push the succsesor'''\n",
    "            node = input_pins.pop(0)\n",
    "            input_pins.extend(list(g.successors(node)))\n",
    "            \n",
    "            if len(input_pins)!=0:\n",
    "                if g.nodes[node]['gateType'] == 'pi':\n",
    "                    pass\n",
    "                elif g.nodes[node]['gateType'] == 'nand2':\n",
    "                    nands = NAND(value[list(g.predecessors(node))[0]],value[list(g.predecessors(node))[1]])\n",
    "                    value.update({node:nands})\n",
    "                elif g.nodes[node]['gateType'] == 'and2':\n",
    "                    ands = AND(value[list(g.predecessors(node))[0]],value[list(g.predecessors(node))[1]])\n",
    "                    value.update({node:ands})\n",
    "                elif g.nodes[node]['gateType'] == 'or2':\n",
    "                    ors = OR(value[list(g.predecessors(node))[0]],value[list(g.predecessors(node))[1]])\n",
    "                    value.update({node:ors})\n",
    "                elif g.nodes[node]['gateType'] == 'nor2':\n",
    "                    nors = NOR(value[list(g.predecessors(node))[0]],value[list(g.predecessors(node))[1]])\n",
    "                    value.update({node:nors})\n",
    "                elif g.nodes[node]['gateType'] == 'xor2':\n",
    "                    xors = XOR(value[list(g.predecessors(node))[0]],value[list(g.predecessors(node))[1]])\n",
    "                    value.update({node:xors})\n",
    "                elif g.nodes[node]['gateType'] == 'xnor2':\n",
    "                    xnors = XNOR(value[list(g.predecessors(node))[0]],value[list(g.predecessors(node))[1]])\n",
    "                    value.update({node:xnors})\n",
    "                elif g.nodes[node]['gateType'] == 'inv':\n",
    "                    nots = NAND(value[list(g.predecessors(node))[0]],value[list(g.predecessors(node))[0]])\n",
    "                    value.update({node:nots})\n",
    "                elif g.nodes[node]['gateType'] == 'buff':\n",
    "                    buffs = AND(value[list(g.predecessors(node))[0]],value[list(g.predecessors(node))[0]])\n",
    "                    value.update({node:buffs})\n",
    "                \n",
    "            else:\n",
    "                break\n",
    "        except KeyError:\n",
    "            pass\n",
    "#   Sort the dictionary alphabetically\n",
    "    value = sort_d(value)  \n",
    "    outpus.append(list(value.values()))\n",
    "    "
   ]
  },
  {
   "cell_type": "code",
   "execution_count": 120,
   "id": "a0c97525",
   "metadata": {},
   "outputs": [
    {
     "name": "stdout",
     "output_type": "stream",
     "text": [
      "['N1', 'N2', 'N22', 'N23', 'N3', 'N6', 'N7', 'n_0', 'n_1', 'n_2', 'n_3']\n"
     ]
    },
    {
     "data": {
      "text/plain": [
       "[['0', '1', '1', '1', '0', '0', '0', '1', '1', '1', '0'],\n",
       " ['0', '0', '0', '0', '1', '0', '0', '1', '1', '1', '1'],\n",
       " ['1', '0', '0', '0', '0', '0', '0', '1', '1', '1', '1'],\n",
       " ['0', '0', '0', '0', '1', '1', '1', '1', '0', '1', '1'],\n",
       " ['1', '1', '1', '0', '1', '1', '1', '0', '0', '1', '1'],\n",
       " ['1', '1', '1', '1', '1', '0', '0', '0', '1', '1', '0'],\n",
       " ['1', '1', '1', '0', '1', '1', '0', '0', '0', '1', '1'],\n",
       " ['1', '1', '1', '1', '0', '0', '0', '1', '1', '1', '0'],\n",
       " ['0', '1', '1', '1', '1', '0', '1', '1', '1', '0', '0'],\n",
       " ['0', '0', '0', '0', '1', '1', '0', '1', '0', '1', '1']]"
      ]
     },
     "execution_count": 120,
     "metadata": {},
     "output_type": "execute_result"
    }
   ],
   "source": [
    "print(list(value.keys()))\n",
    "outpus"
   ]
  },
  {
   "cell_type": "code",
   "execution_count": 121,
   "id": "bfa9184e",
   "metadata": {},
   "outputs": [],
   "source": [
    "# Write the solution in a text file\n",
    "file_answers = 'event_simula_ee21b122_17.txt'\n",
    "with open(file_answers,'w') as f:\n",
    "    f.write(' '.join(list(value.keys()))+'\\n')\n",
    "    for out in outputs:\n",
    "        f.write(' '.join(out) +'\\n')\n",
    "        "
   ]
  },
  {
   "cell_type": "markdown",
   "id": "a9d0631b",
   "metadata": {},
   "source": [
    "# Conclusion\n",
    "\n",
    "* Topological Evaluation can be used when there are a lot nodes provided but number of input states provided are less.\n",
    "\n",
    "* Event-driven evaluation can be used when the number of nodes are less but number of input states provided are a lot\n",
    "\n",
    "* This is because topological evaluation works on toplogical sort whose lenght is finite i.e number of nodes, but event driven evaluation works on principle of queue and queue lenght depends on number of nodes, hence if queue is quite large evaluation can take up more time than topological evaluation\n",
    "\n",
    "* Hence,\n",
    "    * If number of nodes are **lot** and number of input states provided are **less**: Topological Evaluation\n",
    "        * As a lot of nodes means a lot of time in event driven simulation \n",
    "    * If number of nodes are **less** and number of input states provided are **lot**: Event Driven Simulation\n",
    "        * less states means event driven simulation is quiete fast and as input states provided are quiet large topological evaluation will be slow as compared\n",
    "    * If number of nodes are **lot** and number of input states provided are **lot**: Topological Evaluation\n",
    "        * lots of nodes so toplogical evaluation is faster\n",
    "    * If number of nodes are **less** and number of input states provided are **less**: Event Driven Simulation\n",
    "        * As less nodes so event driven simulation is faster\n",
    "        \n",
    "        \n",
    "tl;dr Topological sort speed depends on number of times input node states are changed and \n",
    "Event driven simulation speed depends on number of nodes in the circuit\n",
    "    \n",
    "input states means how many times the input nodes state changes"
   ]
  }
 ],
 "metadata": {
  "authors": [
   {
    "name": "Shah Jainam EE21B122"
   }
  ],
  "kernelspec": {
   "display_name": "Python 3 (ipykernel)",
   "language": "python",
   "name": "python3"
  },
  "language_info": {
   "codemirror_mode": {
    "name": "ipython",
    "version": 3
   },
   "file_extension": ".py",
   "mimetype": "text/x-python",
   "name": "python",
   "nbconvert_exporter": "python",
   "pygments_lexer": "ipython3",
   "version": "3.9.13"
  },
  "vscode": {
   "interpreter": {
    "hash": "aee8b7b246df8f9039afb4144a1f6fd8d2ca17a180786b69acc140d282b71a49"
   }
  }
 },
 "nbformat": 4,
 "nbformat_minor": 5
}
