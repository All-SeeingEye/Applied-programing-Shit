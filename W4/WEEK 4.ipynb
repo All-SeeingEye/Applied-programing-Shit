{
 "cells": [
  {
   "cell_type": "code",
   "execution_count": 33,
   "id": "218091ec",
   "metadata": {},
   "outputs": [],
   "source": [
    "import networkx as nx"
   ]
  },
  {
   "cell_type": "code",
   "execution_count": 69,
   "id": "f63da213",
   "metadata": {},
   "outputs": [],
   "source": [
    "#Read the netlist and sort it in topological order\n",
    "filename = 'c17.net'\n",
    "with open(filename,'r') as f:\n",
    "    rawcircuit = f.read().splitlines()\n",
    "    \n",
    "# raw_circuit = [' '.join(rawcircuit.split()) for x in rawcircuit]\n",
    "# data = [' '.join(x.split()) for x in circ]\n",
    "# raw_circuit[1].split()[1]"
   ]
  },
  {
   "cell_type": "code",
   "execution_count": 70,
   "id": "e1ac3a87",
   "metadata": {},
   "outputs": [
    {
     "data": {
      "text/plain": [
       "['g51 nand2 n_3 n_0 N22',\n",
       " 'g52 nand2 n_3 n_2 N23',\n",
       " 'g53 nand2 n_1 N2 n_3',\n",
       " 'g54 nand2 n_1 N7 n_2',\n",
       " 'g55 nand2 N1 N3 n_0',\n",
       " 'g56 nand2 N3 N6 n_1']"
      ]
     },
     "execution_count": 70,
     "metadata": {},
     "output_type": "execute_result"
    }
   ],
   "source": [
    "#for not gate converting not to nands\n",
    "raw_circuit = []\n",
    "for line in rawcircuit:\n",
    "    line = line.split()\n",
    "#     print(line[1])\n",
    "    if line[1] == 'inv':\n",
    "#         line[1] = 'nand2'\n",
    "        line.insert(3,line[2])\n",
    "    line = ' '.join(line)\n",
    "    raw_circuit.append(line)\n",
    "    \n",
    "raw_circuit"
   ]
  },
  {
   "cell_type": "code",
   "execution_count": 71,
   "id": "69fbe6ab",
   "metadata": {},
   "outputs": [
    {
     "data": {
      "text/plain": [
       "[('n_3', 'N22'),\n",
       " ('n_0', 'N22'),\n",
       " ('n_3', 'N23'),\n",
       " ('n_2', 'N23'),\n",
       " ('n_1', 'n_3'),\n",
       " ('N2', 'n_3'),\n",
       " ('n_1', 'n_2'),\n",
       " ('N7', 'n_2'),\n",
       " ('N1', 'n_0'),\n",
       " ('N3', 'n_0'),\n",
       " ('N3', 'n_1'),\n",
       " ('N6', 'n_1')]"
      ]
     },
     "execution_count": 71,
     "metadata": {},
     "output_type": "execute_result"
    }
   ],
   "source": [
    "n = len(raw_circuit)\n",
    "edge = []\n",
    "for i in range(n):\n",
    "    buf = []\n",
    "    line = raw_circuit[i].split()\n",
    "    buf.append((line[2],line[4]))\n",
    "    buf.append((line[3],line[4]))\n",
    "    edge.extend(buf)\n",
    "    \n",
    "edge"
   ]
  },
  {
   "cell_type": "code",
   "execution_count": 72,
   "id": "edbb36c4",
   "metadata": {},
   "outputs": [
    {
     "data": {
      "text/plain": [
       "['N7', 'N3', 'N6', 'N2', 'N1']"
      ]
     },
     "execution_count": 72,
     "metadata": {},
     "output_type": "execute_result"
    }
   ],
   "source": [
    "def node_finder(a,b):\n",
    "    aset = set(a)\n",
    "    bset = set(b)\n",
    "    \n",
    "    return aset.intersection(bset)\n",
    "\n",
    "\n",
    "def pin_namer(data):\n",
    "    i_pins_f = []\n",
    "    o_pins_f = []\n",
    "    for i in range(len(data)):\n",
    "        line = data[i].split()\n",
    "        i_pins_f.append(line[2])\n",
    "        i_pins_f.append(line[3])\n",
    "        o_pins_f.append(line[4])\n",
    "        \n",
    "    i_pins_f = set(i_pins_f)\n",
    "    \n",
    "    nodes = node_finder(i_pins_f,o_pins_f)\n",
    "    \n",
    "#     o_pins = set(o_pins_f).symmetric_difference(list(nodes))\n",
    "    \n",
    "    i_pins = i_pins_f.symmetric_difference(list(nodes))\n",
    "    \n",
    "    return list(o_pins_f),list(i_pins)\n",
    "\n",
    "pin_namer(raw_circuit)[1]"
   ]
  },
  {
   "cell_type": "code",
   "execution_count": 73,
   "id": "09f5f733",
   "metadata": {},
   "outputs": [
    {
     "data": {
      "text/plain": [
       "{'N22': 'nand2',\n",
       " 'N23': 'nand2',\n",
       " 'n_3': 'nand2',\n",
       " 'n_2': 'nand2',\n",
       " 'n_0': 'nand2',\n",
       " 'n_1': 'nand2',\n",
       " 'N7': 'pi',\n",
       " 'N3': 'pi',\n",
       " 'N6': 'pi',\n",
       " 'N2': 'pi',\n",
       " 'N1': 'pi'}"
      ]
     },
     "execution_count": 73,
     "metadata": {},
     "output_type": "execute_result"
    }
   ],
   "source": [
    "namegate = {}\n",
    "input_pins = pin_namer(raw_circuit)[1]\n",
    "output_pins = pin_namer(raw_circuit)[0]\n",
    "for i in range(n):\n",
    "    line = raw_circuit[i].split()\n",
    "    namegate.update({output_pins[i]:line[1]})\n",
    "\n",
    "for pin in input_pins:\n",
    "    namegate.update({pin:'pi'})\n",
    "    \n",
    "namegate"
   ]
  },
  {
   "cell_type": "code",
   "execution_count": 97,
   "id": "db81fd85",
   "metadata": {},
   "outputs": [
    {
     "name": "stdout",
     "output_type": "stream",
     "text": [
      "[('n_3', {'gateType': 'nand2'}), ('N22', {'gateType': 'nand2'}), ('n_0', {'gateType': 'nand2'}), ('N23', {'gateType': 'nand2'}), ('n_2', {'gateType': 'nand2'}), ('n_1', {'gateType': 'nand2'}), ('N2', {'gateType': 'pi'}), ('N7', {'gateType': 'pi'}), ('N1', {'gateType': 'pi'}), ('N3', {'gateType': 'pi'}), ('N6', {'gateType': 'pi'})]\n",
      "\n",
      "Nodes in topological order ['N2', 'N7', 'N1', 'N3', 'N6', 'n_0', 'n_1', 'n_3', 'n_2', 'N22', 'N23']\n"
     ]
    }
   ],
   "source": [
    "#Topological order Done!!!\n",
    "#S&P works too!\n",
    "\n",
    "g = nx.DiGraph()\n",
    "\n",
    "g.add_edges_from(edge)\n",
    "\n",
    "nx.set_node_attributes(g,namegate,name=\"gateType\")\n",
    "\n",
    "print(g.nodes(data=True))\n",
    "nl = list(nx.topological_sort(g))\n",
    "print()\n",
    "print('Nodes in topological order',nl)\n"
   ]
  },
  {
   "cell_type": "code",
   "execution_count": 99,
   "id": "a676d9cd",
   "metadata": {},
   "outputs": [
    {
     "data": {
      "text/plain": [
       "{'gateType': 'nand2'}"
      ]
     },
     "execution_count": 99,
     "metadata": {},
     "output_type": "execute_result"
    }
   ],
   "source": [
    "g.nodes['n_3']"
   ]
  },
  {
   "cell_type": "code",
   "execution_count": 75,
   "id": "e40a3ac4",
   "metadata": {},
   "outputs": [
    {
     "data": {
      "text/plain": [
       "['N3', 'N6']"
      ]
     },
     "execution_count": 75,
     "metadata": {},
     "output_type": "execute_result"
    }
   ],
   "source": [
    "\n",
    "list(g.predecessors('n_1'))"
   ]
  },
  {
   "cell_type": "code",
   "execution_count": 76,
   "id": "fd00ad9d",
   "metadata": {},
   "outputs": [
    {
     "data": {
      "text/plain": [
       "['N1 N2 N3 N6 N7 ',\n",
       " '0 1 0 0 0',\n",
       " '0 0 1 0 0',\n",
       " '1 0 0 0 0',\n",
       " '0 0 1 1 1',\n",
       " '1 1 1 1 1',\n",
       " '1 1 1 0 0',\n",
       " '1 1 1 1 0',\n",
       " '1 1 0 0 0',\n",
       " '0 1 1 0 1',\n",
       " '0 0 1 1 0']"
      ]
     },
     "execution_count": 76,
     "metadata": {},
     "output_type": "execute_result"
    }
   ],
   "source": [
    "file = 'c17.inputs'\n",
    "with open(file,'r') as f:\n",
    "    raw_inputs = f.read().splitlines()\n",
    "raw_inputs"
   ]
  },
  {
   "cell_type": "code",
   "execution_count": 77,
   "id": "b8c79fb9",
   "metadata": {},
   "outputs": [
    {
     "data": {
      "text/plain": [
       "{'N2': '0', 'N7': '0', 'N1': '0', 'N3': '1', 'N6': '0'}"
      ]
     },
     "execution_count": 77,
     "metadata": {},
     "output_type": "execute_result"
    }
   ],
   "source": [
    "value = {}\n",
    "\n",
    "for node in nl:\n",
    "    try:\n",
    "        value.update({node:raw_inputs[2].split()[raw_inputs[0].split().index(node)]})\n",
    "    except ValueError:\n",
    "        pass\n",
    "value"
   ]
  },
  {
   "cell_type": "code",
   "execution_count": 78,
   "id": "433061f5",
   "metadata": {},
   "outputs": [],
   "source": [
    "def AND (n1, n2):\n",
    "    if int(n1) == 1 and int(n2) == 1:\n",
    "        return '1'\n",
    "    else:\n",
    "        return '0'\n",
    "    \n",
    "def NAND (n1, n2):\n",
    " \n",
    "    if int(n1) == 1 and int(n2) == 1:\n",
    "        return '0'\n",
    "    else:\n",
    "        return '1'\n",
    "    \n",
    "def OR(n1, n2):\n",
    "    if int(n1) == 1 or int(n2) == 1:\n",
    "        return '1'\n",
    "    else:\n",
    "        return '0'\n",
    "\n",
    "def NOR(n1, n2):\n",
    "    if int(n1) == 1 or int(n2) == 1:\n",
    "        return '0'\n",
    "    else:\n",
    "        return '1'\n",
    "    \n",
    "def XOR (n1, n2):\n",
    "    if int(n1) != int(n2):\n",
    "        return '1'\n",
    "    else:\n",
    "        return '0'\n",
    "    \n",
    "def XOR (n1, n2):\n",
    "    if int(n1) != int(n2):\n",
    "        return '0'\n",
    "    else:\n",
    "        return '1'\n",
    "    "
   ]
  },
  {
   "cell_type": "code",
   "execution_count": 79,
   "id": "fbe8d5f2",
   "metadata": {},
   "outputs": [
    {
     "data": {
      "text/plain": [
       "['N2', 'N7', 'N1', 'N3', 'N6', 'n_0', 'n_1', 'n_3', 'n_2', 'N22', 'N23']"
      ]
     },
     "execution_count": 79,
     "metadata": {},
     "output_type": "execute_result"
    }
   ],
   "source": [
    "nl"
   ]
  },
  {
   "cell_type": "code",
   "execution_count": 80,
   "id": "c8151953",
   "metadata": {},
   "outputs": [
    {
     "data": {
      "text/plain": [
       "{'N2': '0',\n",
       " 'N7': '0',\n",
       " 'N1': '0',\n",
       " 'N3': '1',\n",
       " 'N6': '0',\n",
       " 'n_0': '1',\n",
       " 'n_1': '1',\n",
       " 'n_3': '1',\n",
       " 'n_2': '1',\n",
       " 'N22': '0',\n",
       " 'N23': '0'}"
      ]
     },
     "execution_count": 80,
     "metadata": {},
     "output_type": "execute_result"
    }
   ],
   "source": [
    "value_t = {}\n",
    "for node in nl:\n",
    "    if g.nodes[node]['gateType'] == 'pi':\n",
    "        pass\n",
    "#         value_t[node] = value[node]     \n",
    "    elif g.nodes[node]['gateType'] == 'nand2':\n",
    "        nands = NAND(value[list(g.predecessors(node))[0]],value[list(g.predecessors(node))[1]])\n",
    "        value.update({node:nands})\n",
    "    elif g.nodes[node]['gateType'] == 'and2':\n",
    "        ands = AND(value[list(g.predecessors(node))[0]],value[list(g.predecessors(node))[1]])\n",
    "        value.update({node:ands})\n",
    "    elif g.nodes[node]['gateType'] == 'or2':\n",
    "        ors = OR(value[list(g.predecessors(node))[0]],value[list(g.predecessors(node))[1]])\n",
    "        value.update({node:ors})\n",
    "    elif g.nodes[node]['gateType'] == 'nor2':\n",
    "        nors = NOR(value[list(g.predecessors(node))[0]],value[list(g.predecessors(node))[1]])\n",
    "        value.update({node:nors})\n",
    "    elif g.nodes[node]['gateType'] == 'xor2':\n",
    "        xors = XOR(value[list(g.predecessors(node))[0]],value[list(g.predecessors(node))[1]])\n",
    "        value.update({node:xors})\n",
    "    elif g.nodes[node]['gateType'] == 'xnor2':\n",
    "        xnors = XNOR(value[list(g.predecessors(node))[0]],value[list(g.predecessors(node))[1]])\n",
    "        value.update({node:xnors})\n",
    "    elif g.nodes[node]['gateType'] == 'inv':\n",
    "        nots = NAND(value[list(g.predecessors(node))[0]],value[list(g.predecessors(node))[0]])\n",
    "        value.update({node:nots})\n",
    "        \n",
    "value"
   ]
  },
  {
   "cell_type": "code",
   "execution_count": 81,
   "id": "af9f7687",
   "metadata": {},
   "outputs": [
    {
     "data": {
      "text/plain": [
       "{'N1': '0',\n",
       " 'N2': '0',\n",
       " 'N22': '0',\n",
       " 'N23': '0',\n",
       " 'N3': '1',\n",
       " 'N6': '0',\n",
       " 'N7': '0',\n",
       " 'n_0': '1',\n",
       " 'n_1': '1',\n",
       " 'n_2': '1',\n",
       " 'n_3': '1'}"
      ]
     },
     "execution_count": 81,
     "metadata": {},
     "output_type": "execute_result"
    }
   ],
   "source": [
    "myKeys = list(value.keys())\n",
    "myKeys.sort()\n",
    "sorted_dict = {i: value[i] for i in myKeys}\n",
    " \n",
    "sorted_dict"
   ]
  },
  {
   "cell_type": "code",
   "execution_count": 82,
   "id": "aaa5d473",
   "metadata": {},
   "outputs": [
    {
     "data": {
      "text/plain": [
       "['g51 nand2 n_3 n_0 N22',\n",
       " 'g52 nand2 n_3 n_2 N23',\n",
       " 'g53 nand2 n_1 N2 n_3',\n",
       " 'g54 nand2 n_1 N7 n_2',\n",
       " 'g55 nand2 N1 N3 n_0',\n",
       " 'g56 nand2 N3 N6 n_1']"
      ]
     },
     "execution_count": 82,
     "metadata": {},
     "output_type": "execute_result"
    }
   ],
   "source": [
    "raw_circuit"
   ]
  },
  {
   "cell_type": "code",
   "execution_count": 83,
   "id": "a8b80487",
   "metadata": {},
   "outputs": [
    {
     "data": {
      "text/plain": [
       "['N2', 'N7', 'N1', 'N3', 'N6', 'n_0', 'n_1', 'n_3', 'n_2', 'N22', 'N23']"
      ]
     },
     "execution_count": 83,
     "metadata": {},
     "output_type": "execute_result"
    }
   ],
   "source": [
    "nl"
   ]
  },
  {
   "cell_type": "code",
   "execution_count": 90,
   "id": "a0bd031b",
   "metadata": {},
   "outputs": [
    {
     "data": {
      "text/plain": [
       "{'N2': '0', 'N7': '1', 'N1': '0', 'N3': '1', 'N6': '1'}"
      ]
     },
     "execution_count": 90,
     "metadata": {},
     "output_type": "execute_result"
    }
   ],
   "source": [
    "#load input data\n",
    "qvalue = {}\n",
    "\n",
    "for node in nl:\n",
    "    try:\n",
    "        qvalue.update({node:raw_inputs[4].split()[raw_inputs[0].split().index(node)]})\n",
    "    except ValueError:\n",
    "        pass\n",
    "qvalue"
   ]
  },
  {
   "cell_type": "code",
   "execution_count": 91,
   "id": "4cf93213",
   "metadata": {},
   "outputs": [
    {
     "data": {
      "text/plain": [
       "['N7', 'N3', 'N6', 'N2', 'N1']"
      ]
     },
     "execution_count": 91,
     "metadata": {},
     "output_type": "execute_result"
    }
   ],
   "source": [
    "nl\n",
    "input_list = pin_namer(raw_circuit)[1]\n",
    "input_list"
   ]
  },
  {
   "cell_type": "code",
   "execution_count": 92,
   "id": "d6f24065",
   "metadata": {},
   "outputs": [],
   "source": [
    "def update(dic1,dic2):\n",
    "    up_dic = {}\n",
    "    for key in dic1:\n",
    "        if dic1[key]!=dic2[key]:\n",
    "            up_dic[key] = dic2[key]\n",
    "    return up_dic"
   ]
  },
  {
   "cell_type": "code",
   "execution_count": 93,
   "id": "67070269",
   "metadata": {},
   "outputs": [
    {
     "data": {
      "text/plain": [
       "{'a': 3, 'c': 4}"
      ]
     },
     "execution_count": 93,
     "metadata": {},
     "output_type": "execute_result"
    }
   ],
   "source": [
    "dic1 = {'a':1,'b':2,'c':3}\n",
    "dic2 = {'a':3,'b':2,'c':4}\n",
    "\n",
    "update(dic1,dic2)"
   ]
  },
  {
   "cell_type": "code",
   "execution_count": 94,
   "id": "6f74164a",
   "metadata": {},
   "outputs": [
    {
     "name": "stdout",
     "output_type": "stream",
     "text": [
      "['N7', 'N3', 'N6', 'N2', 'N1']\n"
     ]
    },
    {
     "ename": "KeyError",
     "evalue": "'n_1'",
     "output_type": "error",
     "traceback": [
      "\u001b[0;31m---------------------------------------------------------------------------\u001b[0m",
      "\u001b[0;31mKeyError\u001b[0m                                  Traceback (most recent call last)",
      "Input \u001b[0;32mIn [94]\u001b[0m, in \u001b[0;36m<cell line: 4>\u001b[0;34m()\u001b[0m\n\u001b[1;32m      8\u001b[0m     qqvalue[node] \u001b[38;5;241m=\u001b[39m value[node]     \n\u001b[1;32m      9\u001b[0m \u001b[38;5;28;01melif\u001b[39;00m g\u001b[38;5;241m.\u001b[39mnodes[node][\u001b[38;5;124m'\u001b[39m\u001b[38;5;124mgateType\u001b[39m\u001b[38;5;124m'\u001b[39m] \u001b[38;5;241m==\u001b[39m \u001b[38;5;124m'\u001b[39m\u001b[38;5;124mnand2\u001b[39m\u001b[38;5;124m'\u001b[39m:\n\u001b[0;32m---> 10\u001b[0m     nands \u001b[38;5;241m=\u001b[39m NAND(\u001b[43mqvalue\u001b[49m\u001b[43m[\u001b[49m\u001b[38;5;28;43mlist\u001b[39;49m\u001b[43m(\u001b[49m\u001b[43mg\u001b[49m\u001b[38;5;241;43m.\u001b[39;49m\u001b[43mpredecessors\u001b[49m\u001b[43m(\u001b[49m\u001b[43mnode\u001b[49m\u001b[43m)\u001b[49m\u001b[43m)\u001b[49m\u001b[43m[\u001b[49m\u001b[38;5;241;43m0\u001b[39;49m\u001b[43m]\u001b[49m\u001b[43m]\u001b[49m,qvalue[\u001b[38;5;28mlist\u001b[39m(g\u001b[38;5;241m.\u001b[39mpredecessors(node))[\u001b[38;5;241m1\u001b[39m]])\n\u001b[1;32m     11\u001b[0m     qqvalue\u001b[38;5;241m.\u001b[39mupdate({node:nands})\n\u001b[1;32m     12\u001b[0m \u001b[38;5;28;01melif\u001b[39;00m g\u001b[38;5;241m.\u001b[39mnodes[node][\u001b[38;5;124m'\u001b[39m\u001b[38;5;124mgateType\u001b[39m\u001b[38;5;124m'\u001b[39m] \u001b[38;5;241m==\u001b[39m \u001b[38;5;124m'\u001b[39m\u001b[38;5;124mand2\u001b[39m\u001b[38;5;124m'\u001b[39m:\n",
      "\u001b[0;31mKeyError\u001b[0m: 'n_1'"
     ]
    }
   ],
   "source": [
    "# Intializing the que\n",
    "input_pins = raw_inputs[0].split()\n",
    "\n",
    "# Intializing variables\n",
    "value = {}\n",
    "prev={}\n",
    "new = {}\n",
    "outpus = []\n",
    "\n",
    "# Simulation\n",
    "for i in range(1,n):\n",
    "#   load the i'th input\n",
    "    value.update(loader(raw_inputs,i))\n",
    "    \n",
    "#   Is the circuit running for first time? Yes the proceed or go to if block\n",
    "    if i!=1:\n",
    "        '''\n",
    "        Load the previous input and use the changer() that returns a \n",
    "        dictionary that keys and values which are changed\n",
    "        now add this keys to the que and clear the dictionary\n",
    "        '''\n",
    "        prev.update(loader(raw_inputs,i-1))\n",
    "        new.update(changer(prev,value))\n",
    "        input_pins.extend(list(new.keys()))\n",
    "        new = {} \n",
    "\n",
    "#   Run a infinte loop till the queue is empty\n",
    "    while True:\n",
    "        '''\n",
    "        Using try-except block because when the circuit runs for the first time the\n",
    "        dictionary values only contains the inputs and no other nodes,and thus this \n",
    "        gives a key error in below code\n",
    "        ''' \n",
    "        try: \n",
    "            '''Pop the first node and push the succsesor'''\n",
    "            node = input_pins.pop(0)\n",
    "            input_pins.extend(list(g.successors(node)))\n",
    "            \n",
    "            if len(input_pins)!=0:\n",
    "                if g.nodes[node]['gateType'] == 'pi':\n",
    "                    pass\n",
    "                elif g.nodes[node]['gateType'] == 'nand2':\n",
    "                    nands = NAND(value[list(g.predecessors(node))[0]],value[list(g.predecessors(node))[1]])\n",
    "                    value.update({node:nands})\n",
    "                elif g.nodes[node]['gateType'] == 'and2':\n",
    "                    ands = AND(value[list(g.predecessors(node))[0]],value[list(g.predecessors(node))[1]])\n",
    "                    value.update({node:ands})\n",
    "                elif g.nodes[node]['gateType'] == 'or2':\n",
    "                    ors = OR(value[list(g.predecessors(node))[0]],value[list(g.predecessors(node))[1]])\n",
    "                    value.update({node:ors})\n",
    "                elif g.nodes[node]['gateType'] == 'nor2':\n",
    "                    nors = NOR(value[list(g.predecessors(node))[0]],value[list(g.predecessors(node))[1]])\n",
    "                    value.update({node:nors})\n",
    "                elif g.nodes[node]['gateType'] == 'xor2':\n",
    "                    xors = XOR(value[list(g.predecessors(node))[0]],value[list(g.predecessors(node))[1]])\n",
    "                    value.update({node:xors})\n",
    "                elif g.nodes[node]['gateType'] == 'xnor2':\n",
    "                    xnors = XNOR(value[list(g.predecessors(node))[0]],value[list(g.predecessors(node))[1]])\n",
    "                    value.update({node:xnors})\n",
    "                elif g.nodes[node]['gateType'] == 'inv':\n",
    "                    nots = NAND(value[list(g.predecessors(node))[0]],value[list(g.predecessors(node))[0]])\n",
    "                    value.update({node:nots})\n",
    "                elif g.nodes[node]['gateType'] == 'buff':\n",
    "                    buffs = AND(value[list(g.predecessors(node))[0]],value[list(g.predecessors(node))[0]])\n",
    "                    value.update({node:buffs})\n",
    "                \n",
    "            else:\n",
    "                break\n",
    "        except KeyError:\n",
    "            pass\n",
    "#   Sort the dictionary alphabetically\n",
    "    value = sort_d(value)  \n",
    "    outpus.append(list(value.values()))\n",
    "    "
   ]
  },
  {
   "cell_type": "code",
   "execution_count": 89,
   "id": "ddd5027a",
   "metadata": {},
   "outputs": [
    {
     "data": {
      "text/plain": [
       "{'N7': '0',\n",
       " 'N3': '1',\n",
       " 'N6': '0',\n",
       " 'N2': '0',\n",
       " 'N1': '0',\n",
       " 'n_2': '1',\n",
       " 'n_0': '1',\n",
       " 'n_1': '1',\n",
       " 'n_3': '1',\n",
       " 'N23': '0',\n",
       " 'N22': '0'}"
      ]
     },
     "execution_count": 89,
     "metadata": {},
     "output_type": "execute_result"
    }
   ],
   "source": [
    "qqvalue"
   ]
  },
  {
   "cell_type": "code",
   "execution_count": 228,
   "id": "32babd8d",
   "metadata": {},
   "outputs": [
    {
     "data": {
      "text/plain": [
       "True"
      ]
     },
     "execution_count": 228,
     "metadata": {},
     "output_type": "execute_result"
    }
   ],
   "source": [
    "qqvalue == value"
   ]
  },
  {
   "cell_type": "code",
   "execution_count": null,
   "id": "d495e8fa",
   "metadata": {},
   "outputs": [],
   "source": []
  }
 ],
 "metadata": {
  "kernelspec": {
   "display_name": "Python 3",
   "language": "python",
   "name": "python3"
  },
  "language_info": {
   "codemirror_mode": {
    "name": "ipython",
    "version": 3
   },
   "file_extension": ".py",
   "mimetype": "text/x-python",
   "name": "python",
   "nbconvert_exporter": "python",
   "pygments_lexer": "ipython3",
   "version": "3.11.0"
  },
  "vscode": {
   "interpreter": {
    "hash": "aee8b7b246df8f9039afb4144a1f6fd8d2ca17a180786b69acc140d282b71a49"
   }
  }
 },
 "nbformat": 4,
 "nbformat_minor": 5
}
