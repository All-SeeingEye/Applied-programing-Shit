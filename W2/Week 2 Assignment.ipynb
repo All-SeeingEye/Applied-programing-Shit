{
 "cells": [
  {
   "cell_type": "markdown",
   "id": "daa5bfb4",
   "metadata": {},
   "source": [
    "# Problem 1\n",
    "* Write a function to find the factorial of N (N being an input) and find the time taken to compute it.  This will obviously depend on where you run the code and which approach you use to implement the factorial.  Explain your observations briefly."
   ]
  },
  {
   "cell_type": "code",
   "execution_count": 1,
   "id": "ad1fe40f",
   "metadata": {},
   "outputs": [
    {
     "name": "stdout",
     "output_type": "stream",
     "text": [
      "Enter a integer number: 999\n",
      "This is Reccursion\n",
      "402387260077093773543702433923003985719374864210714632543799910429938512398629020592044208486969404800479988610197196058631666872994808558901323829669944590997424504087073759918823627727188732519779505950995276120874975462497043601418278094646496291056393887437886487337119181045825783647849977012476632889835955735432513185323958463075557409114262417474349347553428646576611667797396668820291207379143853719588249808126867838374559731746136085379534524221586593201928090878297308431392844403281231558611036976801357304216168747609675871348312025478589320767169132448426236131412508780208000261683151027341827977704784635868170164365024153691398281264810213092761244896359928705114964975419909342221566832572080821333186116811553615836546984046708975602900950537616475847728421889679646244945160765353408198901385442487984959953319101723355556602139450399736280750137837615307127761926849034352625200015888535147331611702103968175921510907788019393178114194545257223865541461062892187960223838971476088506276862967146674697562911234082439208160153780889893964518263243671616762179168909779911903754031274622289988005195444414282012187361745992642956581746628302955570299024324153181617210465832036786906117260158783520751516284225540265170483304226143974286933061690897968482590125458327168226458066526769958652682272807075781391858178889652208164348344825993266043367660176999612831860788386150279465955131156552036093988180612138558600301435694527224206344631797460594682573103790084024432438465657245014402821885252470935190620929023136493273497565513958720559654228749774011413346962715422845862377387538230483865688976461927383814900140767310446640259899490222221765904339901886018566526485061799702356193897017860040811889729918311021171229845901641921068884387121855646124960798722908519296819372388642614839657382291123125024186649353143970137428531926649875337218940694281434118520158014123344828015051399694290153483077644569099073152433278288269864602789864321139083506217095002597389863554277196742822248757586765752344220207573630569498825087968928162753848863396909959826280956121450994871701244516461260379029309120889086942028510640182154399457156805941872748998094254742173582401063677404595741785160829230135358081840096996372524230560855903700624271243416909004153690105933983835777939410970027753472000000000000000000000000000000000000000000000000000000000000000000000000000000000000000000000000000000000000000000000000000000000000000000000000000000000000000000000000000000000000000000000000000000000000000000000000000000000000000000000000000000\n",
      "362 µs ± 4.27 µs per loop (mean ± std. dev. of 7 runs, 1,000 loops each)\n",
      "This is a for loop\n",
      "402387260077093773543702433923003985719374864210714632543799910429938512398629020592044208486969404800479988610197196058631666872994808558901323829669944590997424504087073759918823627727188732519779505950995276120874975462497043601418278094646496291056393887437886487337119181045825783647849977012476632889835955735432513185323958463075557409114262417474349347553428646576611667797396668820291207379143853719588249808126867838374559731746136085379534524221586593201928090878297308431392844403281231558611036976801357304216168747609675871348312025478589320767169132448426236131412508780208000261683151027341827977704784635868170164365024153691398281264810213092761244896359928705114964975419909342221566832572080821333186116811553615836546984046708975602900950537616475847728421889679646244945160765353408198901385442487984959953319101723355556602139450399736280750137837615307127761926849034352625200015888535147331611702103968175921510907788019393178114194545257223865541461062892187960223838971476088506276862967146674697562911234082439208160153780889893964518263243671616762179168909779911903754031274622289988005195444414282012187361745992642956581746628302955570299024324153181617210465832036786906117260158783520751516284225540265170483304226143974286933061690897968482590125458327168226458066526769958652682272807075781391858178889652208164348344825993266043367660176999612831860788386150279465955131156552036093988180612138558600301435694527224206344631797460594682573103790084024432438465657245014402821885252470935190620929023136493273497565513958720559654228749774011413346962715422845862377387538230483865688976461927383814900140767310446640259899490222221765904339901886018566526485061799702356193897017860040811889729918311021171229845901641921068884387121855646124960798722908519296819372388642614839657382291123125024186649353143970137428531926649875337218940694281434118520158014123344828015051399694290153483077644569099073152433278288269864602789864321139083506217095002597389863554277196742822248757586765752344220207573630569498825087968928162753848863396909959826280956121450994871701244516461260379029309120889086942028510640182154399457156805941872748998094254742173582401063677404595741785160829230135358081840096996372524230560855903700624271243416909004153690105933983835777939410970027753472000000000000000000000000000000000000000000000000000000000000000000000000000000000000000000000000000000000000000000000000000000000000000000000000000000000000000000000000000000000000000000000000000000000000000000000000000000000000000000000000000000\n",
      "287 µs ± 3.76 µs per loop (mean ± std. dev. of 7 runs, 1,000 loops each)\n"
     ]
    }
   ],
   "source": [
    "#Code to Generate N factorial\n",
    "#Using Reccurssion\n",
    "def factorial(N):\n",
    "    if N==1 or N==0:\n",
    "        return 1\n",
    "    else:\n",
    "        return N*factorial(N-1)\n",
    "    \n",
    "#Using a for loop\n",
    "def fact(N):\n",
    "    num = 1\n",
    "    for i in range(N):\n",
    "        num = num*(i+1)\n",
    "    return num\n",
    "\n",
    "#Take appropiate input\n",
    "try:\n",
    "    N = int(input('Enter a integer number: '))\n",
    "    print('This is Reccursion')\n",
    "    print(factorial(N))\n",
    "    %timeit factorial(N)\n",
    "\n",
    "    print('This is a for loop')\n",
    "    print(fact(N))\n",
    "    %timeit fact(N)\n",
    "except:\n",
    "    print('Invalid Number')\n",
    "\n",
    "\n"
   ]
  },
  {
   "cell_type": "markdown",
   "id": "6d428615",
   "metadata": {},
   "source": [
    "* For finding factorial of number I have used reccursion method and a for loop method,in reccursion method the fuction is called again and again until N equals 1, this method usese the property N! = N*(N-1)! and solves the problem \n",
    "* The second method I have used is just used a simple for loop to calculate N! it uses the property N! = 1*2*3...(N-1)*N \n",
    "* The time of reccusive function is 348$\\mu$s greater then for loop implementation of 283$\\mu$s as reccursive fuction is calling the fuction again and again which takes time greater then  the for loop implementation; for loop implementation calls the fuction ones and multiplies the values till N and returns the answer and thus is relatively faster then reccursive implementation"
   ]
  },
  {
   "cell_type": "markdown",
   "id": "8186239a",
   "metadata": {},
   "source": [
    "# Problem 2\n",
    "* Write a linear equation solver that will take in matrices $A$ and $b$ as inputs, and return the vector $x$ that solves the equation $Ax=b$.  Your function should catch errors in the inputs and return suitable error messages for different possible problems.\n",
    "* Time your solver to solve a random $10\\times 10$ system of equations.  Compare the time taken against the `numpy.linalg.solve` function for the same inputs."
   ]
  },
  {
   "cell_type": "markdown",
   "id": "1d4722e5",
   "metadata": {},
   "source": [
    "## Using Gauss Elemination"
   ]
  },
  {
   "cell_type": "code",
   "execution_count": 2,
   "id": "d9ac743a",
   "metadata": {},
   "outputs": [],
   "source": [
    "import numpy as np\n",
    "def row_swap(A,r1,r2):        #Swapping rows r1 and r2 of matrix A\n",
    "    A[r1],A[r2] = A[r2],A[r1]\n",
    "      \n",
    "def agumented(A,b):           #Making a Augumented Matrix using matrix A and b\n",
    "    n = len(A)\n",
    "    for i in range(len(A)):\n",
    "        A[i].append(b[i][0])\n",
    "        \n",
    "#To calculatee determinant of the matrix in case of singular matrix case\n",
    "#calculate minor of the matrix A and element ij\n",
    "def matminor(A,i,j):  \n",
    "    B = []\n",
    "    for row in A[:i]+A[i+1:]:\n",
    "        B.append(row[:j] + row[j+1:])\n",
    "    return B\n",
    "#Use reccurssion to calculate determinant of the matrix\n",
    "def det(A):\n",
    "    determinant = 0\n",
    "    #------------------------------------------------------------------\n",
    "    if len(A) == 1:\n",
    "        #-------------\n",
    "        return A[0][0]\n",
    "    elif len(A) == 2:\n",
    "        #-------------------------------------\n",
    "        return A[0][0]*A[1][1]-A[0][1]*A[1][0]      #Formula for determinant of the matrix\n",
    "    else:\n",
    "        for k in range(len(A)):\n",
    "            determinant += (pow(-1,k))*A[0][k]*det(matminor(A,0,k))#Use reccursion to solve \n",
    "                                                                   #for n>2\n",
    "        #-----------------\n",
    "        return determinant\n",
    "    \n",
    "def normalization(A,c):   #Normalise the row c of the matrix A\n",
    "    m = len(A[0])\n",
    "    n = len(A)\n",
    "    #n = len(A)\n",
    "    try:\n",
    "        for i in range(m):\n",
    "            if A[c][c] != 1:\n",
    "                norm = A[c][c] \n",
    "                for j in range(m):\n",
    "                    A[c][j] = A[c][j]/norm\n",
    "    except ZeroDivisionError:\n",
    "        for i in range(n):\n",
    "            for j in range(i+1,n):\n",
    "                if A[j][i] != 0:\n",
    "                    #swap A[j] with A[i]\n",
    "                    row_swap(A,j,i)\n",
    "        normalization(A,c)\n",
    "                \n",
    "                \n",
    "def elemination(A,r,c):   #make element rc of the matrix A zero\n",
    "    #normalization(A,c)\n",
    "    m = len(A[0])\n",
    "    for i in range(m):\n",
    "        if A[r][c] != 0:\n",
    "            ele = A[r][c]\n",
    "            for j in range(m):\n",
    "                A[r][j] = A[r][j] - ((ele)*A[c][j])\n",
    "\n",
    "def gauss(A,b):          #Gauss eleminantion Algorithm\n",
    "    agumented(A,b)\n",
    "    m = len(A)\n",
    "    for i in range(m):\n",
    "        normalization(A,i)\n",
    "        for j in range(m):\n",
    "            if i != j:\n",
    "                elemination(A,j,i)\n",
    "    return A\n",
    "\n",
    "def solutions(A,b):     #Extracting the solution after Gauss elemination and handling edge cases\n",
    "    n = len(b)\n",
    "    #print(A)\n",
    "    d = det(A)\n",
    "    if d == 0:\n",
    "        return ('No Solutions')\n",
    "    else:\n",
    "        sol = []\n",
    "        B = gauss(A,b)\n",
    "        for i in range(len(B)):\n",
    "            sol.append(B[i][-1])\n",
    "\n",
    "        return sol\n",
    "\n"
   ]
  },
  {
   "cell_type": "code",
   "execution_count": 3,
   "id": "cdb04caf",
   "metadata": {},
   "outputs": [
    {
     "name": "stdout",
     "output_type": "stream",
     "text": [
      "This is solving Ax=b with NumPy\n",
      "[[ 83.97198602]\n",
      " [-26.14422017]\n",
      " [-28.36046881]\n",
      " [ 41.10333139]\n",
      " [ 22.89398194]\n",
      " [-69.72669974]\n",
      " [-61.04808511]\n",
      " [  7.24325476]\n",
      " [ 44.47335631]\n",
      " [-32.14035456]]\n",
      "18.3 µs ± 711 ns per loop (mean ± std. dev. of 7 runs, 100,000 loops each)\n",
      "\n",
      "This is solving Ax=b without NumPy\n",
      "[ 83.97198602 -26.14422017 -28.36046881  41.10333139  22.89398194\n",
      " -69.72669974 -61.04808511   7.24325476  44.47335631 -32.14035456]\n",
      "2.36 s ± 46.9 ms per loop (mean ± std. dev. of 7 runs, 1 loop each)\n"
     ]
    }
   ],
   "source": [
    "a = np.random.rand(10,10).tolist()\n",
    "b = np.random.rand(10,1).tolist()\n",
    "\n",
    "print('This is solving Ax=b with NumPy')\n",
    "print(np.linalg.solve(np.array(a), np.array(b)))\n",
    "%timeit np.linalg.solve(np.array(a), np.array(b))\n",
    "print()\n",
    "print('This is solving Ax=b without NumPy')\n",
    "print(np.array(solutions(a,b)))\n",
    "%timeit solutions(a,b)"
   ]
  },
  {
   "cell_type": "markdown",
   "id": "ab6c85dd",
   "metadata": {},
   "source": [
    "* The time taken for NumPy is 17$\\mu$s compares to 2s of pure python code this shows that python is objectively slower then C++ or C as NumPy does calculations in C++ or C and does not call Python whereas doing all this is Pure Python takes considerable amount of time"
   ]
  },
  {
   "cell_type": "markdown",
   "id": "e560346e",
   "metadata": {},
   "source": [
    "## Solving using A$^{-1}$b "
   ]
  },
  {
   "cell_type": "code",
   "execution_count": 4,
   "id": "99f4c16e",
   "metadata": {},
   "outputs": [],
   "source": [
    "import numpy as np\n",
    "#To calculatee determinant of the matrix in case of singular matrix case\n",
    "#calculate minor of the matrix A and element ij\n",
    "def matminor(A,r,c): \n",
    "    B = []\n",
    "    for row in A[:r] + A[r+1:]: \n",
    "        B.append(row[:c] + row[c+1:])\n",
    "    return B\n",
    "\n",
    "#Use reccurssion to calculate determinant of the matrix\n",
    "def det(A):\n",
    "    determinant = 0\n",
    "    #------------------------------------------------------------------\n",
    "    if len(A) == 1:\n",
    "        #-------------\n",
    "        return A[0][0]\n",
    "    elif len(A) == 2:\n",
    "        #-------------------------------------\n",
    "        return A[0][0]*A[1][1]-A[0][1]*A[1][0]\n",
    "    else:\n",
    "        for k in range(len(A)):\n",
    "            determinant += (pow(-1,k))*A[0][k]*det(matminor(A,0,k))\n",
    "        #-----------------\n",
    "        return determinant\n",
    "#Exchange row with coulmn and column with row            \n",
    "def tran(A):\n",
    "    n = len(A)\n",
    "    B = [[0] * n for i in range(n)]\n",
    "    #--------------------------------\n",
    "    for i in range(n):\n",
    "        for j in range(n):\n",
    "            B[j][i] = A[i][j]\n",
    "    #--------------------------------\n",
    "    return B\n",
    "\n",
    "#Find Inverse of the matrix A\n",
    "def inv(A):\n",
    "    n = len(A)\n",
    "    #find determinnat\n",
    "    deter = det(A)\n",
    "    if deter == 0:\n",
    "        return 'No Solutions'\n",
    "    #------------------------------------------------\n",
    "    if len(A) == 2:\n",
    "        return [[A[1][1]/deter, -1*A[0][1]/deter],\n",
    "                [-1*A[1][0]/deter, A[0][0]/deter]]\n",
    "    else:\n",
    "        #Find the adjoint matrix co\n",
    "        co = []\n",
    "        #---------------------------------------------\n",
    "        for i in range(n):\n",
    "            corow = []\n",
    "            for j in range(n):\n",
    "                minor = matminor(A,i,j)\n",
    "                #appending co-factors to the determinant co\n",
    "                corow.append(pow(-1,i+j)*det(minor))\n",
    "            co.append(corow)\n",
    "        #taking transpose to get adjoint of matrix A in co\n",
    "        co = tran(co)\n",
    "        #----------------------------------------------\n",
    "        #divide each element by determinant of A and get the inverse of the matrix\n",
    "        for i in range(n):\n",
    "            for j in range(n):\n",
    "                co[i][j] = co[i][j]/deter\n",
    "        #----------------------------------------------       \n",
    "        return co\n",
    "\n",
    "# Make a function to multiply A and B matricies\n",
    "def matmult(A,B):\n",
    "    n = len(A)\n",
    "    m = len(B[0])\n",
    "    #to store A*B\n",
    "    result = [[0] * m for i in range(n)]\n",
    "    #-------------------------------------------\n",
    "    for i in range(len(A)):\n",
    "        for j in range(len(B[0])):\n",
    "            for k in range(len(B)):\n",
    "                #multipy row with column\n",
    "                result[i][j] += A[i][k] * B[k][j]\n",
    "    #--------------------------------------------           \n",
    "    return result\n",
    "\n",
    "#find A^-1*b\n",
    "def  matsolver(A,b):\n",
    "    if len(A[0]) != len(b):\n",
    "        return 'Non compatible dimensions of the matricies'\n",
    "    A_inverse = inv(A)\n",
    "    result = matmult(A_inverse,b)\n",
    "    return result\n",
    "        "
   ]
  },
  {
   "cell_type": "code",
   "execution_count": 5,
   "id": "52d6fab1",
   "metadata": {},
   "outputs": [
    {
     "name": "stdout",
     "output_type": "stream",
     "text": [
      "This is solving Ax=b with NumPy\n",
      "[[ 1.29826532]\n",
      " [ 0.01017759]\n",
      " [-0.71508534]\n",
      " [-1.30416039]\n",
      " [-0.07868267]\n",
      " [ 0.09375643]\n",
      " [ 0.66991393]\n",
      " [ 0.27031047]\n",
      " [ 1.03711746]\n",
      " [ 0.14595029]]\n",
      "20.2 µs ± 1.34 µs per loop (mean ± std. dev. of 7 runs, 100,000 loops each)\n",
      "\n",
      "This is solving Ax=b without NumPy\n",
      "[ 1.29826532  0.01017759 -0.71508534 -1.30416039 -0.07868267  0.09375643\n",
      "  0.66991393  0.27031047  1.03711746  0.14595029]\n",
      "93 ns ± 0.0634 ns per loop (mean ± std. dev. of 7 runs, 10,000,000 loops each)\n"
     ]
    }
   ],
   "source": [
    "a = np.random.rand(10,10).tolist()\n",
    "b = np.random.rand(10,1).tolist()\n",
    "\n",
    "print('This is solving Ax=b with NumPy')\n",
    "print(np.linalg.solve(np.array(a), np.array(b)))\n",
    "%timeit np.linalg.solve(np.array(a), np.array(b))\n",
    "print()\n",
    "print('This is solving Ax=b without NumPy')\n",
    "print(np.array(solutions(a,b)))\n",
    "%timeit matsolver(a,b)"
   ]
  },
  {
   "cell_type": "markdown",
   "id": "3576406f",
   "metadata": {},
   "source": [
    "* The time taken for NumPy is 19$\\mu$s compares to 95ns of pure python code this shows that python is objectively slower then C++ or C as NumPy does calculations in C++ or C and does not call Python whereas doing all this is Pure Python takes considerable amount of time"
   ]
  },
  {
   "cell_type": "markdown",
   "id": "7108e209",
   "metadata": {},
   "source": [
    "# Problem 3\n",
    "* **Given a circuit netlist in the form described above, read it in from a file, construct the appropriate matrices, and use the solver you have written above to obtain the voltages and currents in the circuit.  If you find AC circuits hard to handle, first do this for pure DC circuits, but you should be able to handle both voltage and current sources.**\n",
    "\n"
   ]
  },
  {
   "cell_type": "markdown",
   "id": "966b4146",
   "metadata": {},
   "source": [
    "### 1. Filtering the content of the netlist file "
   ]
  },
  {
   "cell_type": "code",
   "execution_count": 6,
   "id": "6640c24c",
   "metadata": {},
   "outputs": [
    {
     "name": "stdout",
     "output_type": "stream",
     "text": [
      "['.circuit', 'R1 GND 1 10', 'V1 GND 1 dc 10', '.end']\n"
     ]
    }
   ],
   "source": [
    "#import required libraries\n",
    "import numpy as np\n",
    "import re\n",
    "\n",
    "#make a custom error for having more than one frequencies in netlist\n",
    "class MoreFreqError(Exception):\n",
    "    pass\n",
    "\n",
    "#netlist = input('What is the file name? ')  \n",
    "\n",
    "netlist = 'ckt5.netlist'  #<---------uncommet this to hardcode file name\n",
    "\n",
    "#read the file and load it contents to a list\n",
    "try:\n",
    "    with open(netlist,'r') as f:\n",
    "        para = f.read().splitlines()\n",
    "except FileNotFoundError:\n",
    "    print('Make sure the path of the .netlist or .txt file is same as this notebook')\n",
    "    \n",
    "#find .circuit and .ac or .end and remove others unneccesaary things\n",
    "try:\n",
    "    index1 = para.index('.circuit')\n",
    "    index2 = para.index('.end')\n",
    "    string = re.findall('\\.ac.*', '\\n'.join(para))\n",
    "\n",
    "    #update the content to have data between .circuit and .end using string slicing method\n",
    "    para = para[index1:index2+1]\n",
    "\n",
    "    #update content to have data regarding frequencies\n",
    "    para.extend(string)\n",
    "\n",
    "    #to check if there is only one frequency\n",
    "    w = []\n",
    "    if len(string)>=1:\n",
    "        for line in string:\n",
    "            w_st = line.split()\n",
    "            w.append(int(w_st[2]))\n",
    "    try:\n",
    "        if max(w) != min(w):\n",
    "            raise MoreFreqError\n",
    "    except MoreFreqError:\n",
    "        print('More than one AC frequencys')\n",
    "    except ValueError:\n",
    "        pass\n",
    "    \n",
    "\n",
    "    #remove comments from the paragraph or the strings after '#'  \n",
    "    filtered = []\n",
    "    for line in para:\n",
    "        #l = re.sub(r'#.*','',line)\n",
    "        l = line.split('#')\n",
    "        filtered.append(l[0])\n",
    "    #the proccesed content is filtered\n",
    "    print(filtered)\n",
    "except ValueError:\n",
    "    print('Invalid Netlist')\n",
    "#find .ac in the content as .ac comes after .end\n",
    "\n"
   ]
  },
  {
   "cell_type": "markdown",
   "id": "e81b2b26",
   "metadata": {},
   "source": [
    "### 2. Changing the content to useful data format"
   ]
  },
  {
   "cell_type": "code",
   "execution_count": 7,
   "id": "08b1439c",
   "metadata": {},
   "outputs": [
    {
     "data": {
      "text/plain": [
       "['R1 0 1 10', 'V1 0 1 10']"
      ]
     },
     "execution_count": 7,
     "metadata": {},
     "output_type": "execute_result"
    }
   ],
   "source": [
    "#delete .circuit and .end and return if the circuit is ac or dc and if ac then\n",
    "# collect operating frequency\n",
    "def delete_headings(circ):\n",
    "    data = [' '.join(x.split()) for x in circ]\n",
    "    mode = circ[-1]\n",
    "    data = [n for n in data if not n.startswith('.')] \n",
    "    if mode == '.end':\n",
    "        return (0,'dc',data)\n",
    "    else:\n",
    "        k = mode.split()\n",
    "        return (k[2],'ac', data)\n",
    "    \n",
    "(w0,mode,y) = delete_headings(filtered)\n",
    "#frequency of circuit \n",
    "w0 = int(w0)\n",
    "flag_ac = 0\n",
    "flag_dc = 0\n",
    "#Making useful data list\n",
    "data = []\n",
    "try:\n",
    "    for line in y:\n",
    "        line = line.split(' ')\n",
    "        if line[1] == 'GND':       # Changing the GND node to 0 node for calculation purposes\n",
    "            line[1] = '0'\n",
    "        if line[2] == 'GND':\n",
    "            line[2] = '0'\n",
    "        #Handling for non nuumeric nodes   \n",
    "        if line[1][0] == 'n':\n",
    "            line[1] = line[1][1:]\n",
    "        if line[2][0] == 'n':\n",
    "            line[2] = line[2][1:]\n",
    "\n",
    "        if line[3] == 'dc' or line[3] == 'ac': #Could have use mode \n",
    "            if line[3] == 'dc':\n",
    "                flag_dc = 1\n",
    "            else:\n",
    "                flag_ac = 1\n",
    "            del line[3]                        # delete 'ac' or 'dc' strings\n",
    "        x = ' '.join(line)\n",
    "        data.append(x)\n",
    "except:\n",
    "    print('Invalid Netlist')\n",
    "data   "
   ]
  },
  {
   "cell_type": "code",
   "execution_count": 8,
   "id": "7a2d207f",
   "metadata": {},
   "outputs": [],
   "source": [
    "#intializing variables\n",
    "rlc_count = 0\n",
    "v_count = 0\n",
    "i_count = 0\n",
    "\n",
    "if flag_ac and flag_dc:    #Cathing case of AC DC mixed circuit\n",
    "    print('***AC and DC mixed circuit found***')"
   ]
  },
  {
   "cell_type": "markdown",
   "id": "2ef79c85",
   "metadata": {},
   "source": [
    "### Counting elements and Error handling in netlist"
   ]
  },
  {
   "cell_type": "code",
   "execution_count": 9,
   "id": "541b31e3",
   "metadata": {},
   "outputs": [],
   "source": [
    "# number of components and branches\n",
    "line_count = len(data) \n",
    "branch_count = 0     #no need for this as line_count = branch_count but done anyways\n",
    "\n",
    "#counting number of passive elements rlc and active elemets V ,I\n",
    "for i in range(line_count):\n",
    "    comp = data[i][0]      #the 0th index shows name of component\n",
    "    value_count = len(data[i].split()) #value count is a nested list containg a list\n",
    "                                       #that contains name of component\n",
    "                                       #postive node, negative node and value of \n",
    "                                       #the component\n",
    "    if (comp == 'R') or (comp == 'L') or (comp == 'C'): #add capatlize function\n",
    "        if value_count != 4:           # handling errors\n",
    "            print(\"Error in netlist\")\n",
    "            print('Error in passive elements RLC')\n",
    "        rlc_count += 1\n",
    "        branch_count += 1\n",
    "    elif comp == 'V':\n",
    "        if value_count != 5 and value_count != 4:\n",
    "            print(\"Error in netlist \")\n",
    "            print('Error in Voltage source/node')\n",
    "        v_count += 1\n",
    "        branch_count += 1\n",
    "    elif comp == 'I':\n",
    "        if value_count != 4 and value_count != 5:\n",
    "            print(\"Error in netlist \")\n",
    "            print('Error in Current source/branch')\n",
    "        i_count += 1\n",
    "        branch_count += 1\n",
    "    else:\n",
    "        print('Unknow element found in netlist')\n",
    "         \n"
   ]
  },
  {
   "cell_type": "markdown",
   "id": "f29d810b",
   "metadata": {},
   "source": [
    "### Making functions to help in load data from file to a dictionary"
   ]
  },
  {
   "cell_type": "code",
   "execution_count": 10,
   "id": "7c12422a",
   "metadata": {},
   "outputs": [],
   "source": [
    "#using data to make a dictionary that can help in extracting data easily\n",
    "data_dic = {'element':[],'+node':[],'-node':[],'value':[],'phase':[]}\n",
    "\n",
    "#making a loading function that takes values from data \n",
    "#and stores to dictionary for passive elements\n",
    "def load_rlc(line_number):\n",
    "    line = data[line_number].split()\n",
    "    data_dic['element'] += [line[0]]\n",
    "    data_dic['+node'] += [int(line[1])]\n",
    "    data_dic['-node'] += [int(line[2])]\n",
    "    data_dic['value'] += [float(line[3])]\n",
    "    if line[0][0] == 'R':                #for ac circuit\n",
    "        data_dic['phase'] += [0.0]\n",
    "    elif line[0][0] == 'L':\n",
    "        data_dic['phase'] += [np.pi/2]\n",
    "    elif line[0][0] == 'C':\n",
    "        data_dic['phase'] += [np.pi/2]\n",
    "        \n",
    "        \n",
    "#making a loading function that takes values from data \n",
    "#and stores to dictionary for active elements\n",
    "def load_sources(line_number):\n",
    "    line = data[line_number].split()\n",
    "    if mode == 'dc':\n",
    "        data_dic['element'] += [line[0]]\n",
    "        data_dic['+node'] += [int(line[1])]\n",
    "        data_dic['-node'] += [int(line[2])]\n",
    "        data_dic['value'] += [float(line[3])]\n",
    "        data_dic['phase'] += [0.0]\n",
    "    elif mode == 'ac':\n",
    "            data_dic['element'] += [line[0]]\n",
    "            data_dic['+node'] += [int(line[1])]\n",
    "            data_dic['-node'] += [int(line[2])]\n",
    "            data_dic['value'] += [float(line[3])]\n",
    "            try:                                     #for ac mode\n",
    "                data_dic['phase'] += [float(line[4])]\n",
    "            except IndexError:\n",
    "                data_dic['phase'] += [0.0]\n",
    "            \n",
    "    else:\n",
    "        return('Unknown mode')\n",
    "        \n",
    "    \n",
    "        \n",
    "    \n",
    "# load_rlc(0)\n",
    "# load_rlc(1)\n",
    "# load_rlc(2)"
   ]
  },
  {
   "cell_type": "code",
   "execution_count": 11,
   "id": "50272a62",
   "metadata": {},
   "outputs": [],
   "source": [
    "def count_nodes():\n",
    "    n = [([0]*(line_count+1)) for i in range(1)]\n",
    "    for i in range(line_count - 1):\n",
    "        n[0][data_dic['+node'][i]] = data_dic['+node'][i]\n",
    "        n[0][data_dic['-node'][i]] = data_dic['-node'][i]\n",
    "        #largetst node\n",
    "    if max(data_dic['-node']) > max(data_dic['+node']):\n",
    "        largest = max(data_dic['-node'])\n",
    "    else:\n",
    "        largest =  max(data_dic['+node'])\n",
    "        \n",
    "    # check for unfilled elements, skip node 0\n",
    "    for i in range(1,largest):\n",
    "        if n[0][i] == 0:\n",
    "            print('Error in node order')\n",
    "    return largest"
   ]
  },
  {
   "cell_type": "code",
   "execution_count": 12,
   "id": "a2735435",
   "metadata": {},
   "outputs": [],
   "source": [
    "#load data into dictionary\n",
    "for i in range(line_count):\n",
    "    comp = data[i][0]\n",
    "    if (comp == 'R') or (comp == 'L') or (comp == 'C'):\n",
    "        load_rlc(i)\n",
    "    elif (comp == 'V') or (comp == 'I'):\n",
    "        load_sources(i)\n",
    "    else:\n",
    "        print('Unknown Elelment Error')\n",
    "        \n",
    "# count number of nodes\n",
    "num_nodes = count_nodes() #maximum node number in the circuit"
   ]
  },
  {
   "cell_type": "code",
   "execution_count": 13,
   "id": "402d2cd2",
   "metadata": {},
   "outputs": [
    {
     "name": "stdout",
     "output_type": "stream",
     "text": [
      "{'element': ['R1', 'V1'], '+node': [0, 0], '-node': [1, 1], 'value': [10.0, 10.0], 'phase': [0.0, 0.0]}\n",
      "0\n"
     ]
    }
   ],
   "source": [
    "#The dictionary \n",
    "print(data_dic)\n",
    "#The frequency\n",
    "print(w0)"
   ]
  },
  {
   "cell_type": "markdown",
   "id": "430fbc28",
   "metadata": {},
   "source": [
    "### Using dicitionary made above to count the number of nodes in the circuit ignoring the GND or 0 node"
   ]
  },
  {
   "cell_type": "markdown",
   "id": "f10024db",
   "metadata": {},
   "source": [
    "### Make Matricies to solve the MNA"
   ]
  },
  {
   "cell_type": "code",
   "execution_count": 14,
   "id": "d4831fe0",
   "metadata": {},
   "outputs": [],
   "source": [
    "#make matricies for calculations\n",
    "#V matrix to store variable names of voltage nodes\n",
    "#V = np.zeros((num_nodes,1))\n",
    "#I matrix to store values of independent current sources\n",
    "I = np.zeros((num_nodes,1),dtype='complex_')\n",
    "#G matrix as in conductance matrix for the equations\n",
    "G = np.zeros((num_nodes,num_nodes),dtype='complex_')\n",
    "\n",
    "\n",
    "# count the number of element types that affect the size of the B, C, D, E and J arrays\n",
    "k = v_count #number of branches with unknown currents for MNA\n",
    "if k != 0:\n",
    "    B = np.zeros((num_nodes,k),dtype='complex_')\n",
    "    C = np.zeros((k,num_nodes),dtype='complex_')\n",
    "    D = np.zeros((k,k),dtype='complex_')\n",
    "    E = np.zeros((k,1),dtype='complex_')\n",
    "    #J = np.zeros((k,1),dtype='complex_')\n"
   ]
  },
  {
   "cell_type": "markdown",
   "id": "7a02a366",
   "metadata": {},
   "source": [
    "## Generating the MNA Matrices\n",
    "* There are three matrices we need to generate, the **A** matrix, the **X** matrix and the **Z** matrix. Each of these will be created by combining several individual sub-matrices."
   ]
  },
  {
   "cell_type": "markdown",
   "id": "3c5a2d5f",
   "metadata": {},
   "source": [
    "## Making of A matrix\n",
    "* The **A** matrix will be developed as the combination of 4 smaller matrices, G, B, C, and D.  \n",
    "$$\n",
    "\\begin{bmatrix}\n",
    "\\ G & B \\\\\n",
    "\\ C   & D \\\\\n",
    "\\end{bmatrix}\n",
    "$$\n",
    "* The A matrix is (m+n)×(m+n) (n is the number of nodes, and m is the number of independent voltage sources) and:\n",
    "* the G matrix is n×n and is determined by the interconnections between the passive circuit elements (resistors)\n",
    "* the B matrix is n×m and is determined by the connection of the voltage sources.\n",
    "* the C matrix is m×n and is determined by the connection of the voltage sources. ( B and C are closely related, particularly when only independent sources are considered).\n",
    "* the D matrix is m×m and is zero if only independent sources are considered."
   ]
  },
  {
   "cell_type": "markdown",
   "id": "0a01c678",
   "metadata": {},
   "source": [
    "## G Matrix\n",
    "* The G matrix is an n×n matrix formed in two steps\n",
    "1. Each element in the diagonal matrix is equal to the sum of the conductance (one over the resistance) of each element connected to the corresponding node. So the first diagonal element is the sum of conductances connected to node 1, the second diagonal element is the sum of conductances connected to node 2, and so on.\n",
    "1. The off diagonal elements are the negative conductance of the element connected to the pair of corresponding node. Therefore a resistor between nodes 1 and 2 goes into the G matrix at location (1,2) and locations (2,1)."
   ]
  },
  {
   "cell_type": "code",
   "execution_count": 15,
   "id": "89af0553",
   "metadata": {},
   "outputs": [
    {
     "name": "stdout",
     "output_type": "stream",
     "text": [
      "[[0.1+0.j]]\n"
     ]
    }
   ],
   "source": [
    "for i in range(branch_count):  \n",
    "    n1 = data_dic['+node'][i] #first node is + \n",
    "    n2 = data_dic['-node'][i] #second node is - \n",
    "    # iterate through each element and save them in temporary variable g\n",
    "    # then appy the rules to make G matrix\n",
    "    comp = data_dic['element'][i][0]   #The first letter shows element type\n",
    "    if comp == 'R':\n",
    "        g = 1/data_dic['value'][i]     #1/R\n",
    "    if comp == 'L':\n",
    "        if mode == 'ac':\n",
    "            g = 1/(1j*w0*data_dic['value'][i])  #1/jwL got AC\n",
    "        else:\n",
    "            g = np.inf                          #for dc L behaves as close circuit in steady state\n",
    "    if comp == 'C':\n",
    "        if mode == 'ac':\n",
    "            g = 1j*w0*data_dic['value'][i]      #jwC\n",
    "        else:\n",
    "            g = 0                               #for dc C behaves as open circuit in steady state\n",
    "\n",
    "    if (comp == 'R') or (comp == 'L') or (comp == 'C'):\n",
    "        # If neither side of the element is connected to ground\n",
    "        # then subtract it from appropriate location in matrix.\n",
    "        if (n1 != 0) and (n2 != 0):\n",
    "            G[n1-1,n2-1] += -g\n",
    "            G[n2-1,n1-1] += -g\n",
    "\n",
    "        # If node 1 is connected to ground, add element to diagonal of matrix\n",
    "        if n1 != 0:\n",
    "            G[n1-1,n1-1] += g\n",
    "\n",
    "        # same for for node 2\n",
    "        if n2 != 0:\n",
    "            G[n2-1,n2-1] += g\n",
    "\n",
    "print(G)"
   ]
  },
  {
   "cell_type": "markdown",
   "id": "281348a9",
   "metadata": {},
   "source": [
    "## B matrix\n",
    "* The B matrix is an n×m matrix with only 0, 1 and -1 elements. Each location in the matrix corresponds to a particular voltage source (first dimension) or a node (second dimension). If the positive terminal of the ith voltage source is connected to node k, then the element (i,k) in the B matrix is a 1. If the negative terminal of the ith voltage source is connected to node k, then the element (i,k) in the B matrix is a -1. Otherwise, elements of the B matrix are zero."
   ]
  },
  {
   "cell_type": "code",
   "execution_count": 16,
   "id": "6690420a",
   "metadata": {},
   "outputs": [
    {
     "data": {
      "text/plain": [
       "array([[1.+0.j]])"
      ]
     },
     "execution_count": 16,
     "metadata": {},
     "output_type": "execute_result"
    }
   ],
   "source": [
    "# generate the B Matrix\n",
    "# loop through all the branches and process independent voltage sources\n",
    "sources = 0   # count source number\n",
    "for i in range(branch_count):\n",
    "    n1 = data_dic['+node'][i]\n",
    "    n2 = data_dic['-node'][i]\n",
    "    # process all the independent voltage sources\n",
    "    #x = df.loc[i,'element'][0]   #get 1st letter of element name\n",
    "    comp = data_dic['element'][i][0]\n",
    "    if comp == 'V':\n",
    "        if v_count > 1:\n",
    "            if n1 != 0:\n",
    "                B[n1-1][sources] = 1\n",
    "            if n2 != 0:\n",
    "                B[n2-1][sources] = -1\n",
    "            sources += 1   #increment source count\n",
    "        else:\n",
    "            if n1 != 0:\n",
    "                B[n1-1] = -1\n",
    "            if n2 != 0:\n",
    "                B[n2-1] = +1\n",
    "        \n",
    "B   "
   ]
  },
  {
   "cell_type": "markdown",
   "id": "d6bcca1c",
   "metadata": {},
   "source": [
    "## C Matrix\n",
    "* The C matrix is an m×n matrix with only 0, 1 and -1 elements. Each location in the matrix corresponds to a particular node (first dimension) or voltage source (second dimension). If the positive terminal of the ith voltage source is connected to node k, then the element (k,i) in the C matrix is a 1. If the negative terminal of the ith voltage source is connected to node k, then the element (k,i) in the C matrix is a -1. Otherwise, elements of the C matrix are zero.\n",
    "* In other words, the C matrix is the transpose of the B matrix. (This is not the case when dependent sources are present.)"
   ]
  },
  {
   "cell_type": "code",
   "execution_count": 17,
   "id": "9bf2f340",
   "metadata": {},
   "outputs": [
    {
     "name": "stdout",
     "output_type": "stream",
     "text": [
      "[[1.+0.j]]\n"
     ]
    }
   ],
   "source": [
    "# generate the C matrix\n",
    "source = 0   # count source number\n",
    "for i in range(branch_count):\n",
    "    #n1 = df.loc[i,'p node']\n",
    "    n1 = data_dic['+node'][i]\n",
    "    n2 = data_dic['-node'][i]\n",
    "    # process all the independent voltage sources\n",
    "    #x = df.loc[i,'element'][0]   #get 1st letter of element name\n",
    "    comp = data_dic['element'][i][0]\n",
    "    if comp == 'V':\n",
    "        if v_count > 1:\n",
    "            if n1 != 0:\n",
    "                C[source][n1-1] = 1\n",
    "            if n2 != 0:\n",
    "                C[source][n2-1] = -1\n",
    "            source += 1   #increment source count\n",
    "        else:\n",
    "            if n1 != 0:\n",
    "                C[0][n1-1] = -1\n",
    "            if n2 != 0:\n",
    "                C[0][n2-1] = +1\n",
    "print(C)   "
   ]
  },
  {
   "cell_type": "markdown",
   "id": "3928d6f5",
   "metadata": {},
   "source": [
    "## D Matrix\n",
    "* The D matrix is an m×m matrix that is composed entirely of zeros. (It can be non-zero if dependent sources are considered.)"
   ]
  },
  {
   "cell_type": "code",
   "execution_count": 18,
   "id": "5390d961",
   "metadata": {},
   "outputs": [
    {
     "name": "stdout",
     "output_type": "stream",
     "text": [
      "[[0.+0.j]]\n"
     ]
    }
   ],
   "source": [
    "print(D)"
   ]
  },
  {
   "cell_type": "markdown",
   "id": "88b306bd",
   "metadata": {},
   "source": [
    "## I Matrix\n",
    "* The i matrix is an n×1 matrix with each element of the matrix corresponding to a particular node. The value of each element of i is determined by the sum of current sources into the corresponding node. If there are no current sources connected to the node, the value is zero."
   ]
  },
  {
   "cell_type": "code",
   "execution_count": 19,
   "id": "74e307e0",
   "metadata": {},
   "outputs": [
    {
     "name": "stdout",
     "output_type": "stream",
     "text": [
      "[[0.+0.j]]\n"
     ]
    }
   ],
   "source": [
    "# Current matrix containg current at each node\n",
    "for i in range(branch_count):\n",
    "    #n1 = df.loc[i,'p node']\n",
    "    n1 = data_dic['+node'][i]\n",
    "    n2 = data_dic['-node'][i]\n",
    "    # process all the passive elements, save conductance to temp value\n",
    "    comp = data_dic['element'][i][0]\n",
    "    if comp == 'I':\n",
    "        #g = data_dic['element'][i]\n",
    "        g = data_dic['value'][i]*np.exp(1j*data_dic['phase'][i]) # For AC in, case dc phase = 0\n",
    "        #g = data_dic['value'][i]\n",
    "        # sum the current into each node\n",
    "        if n1 != 0:\n",
    "            I[n1-1] = I[n1-1] - g\n",
    "        if n2 != 0:\n",
    "            I[n2-1] = I[n2-1] + g\n",
    "            \n",
    "print(I)"
   ]
  },
  {
   "cell_type": "code",
   "execution_count": 20,
   "id": "165d7a30",
   "metadata": {},
   "outputs": [],
   "source": [
    "#Making matrix to store names of unknown variables\n",
    "#Using python list instead of numpy array as storing strings is easy in them \n",
    "rows, cols = num_nodes,1\n",
    "V = [(''*1) for i in range(num_nodes)]\n",
    "J = [(''*1) for i in range(v_count)]"
   ]
  },
  {
   "cell_type": "markdown",
   "id": "0af94778",
   "metadata": {},
   "source": [
    "## V Matrix\n",
    "* The v matrix is an n×1 matrix formed of the node voltages. Each element in v corresponds to the voltage at the equivalent node in the circuit (there is no entry for ground -- node 0). \n",
    "* For example if a circuit has three nodes, the v matrix is\n",
    "$$\n",
    "\\begin{bmatrix}\n",
    "\\ V_1 \\\\\n",
    "\\ V_2 \\\\\n",
    "\\ V_3 \\\\\n",
    "\\end{bmatrix}\n",
    "$$"
   ]
  },
  {
   "cell_type": "code",
   "execution_count": 21,
   "id": "b6885f70",
   "metadata": {},
   "outputs": [
    {
     "data": {
      "text/plain": [
       "['v1']"
      ]
     },
     "execution_count": 21,
     "metadata": {},
     "output_type": "execute_result"
    }
   ],
   "source": [
    "# Voltage at each node\n",
    "for i in range(num_nodes):\n",
    "    V[i] = V[i] + 'v' +f'{i+1}'\n",
    "\n",
    "V  "
   ]
  },
  {
   "cell_type": "markdown",
   "id": "ae73a6b8",
   "metadata": {},
   "source": [
    "## J Matrix\n",
    "* The j matrix is an m×1 matrix, with one entry for the current through each voltage source. So if there are two voltage sources V1 and V2, the j matrix will be:\n",
    "$$\n",
    "\\begin{bmatrix}\n",
    "\\ I_{V1} \\\\\n",
    "\\ I_{V2} \\\\\n",
    "\\end{bmatrix}\n",
    "$$"
   ]
  },
  {
   "cell_type": "code",
   "execution_count": 22,
   "id": "96bf8a6c",
   "metadata": {},
   "outputs": [
    {
     "data": {
      "text/plain": [
       "['I_V1']"
      ]
     },
     "execution_count": 22,
     "metadata": {},
     "output_type": "execute_result"
    }
   ],
   "source": [
    "# matrix J for current through voltage sources\n",
    "sources = 0   # count source number\n",
    "for i in range(branch_count):\n",
    "    # process all the passive elements\n",
    "    comp = data_dic['element'][i][0]  \n",
    "    if comp == 'V':\n",
    "        #J[sorces] = sympify('I_{:s}'.format(df.loc[i,'element']))\n",
    "        J[sources] = 'I_{:s}'.format(data_dic['element'][i])\n",
    "        sources += 1\n",
    "\n",
    "J  "
   ]
  },
  {
   "cell_type": "markdown",
   "id": "f19ce834",
   "metadata": {},
   "source": [
    "## E matrix\n",
    "* The **E** matrix is an m×1 matrix with each element of the matrix equal in value to the corresponding independent voltage source."
   ]
  },
  {
   "cell_type": "code",
   "execution_count": 23,
   "id": "c7503c69",
   "metadata": {},
   "outputs": [
    {
     "name": "stdout",
     "output_type": "stream",
     "text": [
      "[[10.+0.j]]\n"
     ]
    }
   ],
   "source": [
    "# generate the E matrix\n",
    "source = 0   # count source number\n",
    "for i in range(branch_count):\n",
    "    # process all the passive elements\n",
    "    #get 1st letter of element name\n",
    "    comp = data_dic['element'][i][0]\n",
    "    if comp == 'V':\n",
    "        #E[source] = data_dic['element'][i]\n",
    "        E[source] = data_dic['value'][i]*np.exp(1j*data_dic['phase'][i])\n",
    "        source += 1\n",
    "\n",
    "print(E)   "
   ]
  },
  {
   "cell_type": "markdown",
   "id": "fb4093bd",
   "metadata": {},
   "source": [
    "## Z Matrix\n",
    "* The z matrix holds our independent voltage and current sources and will be developed as the combination of 2 smaller matrices i and e. It is quite easy to formulate\n",
    "$$\n",
    "\\begin{bmatrix}\n",
    "\\ I \\\\\n",
    "\\ E \\\\\n",
    "\\end{bmatrix}\n",
    "$$\n",
    "* The z matrix is (m+n)×1 (n is the number of nodes, and m is the number of independent voltage sources) and:\n",
    "    * The **I** matrix is n×1 and contains the sum of the currents through the passive elements into the corresponding node (either zero, or the sum of independent current sources).\n",
    "    * The **E** matrix is m×1 and holds the values of the independent voltage sources."
   ]
  },
  {
   "cell_type": "code",
   "execution_count": 24,
   "id": "93c97de0",
   "metadata": {},
   "outputs": [
    {
     "data": {
      "text/plain": [
       "array([[ 0.+0.j],\n",
       "       [10.+0.j]])"
      ]
     },
     "execution_count": 24,
     "metadata": {},
     "output_type": "execute_result"
    }
   ],
   "source": [
    "#matrix containg independent voltage source and current sources \n",
    "# Z = I + E\n",
    "Z = np.concatenate((I,E))\n",
    "Z"
   ]
  },
  {
   "cell_type": "markdown",
   "id": "3d989642",
   "metadata": {},
   "source": [
    "## X Matrix\n",
    "* The x matrix holds our unknown quantities and will be developed as the combination of 2 smaller matrices v and j. It is considerably easier to define than the A matrix.\n",
    "$$\n",
    "\\begin{bmatrix}\n",
    "\\ V \\\\\n",
    "\\ J \\\\\n",
    "\\end{bmatrix}\n",
    "$$\n",
    "* The **X** matrix is (m+n)×1 (n is the number of nodes, and m is the number of independent voltage sources) and:\n",
    "* the **V** matrix is n×1 and hold the unknown voltages\n",
    "* the **J** matrix is m×1 and holds the unknown currents through the voltage sources\n"
   ]
  },
  {
   "cell_type": "code",
   "execution_count": 25,
   "id": "4511ed22",
   "metadata": {},
   "outputs": [
    {
     "name": "stdout",
     "output_type": "stream",
     "text": [
      "['v1', 'I_V1']\n"
     ]
    }
   ],
   "source": [
    "#matrix containg node voltage and current through independent voltage sources\n",
    "# unknown variables matrix\n",
    "# X = V + J\n",
    "X = V[:] + J[:]\n",
    "print(X)"
   ]
  },
  {
   "cell_type": "markdown",
   "id": "915132dd",
   "metadata": {},
   "source": [
    "## Making  Matrix A\n",
    "$$\n",
    "\\begin{bmatrix}\n",
    "\\ G & B\\\\\n",
    "\\ C & D\\\\\n",
    "\\end{bmatrix}\n",
    "$$"
   ]
  },
  {
   "cell_type": "code",
   "execution_count": 26,
   "id": "0c9f0660",
   "metadata": {},
   "outputs": [
    {
     "data": {
      "text/plain": [
       "array([[0.1+0.j, 1. +0.j],\n",
       "       [1. +0.j, 0. +0.j]])"
      ]
     },
     "execution_count": 26,
     "metadata": {},
     "output_type": "execute_result"
    }
   ],
   "source": [
    "#The A matrix is (m+n) by (m+n) and will be developed as the combination of 4 smaller matrices, G, B, C, and D.\n",
    "n = num_nodes\n",
    "m = v_count\n",
    "A = np.zeros((m+n,m+n),dtype='complex_')\n",
    "for i in range(n):\n",
    "    for j in range(n):\n",
    "        A[i,j] = G[i,j]\n",
    "\n",
    "if v_count > 1:\n",
    "    for i in range(n):\n",
    "        for j in range(m):\n",
    "            A[i,n+j] = B[i,j]\n",
    "            A[n+j,i] = C[j,i]\n",
    "else:\n",
    "    for i in range(n):\n",
    "        A[i,n] = B[i]\n",
    "        A[n,i] = C[0][i]\n",
    "\n",
    "A  # display the A matrix"
   ]
  },
  {
   "cell_type": "markdown",
   "id": "80d515f6",
   "metadata": {},
   "source": [
    "### Solving the MNA"
   ]
  },
  {
   "cell_type": "code",
   "execution_count": 27,
   "id": "1f86b38c",
   "metadata": {},
   "outputs": [
    {
     "name": "stdout",
     "output_type": "stream",
     "text": [
      "[10.+0.j -1.-0.j]\n",
      "['v1', 'I_V1']\n"
     ]
    }
   ],
   "source": [
    "# Solve AX = Z using either gauss or inverse method\n",
    "if mode =='dc':\n",
    "    print(np.array(solutions(A.tolist(),Z.tolist())))\n",
    "    print(X)\n",
    "else:\n",
    "    print(np.array(matsolver(A.tolist(),Z.tolist())))\n",
    "    print(X)"
   ]
  },
  {
   "cell_type": "markdown",
   "id": "98d0e5e6",
   "metadata": {},
   "source": [
    "refrences: https://lpsa.swarthmore.edu/Systems/Electrical/mna/MNAAll.html"
   ]
  }
 ],
 "metadata": {
  "authors": [
   {
    "name": "Shah Jainam EE21B122"
   }
  ],
  "kernelspec": {
   "display_name": "Python 3 (ipykernel)",
   "language": "python",
   "name": "python3"
  },
  "language_info": {
   "codemirror_mode": {
    "name": "ipython",
    "version": 3
   },
   "file_extension": ".py",
   "mimetype": "text/x-python",
   "name": "python",
   "nbconvert_exporter": "python",
   "pygments_lexer": "ipython3",
   "version": "3.9.13"
  },
  "title": "Week2 Assigment"
 },
 "nbformat": 4,
 "nbformat_minor": 5
}
