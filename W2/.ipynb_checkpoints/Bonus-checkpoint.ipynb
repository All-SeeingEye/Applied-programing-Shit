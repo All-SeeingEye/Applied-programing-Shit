{
 "cells": [
  {
   "cell_type": "markdown",
   "id": "056b0fc3",
   "metadata": {},
   "source": [
    "1. Make diffrential equations with repspect to time\n",
    "    1. Assuming no intial conditions\n",
    "    2. Make a s-domain to t domain converter?\n",
    "2. solve diffrential equations\n",
    "3. plot the equations"
   ]
  },
  {
   "cell_type": "code",
   "execution_count": 1,
   "id": "bcd21b0c",
   "metadata": {},
   "outputs": [],
   "source": [
    "import numpy as np\n",
    "import sympy as sp"
   ]
  },
  {
   "cell_type": "code",
   "execution_count": 2,
   "id": "e86584f6",
   "metadata": {},
   "outputs": [
    {
     "name": "stdout",
     "output_type": "stream",
     "text": [
      "['.circuit', 'V1 GND n3 ac 5 0', 'C1 n1 n2 1', 'R1 n2 n3 1000', 'L1 n1 GND 1e-6', '.end', '.ac V1 1000']\n"
     ]
    }
   ],
   "source": [
    "#import required libraries\n",
    "\n",
    "#make a custom error for having more than one frequencies in netlist\n",
    "class MoreFreqError(Exception):\n",
    "    pass\n",
    "\n",
    "#netlist = input('What is the file name? ')  \n",
    "\n",
    "netlist = 'ckt6.txt'  #<---------uncommet this to hardcode file name\n",
    "\n",
    "#read the file and load it contents to a list\n",
    "try:\n",
    "    with open(netlist,'r') as f:\n",
    "        para = f.read().splitlines()\n",
    "except FileNotFoundError:\n",
    "    print('Make sure the path of the .netlist or .txt file is same as this notebook')\n",
    "    \n",
    "#find .circuit and .ac or .end and remove others unneccesaary things\n",
    "try:\n",
    "    index1 = para.index('.circuit')\n",
    "    index2 = para.index('.end')\n",
    "    string = re.findall('\\.ac.*', '\\n'.join(para))\n",
    "\n",
    "    #update the content to have data between .circuit and .end using string slicing method\n",
    "    para = para[index1:index2+1]\n",
    "\n",
    "    #update content to have data regarding frequencies\n",
    "    para.extend(string)\n",
    "\n",
    "    #to check if there is only one frequency\n",
    "    w = []\n",
    "    if len(string)>=1:\n",
    "        for line in string:\n",
    "            w_st = line.split()\n",
    "            w.append(int(w_st[2]))\n",
    "    try:\n",
    "        if max(w) != min(w):\n",
    "            raise MoreFreqError\n",
    "    except MoreFreqError:\n",
    "        print('More than one AC frequencys')\n",
    "    except ValueError:\n",
    "        pass\n",
    "    \n",
    "\n",
    "    #remove comments from the paragraph or the strings after '#'  \n",
    "    filtered = []\n",
    "    for line in para:\n",
    "        #l = re.sub(r'#.*','',line)\n",
    "        l = line.split('#')\n",
    "        filtered.append(l[0])\n",
    "    #the proccesed content is filtered\n",
    "    print(filtered)\n",
    "except ValueError:\n",
    "    print('Invalid Netlist')\n",
    "#find .ac in the content as .ac comes after .end\n",
    "\n"
   ]
  },
  {
   "cell_type": "code",
   "execution_count": 3,
   "id": "0fe98f10",
   "metadata": {},
   "outputs": [
    {
     "data": {
      "text/plain": [
       "['V1 0 3 5 0', 'C1 1 2 1', 'R1 2 3 1000', 'L1 1 0 1e-6']"
      ]
     },
     "execution_count": 3,
     "metadata": {},
     "output_type": "execute_result"
    }
   ],
   "source": [
    "#intializing variables\n",
    "rlc_count = 0\n",
    "v_count = 0\n",
    "i_count = 0\n",
    "\n",
    "# if flag_ac and flag_dc:    #Cathing case of AC DC mixed circuit\n",
    "#     print('***AC and DC mixed circuit found***')\n",
    "\n",
    "\n",
    "#delete .circuit and .end and return if the circuit is ac or dc and if ac then\n",
    "# collect operating frequency\n",
    "def delete_headings(circ):\n",
    "    data = [' '.join(x.split()) for x in circ]\n",
    "    mode = circ[-1]\n",
    "    data = [n for n in data if not n.startswith('.')] \n",
    "    if mode == '.end':\n",
    "        return (0,'dc',data)\n",
    "    else:\n",
    "        k = mode.split()\n",
    "        return (k[2],'ac', data)\n",
    "    \n",
    "(w0,mode,y) = delete_headings(filtered)\n",
    "#frequency of circuit \n",
    "w0 = int(w0)\n",
    "flag_ac = 0\n",
    "flag_dc = 0\n",
    "#Making useful data list\n",
    "data = []\n",
    "try:\n",
    "    for line in y:\n",
    "        line = line.split(' ')\n",
    "        if line[1] == 'GND':       # Changing the GND node to 0 node for calculation purposes\n",
    "            line[1] = '0'\n",
    "        if line[2] == 'GND':\n",
    "            line[2] = '0'\n",
    "        #Handling for non nuumeric nodes   \n",
    "        if line[1][0] == 'n':\n",
    "            line[1] = line[1][1:]\n",
    "        if line[2][0] == 'n':\n",
    "            line[2] = line[2][1:]\n",
    "\n",
    "        if line[3] == 'dc' or line[3] == 'ac': #Could have use mode \n",
    "            if line[3] == 'dc':\n",
    "                flag_dc = 1\n",
    "            else:\n",
    "                flag_ac = 1\n",
    "            del line[3]                        # delete 'ac' or 'dc' strings\n",
    "        x = ' '.join(line)\n",
    "        data.append(x)\n",
    "except:\n",
    "    print('Invalid Netlist')\n",
    "data   "
   ]
  },
  {
   "cell_type": "code",
   "execution_count": 4,
   "id": "c7f7ddc6",
   "metadata": {},
   "outputs": [],
   "source": [
    "#using data to make a dictionary that can help in extracting data easily\n",
    "data_dic = {'element':[],'+node':[],'-node':[],'value':[],'phase':[]}\n",
    "\n",
    "#making a loading function that takes values from data \n",
    "#and stores to dictionary for passive elements\n",
    "def load_rlc(line_number):\n",
    "    line = data[line_number].split()\n",
    "    data_dic['element'] += [line[0]]\n",
    "    data_dic['+node'] += [int(line[1])]\n",
    "    data_dic['-node'] += [int(line[2])]\n",
    "    data_dic['value'] += [float(line[3])]\n",
    "    if line[0][0] == 'R':                #for ac circuit\n",
    "        data_dic['phase'] += [0.0]\n",
    "    elif line[0][0] == 'L':\n",
    "        data_dic['phase'] += [np.pi/2]\n",
    "    elif line[0][0] == 'C':\n",
    "        data_dic['phase'] += [np.pi/2]\n",
    "        \n",
    "        \n",
    "#making a loading function that takes values from data \n",
    "#and stores to dictionary for active elements\n",
    "def load_sources(line_number):\n",
    "    line = data[line_number].split()\n",
    "    if mode == 'dc':\n",
    "        data_dic['element'] += [line[0]]\n",
    "        data_dic['+node'] += [int(line[1])]\n",
    "        data_dic['-node'] += [int(line[2])]\n",
    "        data_dic['value'] += [float(line[3])]\n",
    "        data_dic['phase'] += [0.0]\n",
    "    elif mode == 'ac':\n",
    "            data_dic['element'] += [line[0]]\n",
    "            data_dic['+node'] += [int(line[1])]\n",
    "            data_dic['-node'] += [int(line[2])]\n",
    "            data_dic['value'] += [float(line[3])]\n",
    "            try:                                     #for ac mode\n",
    "                data_dic['phase'] += [float(line[4])]\n",
    "            except IndexError:\n",
    "                data_dic['phase'] += [0.0]\n",
    "            \n",
    "    else:\n",
    "        return('Unknown mode')\n",
    "        \n",
    "    \n",
    "        \n",
    "    \n",
    "# load_rlc(0)\n",
    "# load_rlc(1)\n",
    "# load_rlc(2)"
   ]
  },
  {
   "cell_type": "code",
   "execution_count": 5,
   "id": "c8c48b58",
   "metadata": {},
   "outputs": [],
   "source": [
    "# number of components and branches\n",
    "line_count = len(data) \n",
    "branch_count = 0     #no need for this as line_count = branch_count but done anyways\n",
    "\n",
    "#counting number of passive elements rlc and active elemets V ,I\n",
    "for i in range(line_count):\n",
    "    comp = data[i][0]      #the 0th index shows name of component\n",
    "    value_count = len(data[i].split()) #value count is a nested list containg a list\n",
    "                                       #that contains name of component\n",
    "                                       #postive node, negative node and value of \n",
    "                                       #the component\n",
    "    if (comp == 'R') or (comp == 'L') or (comp == 'C'): #add capatlize function\n",
    "        if value_count != 4:           # handling errors\n",
    "            print(\"Error in netlist\")\n",
    "            print('Error in passive elements RLC')\n",
    "        rlc_count += 1\n",
    "        branch_count += 1\n",
    "    elif comp == 'V':\n",
    "        if value_count != 5 and value_count != 4:\n",
    "            print(\"Error in netlist \")\n",
    "            print('Error in Voltage source/node')\n",
    "        v_count += 1\n",
    "        branch_count += 1\n",
    "    elif comp == 'I':\n",
    "        if value_count != 4 and value_count != 5:\n",
    "            print(\"Error in netlist \")\n",
    "            print('Error in Current source/branch')\n",
    "        i_count += 1\n",
    "        branch_count += 1\n",
    "    else:\n",
    "        print('Unknow element found in netlist')\n",
    "         \n"
   ]
  },
  {
   "cell_type": "code",
   "execution_count": 6,
   "id": "21330605",
   "metadata": {},
   "outputs": [],
   "source": [
    "def count_nodes():\n",
    "    n = [([0]*(line_count+1)) for i in range(1)]\n",
    "    for i in range(line_count - 1):\n",
    "        n[0][data_dic['+node'][i]] = data_dic['+node'][i]\n",
    "        n[0][data_dic['-node'][i]] = data_dic['-node'][i]\n",
    "        #largetst node\n",
    "    if max(data_dic['-node']) > max(data_dic['+node']):\n",
    "        largest = max(data_dic['-node'])\n",
    "    else:\n",
    "        largest =  max(data_dic['+node'])\n",
    "        \n",
    "    # check for unfilled elements, skip node 0\n",
    "    for i in range(1,largest):\n",
    "        if n[0][i] == 0:\n",
    "            print('Error in node order')\n",
    "    return largest"
   ]
  },
  {
   "cell_type": "code",
   "execution_count": 7,
   "id": "8fdc9068",
   "metadata": {},
   "outputs": [],
   "source": [
    "#load data into dictionary\n",
    "for i in range(line_count):\n",
    "    comp = data[i][0]\n",
    "    if (comp == 'R') or (comp == 'L') or (comp == 'C'):\n",
    "        load_rlc(i)\n",
    "    elif (comp == 'V') or (comp == 'I'):\n",
    "        load_sources(i)\n",
    "    else:\n",
    "        print('Unknown Elelment Error')\n",
    "        \n",
    "# count number of nodes\n",
    "num_nodes = count_nodes() #maximum node number in the circuit"
   ]
  },
  {
   "cell_type": "code",
   "execution_count": 8,
   "id": "a37f0984",
   "metadata": {},
   "outputs": [
    {
     "data": {
      "text/plain": [
       "1"
      ]
     },
     "execution_count": 8,
     "metadata": {},
     "output_type": "execute_result"
    }
   ],
   "source": [
    "#make matricies for calculations\n",
    "#V matrix to store variable names of voltage nodes\n",
    "V = sp.zeros(num_nodes,1)\n",
    "#I matrix to store values of independent current sources\n",
    "# I = np.zeros((num_nodes,1),dtype='complex_')\n",
    "I =  sp.zeros(num_nodes,1)\n",
    "#G matrix as in conductance matrix for the equations\n",
    "G = np.zeros((num_nodes,num_nodes),dtype='complex_')\n",
    "GS = sp.zeros(num_nodes,num_nodes)\n",
    "s = sp.Symbol('s')\n",
    "\n",
    "# count the number of element types that affect the size of the B, C, D, E and J arrays\n",
    "k = v_count\n",
    "kk = i_count#number of branches with unknown currents for MNA\n",
    "if k != 0:\n",
    "    B = sp.zeros(num_nodes,k)\n",
    "    C = sp.zeros(k,num_nodes)\n",
    "    D = sp.zeros(k,k)\n",
    "    E = sp.zeros(k,1)\n",
    "    J = sp.zeros(k,1)\n",
    "k"
   ]
  },
  {
   "cell_type": "code",
   "execution_count": 9,
   "id": "6bd21d59",
   "metadata": {},
   "outputs": [
    {
     "data": {
      "text/latex": [
       "$\\displaystyle \\left[\\begin{matrix}C_{1} s + \\frac{1}{L_{1} s} & - C_{1} s & 0\\\\- C_{1} s & C_{1} s + \\frac{1}{R_{1}} & - \\frac{1}{R_{1}}\\\\0 & - \\frac{1}{R_{1}} & \\frac{1}{R_{1}}\\end{matrix}\\right]$"
      ],
      "text/plain": [
       "Matrix([\n",
       "[C1*s + 1/(L1*s),       -C1*s,     0],\n",
       "[          -C1*s, C1*s + 1/R1, -1/R1],\n",
       "[              0,       -1/R1,  1/R1]])"
      ]
     },
     "execution_count": 9,
     "metadata": {},
     "output_type": "execute_result"
    }
   ],
   "source": [
    "gs = 0\n",
    "for i in range(branch_count):  \n",
    "    n1 = data_dic['+node'][i] #first node is + \n",
    "    n2 = data_dic['-node'][i] #second node is - \n",
    "    # iterate through each element and save them in temporary variable g\n",
    "    # then appy the rules to make G matrix\n",
    "    comp = data_dic['element'][i][0]   #The first letter shows element type\n",
    "    if comp == 'R':\n",
    "        gs = 1/sp.sympify(data_dic['element'][i])\n",
    "        g = 1/data_dic['value'][i] \n",
    "    if comp == 'L':\n",
    "        gs = 1/(s*sp.sympify(data_dic['element'][i]))\n",
    "        if mode == 'ac':\n",
    "            g = 1/(1j*w0*data_dic['value'][i]) \n",
    "        else:\n",
    "            g = np.inf                          #for dc L behaves as close circuit in steady state\n",
    "    if comp == 'C':\n",
    "        gs = s*sp.sympify(data_dic['element'][i])\n",
    "        if mode == 'ac':\n",
    "            g = 1j*w0*data_dic['value'][i]     \n",
    "        else:\n",
    "            g = 0                               #for dc C behaves as open circuit in steady state\n",
    "\n",
    "    if (comp == 'R') or (comp == 'L') or (comp == 'C'):\n",
    "        # If neither side of the element is connected to ground\n",
    "        # then subtract it from appropriate location in matrix.\n",
    "        if (n1 != 0) and (n2 != 0):\n",
    "            G[n1-1,n2-1] += -g\n",
    "            G[n2-1,n1-1] += -g\n",
    "            \n",
    "            GS[n1-1,n2-1] += -gs\n",
    "            GS[n2-1,n1-1] += -gs\n",
    "\n",
    "        # If node 1 is connected to ground, add element to diagonal of matrix\n",
    "        if n1 != 0:\n",
    "            G[n1-1,n1-1] += g\n",
    "            GS[n1-1,n1-1] += gs\n",
    "\n",
    "        # same for for node 2\n",
    "        if n2 != 0:\n",
    "            G[n2-1,n2-1] += g\n",
    "            GS[n2-1,n2-1] += gs\n",
    "\n",
    "\n",
    "GS"
   ]
  },
  {
   "cell_type": "code",
   "execution_count": 10,
   "id": "7d8ead9b",
   "metadata": {},
   "outputs": [
    {
     "data": {
      "text/latex": [
       "$\\displaystyle \\left[\\begin{matrix}0\\\\0\\\\1\\end{matrix}\\right]$"
      ],
      "text/plain": [
       "Matrix([\n",
       "[0],\n",
       "[0],\n",
       "[1]])"
      ]
     },
     "execution_count": 10,
     "metadata": {},
     "output_type": "execute_result"
    }
   ],
   "source": [
    "# generate the B Matrix\n",
    "# loop through all the branches and process independent voltage sources\n",
    "sources = 0   # count source number\n",
    "for i in range(branch_count):\n",
    "    n1 = data_dic['+node'][i]\n",
    "    n2 = data_dic['-node'][i]\n",
    "    # process all the independent voltage sources\n",
    "    #x = df.loc[i,'element'][0]   #get 1st letter of element name\n",
    "    comp = data_dic['element'][i][0]\n",
    "    if comp == 'V':\n",
    "        if v_count > 1:\n",
    "            if n1 != 0:\n",
    "                B[n1-1][sources] = 1\n",
    "            if n2 != 0:\n",
    "                B[n2-1][sources] = -1\n",
    "            sources += 1   #increment source count\n",
    "        else:\n",
    "            if n1 != 0:\n",
    "                B[n1-1] = -1\n",
    "            if n2 != 0:\n",
    "                B[n2-1] = 1\n",
    "        \n",
    "B"
   ]
  },
  {
   "cell_type": "code",
   "execution_count": 11,
   "id": "67060ca8",
   "metadata": {},
   "outputs": [
    {
     "data": {
      "text/latex": [
       "$\\displaystyle \\left[\\begin{matrix}0 & 0 & 1\\end{matrix}\\right]$"
      ],
      "text/plain": [
       "Matrix([[0, 0, 1]])"
      ]
     },
     "execution_count": 11,
     "metadata": {},
     "output_type": "execute_result"
    }
   ],
   "source": [
    "source = 0   # count source number\n",
    "for i in range(branch_count):\n",
    "    #n1 = df.loc[i,'p node']\n",
    "    n1 = data_dic['+node'][i]\n",
    "    n2 = data_dic['-node'][i]\n",
    "    # process all the independent voltage sources\n",
    "    #x = df.loc[i,'element'][0]   #get 1st letter of element name\n",
    "    comp = data_dic['element'][i][0]\n",
    "    if comp == 'V':\n",
    "        if v_count > 1:\n",
    "            if n1 != 0:\n",
    "                C[source][n1-1] = 1\n",
    "            if n2 != 0:\n",
    "                C[source][n2-1] = -1\n",
    "            source += 1   #increment source count\n",
    "        else:\n",
    "            if n1 != 0:\n",
    "                C[n1-1] = -1\n",
    "            if n2 != 0:\n",
    "                C[n2-1] = 1\n",
    "C "
   ]
  },
  {
   "cell_type": "code",
   "execution_count": 12,
   "id": "ffa2d851",
   "metadata": {},
   "outputs": [
    {
     "data": {
      "text/latex": [
       "$\\displaystyle \\left[\\begin{matrix}0\\\\0\\\\0\\end{matrix}\\right]$"
      ],
      "text/plain": [
       "Matrix([\n",
       "[0],\n",
       "[0],\n",
       "[0]])"
      ]
     },
     "execution_count": 12,
     "metadata": {},
     "output_type": "execute_result"
    }
   ],
   "source": [
    "# Current matrix containg current at each node\n",
    "for i in range(branch_count):\n",
    "    #n1 = df.loc[i,'p node']\n",
    "    n1 = data_dic['+node'][i]\n",
    "    n2 = data_dic['-node'][i]\n",
    "    # process all the passive elements, save conductance to temp value\n",
    "    comp = data_dic['element'][i][0]\n",
    "    if comp == 'I':\n",
    "        #g = data_dic['element'][i]\n",
    "        g = data_dic['value'][i]*np.exp(1j*data_dic['phase'][i]) # For AC in, case dc phase = 0\n",
    "        #g = data_dic['value'][i]\n",
    "        # sum the current into each node\n",
    "        if n1 != 0:\n",
    "            I[n1-1] = I[n1-1] - g\n",
    "        if n2 != 0:\n",
    "            I[n2-1] = I[n2-1] + g\n",
    "            \n",
    "I"
   ]
  },
  {
   "cell_type": "code",
   "execution_count": 13,
   "id": "b6659dfa",
   "metadata": {},
   "outputs": [
    {
     "data": {
      "text/latex": [
       "$\\displaystyle \\left[\\begin{matrix}v_{1}\\\\v_{2}\\\\v_{3}\\end{matrix}\\right]$"
      ],
      "text/plain": [
       "Matrix([\n",
       "[v1],\n",
       "[v2],\n",
       "[v3]])"
      ]
     },
     "execution_count": 13,
     "metadata": {},
     "output_type": "execute_result"
    }
   ],
   "source": [
    "for i in range(num_nodes):\n",
    "    V[i] = sp.sympify('v{:d}'.format(i+1))\n",
    "\n",
    "V  "
   ]
  },
  {
   "cell_type": "code",
   "execution_count": 14,
   "id": "8942a2d9",
   "metadata": {},
   "outputs": [
    {
     "data": {
      "text/latex": [
       "$\\displaystyle \\left[\\begin{matrix}I_{V1}\\end{matrix}\\right]$"
      ],
      "text/plain": [
       "Matrix([[I_V1]])"
      ]
     },
     "execution_count": 14,
     "metadata": {},
     "output_type": "execute_result"
    }
   ],
   "source": [
    "# matrix J for current through voltage sources\n",
    "sources = 0   # count source number\n",
    "for i in range(branch_count):\n",
    "    # process all the passive elements\n",
    "    comp = data_dic['element'][i][0]  \n",
    "    if comp == 'V':\n",
    "        #J[sorces] = sympify('I_{:s}'.format(df.loc[i,'element']))\n",
    "        J[sources] = 'I_{:s}'.format(data_dic['element'][i])\n",
    "        sources += 1\n",
    "\n",
    "J  "
   ]
  },
  {
   "cell_type": "code",
   "execution_count": 15,
   "id": "15d2514e",
   "metadata": {},
   "outputs": [
    {
     "data": {
      "text/latex": [
       "$\\displaystyle \\left[\\begin{matrix}V_{1}\\end{matrix}\\right]$"
      ],
      "text/plain": [
       "Matrix([[V1]])"
      ]
     },
     "execution_count": 15,
     "metadata": {},
     "output_type": "execute_result"
    }
   ],
   "source": [
    "# generate the E matrix\n",
    "sn = 0   # count source number\n",
    "for i in range(branch_count):\n",
    "    # process all the passive elements\n",
    "    x = data_dic['element'][i][0]   #get 1st letter of element name\n",
    "    if x == 'V':\n",
    "        E[sn] = sp.sympify(data_dic['element'][i])\n",
    "        sn += 1\n",
    "\n",
    "E # display the E matrix"
   ]
  },
  {
   "cell_type": "code",
   "execution_count": 16,
   "id": "facd3655",
   "metadata": {},
   "outputs": [
    {
     "data": {
      "text/latex": [
       "$\\displaystyle \\left[\\begin{matrix}0\\\\0\\\\0\\\\V_{1}\\end{matrix}\\right]$"
      ],
      "text/plain": [
       "Matrix([\n",
       "[ 0],\n",
       "[ 0],\n",
       "[ 0],\n",
       "[V1]])"
      ]
     },
     "execution_count": 16,
     "metadata": {},
     "output_type": "execute_result"
    }
   ],
   "source": [
    "Z = sp.Matrix(I[:] + E[:])\n",
    "Z  # display the Z matrix"
   ]
  },
  {
   "cell_type": "code",
   "execution_count": 17,
   "id": "985cd73e",
   "metadata": {},
   "outputs": [
    {
     "data": {
      "text/plain": [
       "sympy.matrices.dense.MutableDenseMatrix"
      ]
     },
     "execution_count": 17,
     "metadata": {},
     "output_type": "execute_result"
    }
   ],
   "source": [
    "X = sp.Matrix(V[:] + J[:])\n",
    "type(X) # display the X matrix"
   ]
  },
  {
   "cell_type": "code",
   "execution_count": 18,
   "id": "b788d1bb",
   "metadata": {},
   "outputs": [
    {
     "data": {
      "text/latex": [
       "$\\displaystyle \\left[\\begin{matrix}C_{1} s + \\frac{1}{L_{1} s} & - C_{1} s & 0 & 0\\\\- C_{1} s & C_{1} s + \\frac{1}{R_{1}} & - \\frac{1}{R_{1}} & 0\\\\0 & - \\frac{1}{R_{1}} & \\frac{1}{R_{1}} & 1\\\\0 & 0 & 1 & 0\\end{matrix}\\right]$"
      ],
      "text/plain": [
       "Matrix([\n",
       "[C1*s + 1/(L1*s),       -C1*s,     0, 0],\n",
       "[          -C1*s, C1*s + 1/R1, -1/R1, 0],\n",
       "[              0,       -1/R1,  1/R1, 1],\n",
       "[              0,           0,     1, 0]])"
      ]
     },
     "execution_count": 18,
     "metadata": {},
     "output_type": "execute_result"
    }
   ],
   "source": [
    "n = num_nodes\n",
    "m = v_count\n",
    "A = sp.zeros(m+n,m+n)\n",
    "for i in range(n):\n",
    "    for j in range(n):\n",
    "        A[i,j] = GS[i,j]\n",
    "\n",
    "if v_count > 1:\n",
    "    for i in range(n):\n",
    "        for j in range(m):\n",
    "            A[i,n+j] = B[i,j]\n",
    "            A[n+j,i] = C[j,i]\n",
    "else:\n",
    "    for i in range(n):\n",
    "        A[i,n] = B[i]\n",
    "        A[n,i] = C[i]\n",
    "\n",
    "A  # display the A matrix"
   ]
  },
  {
   "cell_type": "code",
   "execution_count": 19,
   "id": "c6c55d4b",
   "metadata": {},
   "outputs": [
    {
     "data": {
      "text/latex": [
       "$\\displaystyle \\left[\\begin{matrix}- C_{1} s v_{2} + v_{1} \\left(C_{1} s + \\frac{1}{L_{1} s}\\right) = 0 & - C_{1} s v_{1} + v_{2} \\left(C_{1} s + \\frac{1}{R_{1}}\\right) - \\frac{v_{3}}{R_{1}} = 0 & I_{V1} - \\frac{v_{2}}{R_{1}} + \\frac{v_{3}}{R_{1}} = 0 & v_{3} = V_{1}\\end{matrix}\\right]$"
      ],
      "text/plain": [
       "[Eq(-C1*s*v2 + v1*(C1*s + 1/(L1*s)), 0), Eq(-C1*s*v1 + v2*(C1*s + 1/R1) - v3/R1, 0), Eq(I_V1 - v2/R1 + v3/R1, 0), Eq(v3, V1)]"
      ]
     },
     "execution_count": 19,
     "metadata": {},
     "output_type": "execute_result"
    }
   ],
   "source": [
    "n = num_nodes\n",
    "# m = k\n",
    "eq_temp = 0  # temporary equation used to build up the equation\n",
    "equ = []  #initialize the array to hold the equations\n",
    "for i in range(n+k):\n",
    "    for j in range(n+k):\n",
    "#         print(i,j)\n",
    "        eq_temp += A[i,j]*X[j]\n",
    "        \n",
    "    qu = sp.Eq(eq_temp,Z[i])\n",
    "    \n",
    "    equ.append(qu)\n",
    "    eq_temp = 0\n",
    "\n",
    "sp.Array(equ)  # display the equations"
   ]
  },
  {
   "cell_type": "code",
   "execution_count": 20,
   "id": "6d887ca2",
   "metadata": {},
   "outputs": [
    {
     "data": {
      "text/latex": [
       "$\\displaystyle - C_{1} s v_{2} + v_{1} \\left(C_{1} s + \\frac{1}{L_{1} s}\\right) = 0$"
      ],
      "text/plain": [
       "Eq(-C1*s*v2 + v1*(C1*s + 1/(L1*s)), 0)"
      ]
     },
     "execution_count": 20,
     "metadata": {},
     "output_type": "execute_result"
    }
   ],
   "source": [
    "#To the time domain\n",
    "\n",
    "equ[0]"
   ]
  },
  {
   "cell_type": "code",
   "execution_count": 59,
   "id": "bc84d40e",
   "metadata": {},
   "outputs": [
    {
     "data": {
      "text/latex": [
       "$\\displaystyle \\left[\\begin{matrix}- C_{1} s v_{2} + v_{1} \\left(C_{1} s + \\frac{1}{L_{1} s}\\right)\\\\- C_{1} s v_{1} + v_{2} \\left(C_{1} s + \\frac{1}{R_{1}}\\right) - \\frac{v_{3}}{R_{1}}\\\\I_{V1} - \\frac{v_{2}}{R_{1}} + \\frac{v_{3}}{R_{1}}\\\\- V_{1} + v_{3}\\end{matrix}\\right]$"
      ],
      "text/plain": [
       "Matrix([\n",
       "[    -C1*s*v2 + v1*(C1*s + 1/(L1*s))],\n",
       "[-C1*s*v1 + v2*(C1*s + 1/R1) - v3/R1],\n",
       "[               I_V1 - v2/R1 + v3/R1],\n",
       "[                           -V1 + v3]])"
      ]
     },
     "execution_count": 59,
     "metadata": {},
     "output_type": "execute_result"
    }
   ],
   "source": [
    "A*X-Z"
   ]
  },
  {
   "cell_type": "code",
   "execution_count": 60,
   "id": "94556495",
   "metadata": {},
   "outputs": [
    {
     "data": {
      "text/latex": [
       "$\\displaystyle \\left[\\begin{matrix}v_{1}\\\\v_{2}\\\\v_{3}\\\\I_{V1}\\end{matrix}\\right]$"
      ],
      "text/plain": [
       "Matrix([\n",
       "[  v1],\n",
       "[  v2],\n",
       "[  v3],\n",
       "[I_V1]])"
      ]
     },
     "execution_count": 60,
     "metadata": {},
     "output_type": "execute_result"
    }
   ],
   "source": [
    "X"
   ]
  },
  {
   "cell_type": "code",
   "execution_count": 70,
   "id": "211ceab2",
   "metadata": {},
   "outputs": [],
   "source": [
    "solutions = sp.solve(A*X-Z,X)"
   ]
  },
  {
   "cell_type": "code",
   "execution_count": 71,
   "id": "33cc9cd5",
   "metadata": {},
   "outputs": [
    {
     "data": {
      "text/plain": [
       "{v1: C1*L1*V1*s**2/(C1*L1*s**2 + C1*R1*s + 1),\n",
       " v2: (C1*L1*V1*s**2 + V1)/(C1*L1*s**2 + C1*R1*s + 1),\n",
       " v3: V1,\n",
       " I_V1: -C1*V1*s/(C1*L1*s**2 + C1*R1*s + 1)}"
      ]
     },
     "execution_count": 71,
     "metadata": {},
     "output_type": "execute_result"
    }
   ],
   "source": [
    "solutions"
   ]
  },
  {
   "cell_type": "code",
   "execution_count": 73,
   "id": "7e9d9838",
   "metadata": {},
   "outputs": [],
   "source": [
    "sol=solutions"
   ]
  },
  {
   "cell_type": "code",
   "execution_count": 74,
   "id": "f36d7231",
   "metadata": {},
   "outputs": [
    {
     "data": {
      "text/plain": [
       "dict_keys([v1, v2, v3, I_V1])"
      ]
     },
     "execution_count": 74,
     "metadata": {},
     "output_type": "execute_result"
    }
   ],
   "source": [
    "sol.keys()"
   ]
  },
  {
   "cell_type": "code",
   "execution_count": 75,
   "id": "a29d56e5",
   "metadata": {},
   "outputs": [
    {
     "data": {
      "text/latex": [
       "$\\displaystyle \\frac{5 s^{2}}{s^{2} + 2 s + 1}$"
      ],
      "text/plain": [
       "5*s**2/(s**2 + 2*s + 1)"
      ]
     },
     "execution_count": 75,
     "metadata": {},
     "output_type": "execute_result"
    }
   ],
   "source": [
    "sus = sol[sp.Symbol('v1')].subs({sp.Symbol('C1'):1,sp.Symbol('R1'):2,sp.Symbol('L1'):1,sp.Symbol('V1'):5})\n",
    "sus"
   ]
  },
  {
   "cell_type": "code",
   "execution_count": 76,
   "id": "3460a630",
   "metadata": {},
   "outputs": [],
   "source": [
    "t = sp.Symbol('t')\n",
    "def invL(F):\n",
    "    return sp.inverse_laplace_transform(F, s, t)"
   ]
  },
  {
   "cell_type": "code",
   "execution_count": 77,
   "id": "c40d052c",
   "metadata": {},
   "outputs": [
    {
     "data": {
      "text/latex": [
       "$\\displaystyle 5 \\left(t \\theta\\left(t\\right) + e^{t} \\delta\\left(t\\right) - 2 \\theta\\left(t\\right)\\right) e^{- t}$"
      ],
      "text/plain": [
       "5*(t*Heaviside(t) + exp(t)*DiracDelta(t) - 2*Heaviside(t))*exp(-t)"
      ]
     },
     "execution_count": 77,
     "metadata": {},
     "output_type": "execute_result"
    }
   ],
   "source": [
    "k = invL(sus)\n",
    "k"
   ]
  },
  {
   "cell_type": "code",
   "execution_count": 79,
   "id": "8002857c",
   "metadata": {},
   "outputs": [],
   "source": [
    "import matplotlib.pyplot as plt"
   ]
  },
  {
   "cell_type": "code",
   "execution_count": 80,
   "id": "c9a1fe35",
   "metadata": {},
   "outputs": [],
   "source": [
    "time = np.linspace(1,10,100)"
   ]
  },
  {
   "cell_type": "code",
   "execution_count": 81,
   "id": "34543ad9",
   "metadata": {},
   "outputs": [],
   "source": [
    "y = []\n",
    "for tt in time:\n",
    "    y.append(k.subs({t:tt}))"
   ]
  },
  {
   "cell_type": "code",
   "execution_count": 82,
   "id": "c2761125",
   "metadata": {},
   "outputs": [
    {
     "data": {
      "text/plain": [
       "[<matplotlib.lines.Line2D at 0x127ebd3a0>]"
      ]
     },
     "execution_count": 82,
     "metadata": {},
     "output_type": "execute_result"
    },
    {
     "data": {
      "image/png": "[encoded data removed]",
      "text/plain": [
       "<Figure size 640x480 with 1 Axes>"
      ]
     },
     "metadata": {},
     "output_type": "display_data"
    }
   ],
   "source": [
    "plt.plot(time[1:],y[1:])"
   ]
  },
  {
   "cell_type": "code",
   "execution_count": null,
   "id": "ee0190d2",
   "metadata": {},
   "outputs": [],
   "source": []
  }
 ],
 "metadata": {
  "kernelspec": {
   "display_name": "Python 3 (ipykernel)",
   "language": "python",
   "name": "python3"
  },
  "language_info": {
   "codemirror_mode": {
    "name": "ipython",
    "version": 3
   },
   "file_extension": ".py",
   "mimetype": "text/x-python",
   "name": "python",
   "nbconvert_exporter": "python",
   "pygments_lexer": "ipython3",
   "version": "3.9.13"
  }
 },
 "nbformat": 4,
 "nbformat_minor": 5
}
