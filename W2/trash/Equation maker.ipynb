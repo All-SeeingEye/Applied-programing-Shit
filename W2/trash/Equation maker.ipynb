{
 "cells": [
  {
   "cell_type": "markdown",
   "id": "7108e209",
   "metadata": {},
   "source": [
    "Things to do:\n",
    "////////////////make GND to 0 \n",
    "////////////////removed dc/ac in voltage sources in netlist\n",
    "////////////////read a netlist from a file remove unneccesary data --preprocessing\n",
    "////////////////count number of componets and branches\n",
    "////////////////make a dictionary for +node , -node,element type,value of elements\n",
    "////////////////make a array of node numbers\n",
    "////////////////make matrix G\n",
    "////////////////make matrix voltage at nodes and current through those sources\n",
    "////////////////make matrix for ind voltaage source and independent current source\n",
    "////////////////solve the matricies\n",
    "make a file input kind of system\n",
    "!!!DO DC AC SIMUNTANEOUSLY\n"
   ]
  },
  {
   "cell_type": "code",
   "execution_count": 188,
   "id": "08b1439c",
   "metadata": {},
   "outputs": [
    {
     "data": {
      "text/plain": [
       "['R1 1 0 1e3',\n",
       " 'R2 1 2 2e3',\n",
       " 'R3 2 3 4e3',\n",
       " 'V1 3 0 2 0',\n",
       " 'V2 2 4 5',\n",
       " 'R4 4 5 5e3',\n",
       " 'I1 5 0 1',\n",
       " 'R6 4 6 8e3',\n",
       " 'I2 0 6 10']"
      ]
     },
     "execution_count": 188,
     "metadata": {},
     "output_type": "execute_result"
    }
   ],
   "source": [
    "import numpy as np\n",
    "#from sumpy import *\n",
    "# processing the netlist\n",
    "circ = \"\"\".circuit\n",
    "R1 1 GND 1e3\n",
    "R2 1 2 2e3\n",
    "R3 2 3 4e3\n",
    "V1 3 GND ac 2 0\n",
    "V2 2 4 dc 5\n",
    "R4 4 5 5e3\n",
    "I1 5 GND dc 1\n",
    "R6 4 6 8e3\n",
    "I2 GND 6 dc 10\n",
    ".end\n",
    ".ac V1 50\n",
    "\"\"\".splitlines()\n",
    "# f = open(fn,'r')\n",
    "# para = fd1.readlines().splitlines()\n",
    "\n",
    "def delete_comments(circ):\n",
    "    data = [' '.join(x.split()) for x in circ]            \n",
    "    mode = circ[-1]\n",
    "    data = [n for n in data if not n.startswith('.')] \n",
    "    if mode == '.end':\n",
    "        return (0,'dc',data)\n",
    "    else:\n",
    "        k = mode.split()\n",
    "        return (k[2],'ac', data)\n",
    "    \n",
    "(w0,mode,y) = delete_comments(circ)\n",
    "w0 = int(w0)\n",
    "data = []\n",
    "for line in y:\n",
    "    line = line.split(' ')\n",
    "    if line[1] == 'GND':\n",
    "        line[1] = '0'\n",
    "    elif line[2] == 'GND':\n",
    "        line[2] = '0'\n",
    "    if line[3] == 'dc' or line[3] == 'ac':\n",
    "        if line[3] == 'ac':\n",
    "            ph=  line[5]\n",
    "        del line[3]\n",
    "    x = ' '.join(line)\n",
    "    data.append(x)\n",
    "data   "
   ]
  },
  {
   "cell_type": "code",
   "execution_count": 189,
   "id": "7a2d207f",
   "metadata": {},
   "outputs": [],
   "source": [
    "#intializing variables\n",
    "rlc_count = 0\n",
    "v_count = 0\n",
    "i_count = 0\n",
    "#s = Symbol('t')"
   ]
  },
  {
   "cell_type": "code",
   "execution_count": 190,
   "id": "541b31e3",
   "metadata": {},
   "outputs": [],
   "source": [
    "# number of components and branches\n",
    "line_count = len(data) \n",
    "branch_count = 0\n",
    "\n",
    "for i in range(line_count):\n",
    "    comp = data[i][0]\n",
    "    value_count = len(data[i].split())\n",
    "    if (comp == 'R') or (comp == 'L') or (comp == 'C'):\n",
    "        if value_count != 4:\n",
    "            print(\"Error in netlist\")\n",
    "            print('Error in passive elements RLC')\n",
    "        rlc_count += 1\n",
    "        branch_count += 1\n",
    "    elif comp == 'V':\n",
    "        if value_count > 6:\n",
    "            print(\"Error in netlist \")\n",
    "            print('Error in Voltage source/node')\n",
    "        v_count += 1\n",
    "        branch_count += 1\n",
    "    elif comp == 'I':\n",
    "        if value_count != 4:\n",
    "            print(\"Error in netlist \")\n",
    "            print('Error in Current source/branch')\n",
    "        i_count += 1\n",
    "        branch_count += 1\n",
    "    else:\n",
    "        print('Unknow element found in netlist')\n",
    "        \n"
   ]
  },
  {
   "cell_type": "code",
   "execution_count": 191,
   "id": "7c12422a",
   "metadata": {},
   "outputs": [],
   "source": [
    "#data dictionary\n",
    "data_dic = {'element':[],'+node':[],'-node':[],'value':[],'phase':[]}\n",
    "\n",
    "def load_rlc(line_number):\n",
    "    line = data[line_number].split()\n",
    "    data_dic['element'] += [line[0]]\n",
    "    data_dic['+node'] += [int(line[1])]\n",
    "    data_dic['-node'] += [int(line[2])]\n",
    "    data_dic['value'] += [float(line[3])]\n",
    "    if line[0][0] == 'R':\n",
    "        data_dic['phase'] += [0.0]\n",
    "    elif line[0][0] == 'L':\n",
    "        data_dic['phase'] += [np.pi/2]\n",
    "    elif line[0][0] == 'C':\n",
    "        data_dic['phase'] += [np.pi/2]\n",
    "        \n",
    "        \n",
    "    \n",
    "def load_sources(line_number):\n",
    "    line = data[line_number].split()\n",
    "    if mode == 'dc':\n",
    "        data_dic['element'] += [line[0]]\n",
    "        data_dic['+node'] += [int(line[1])]\n",
    "        data_dic['-node'] += [int(line[2])]\n",
    "        data_dic['value'] += [float(line[3])]\n",
    "        data_dic['phase'] += [0.0]\n",
    "    elif mode == 'ac':\n",
    "            data_dic['element'] += [line[0]]\n",
    "            data_dic['+node'] += [int(line[1])]\n",
    "            data_dic['-node'] += [int(line[2])]\n",
    "            data_dic['value'] += [float(line[3])]\n",
    "            try:\n",
    "                data_dic['phase'] += [float(line[4])]\n",
    "            except IndexError:\n",
    "                data_dic['phase'] += [0.0]\n",
    "            \n",
    "    else:\n",
    "        return('Unknown mode')\n",
    "        \n",
    "    \n",
    "        \n",
    "    \n",
    "# load_rlc(0)\n",
    "# load_rlc(1)\n",
    "# load_rlc(2)"
   ]
  },
  {
   "cell_type": "code",
   "execution_count": 192,
   "id": "50272a62",
   "metadata": {},
   "outputs": [],
   "source": [
    "#my_matrix = [([0]*cols) for i in range(rows)]\n",
    "\n",
    "def count_nodes():\n",
    "    n = [([0]*(line_count+1)) for i in range(1)]\n",
    "    for i in range(line_count - 1):\n",
    "        n[0][data_dic['+node'][i]] = data_dic['+node'][i]\n",
    "        n[0][data_dic['-node'][i]] = data_dic['-node'][i]\n",
    "        #largetst node\n",
    "    if max(data_dic['-node']) > max(data_dic['+node']):\n",
    "        largest = max(data_dic['-node'])\n",
    "    else:\n",
    "        largest =  max(data_dic['+node'])\n",
    "        \n",
    "    # check for unfilled elements, skip node 0\n",
    "    for i in range(1,largest):\n",
    "        if n[0][i] == 0:\n",
    "            print('Error in node order')\n",
    "    return largest"
   ]
  },
  {
   "cell_type": "code",
   "execution_count": 193,
   "id": "a2735435",
   "metadata": {},
   "outputs": [],
   "source": [
    "#load branch into dictionary\n",
    "for i in range(line_count):\n",
    "    comp = data[i][0]\n",
    "    if (comp == 'R') or (comp == 'L') or (comp == 'C'):\n",
    "        load_rlc(i)\n",
    "    elif (comp == 'V') or (comp == 'I'):\n",
    "        load_sources(i)\n",
    "    else:\n",
    "        print('Unknown Elelment Error')\n",
    "        \n",
    "# count number of nodes\n",
    "num_nodes = count_nodes()"
   ]
  },
  {
   "cell_type": "code",
   "execution_count": 194,
   "id": "402d2cd2",
   "metadata": {},
   "outputs": [
    {
     "name": "stdout",
     "output_type": "stream",
     "text": [
      "{'element': ['R1', 'R2', 'R3', 'V1', 'V2', 'R4', 'I1', 'R6', 'I2'], '+node': [1, 1, 2, 3, 2, 4, 5, 4, 0], '-node': [0, 2, 3, 0, 4, 5, 0, 6, 6], 'value': [1000.0, 2000.0, 4000.0, 2.0, 5.0, 5000.0, 1.0, 8000.0, 10.0], 'phase': [0.0, 0.0, 0.0, 0.0, 0.0, 0.0, 0.0, 0.0, 0.0]}\n"
     ]
    },
    {
     "data": {
      "text/plain": [
       "50"
      ]
     },
     "execution_count": 194,
     "metadata": {},
     "output_type": "execute_result"
    }
   ],
   "source": [
    "print(data_dic)\n",
    "w0"
   ]
  },
  {
   "cell_type": "code",
   "execution_count": 195,
   "id": "0bcfca5d",
   "metadata": {},
   "outputs": [],
   "source": [
    "#modify V and I to V*exp(j*ph) and I*exp(j*ph)\n"
   ]
  },
  {
   "cell_type": "code",
   "execution_count": 196,
   "id": "d4831fe0",
   "metadata": {},
   "outputs": [
    {
     "data": {
      "text/plain": [
       "array([[0.+0.j, 0.+0.j, 0.+0.j, 0.+0.j, 0.+0.j, 0.+0.j],\n",
       "       [0.+0.j, 0.+0.j, 0.+0.j, 0.+0.j, 0.+0.j, 0.+0.j]])"
      ]
     },
     "execution_count": 196,
     "metadata": {},
     "output_type": "execute_result"
    }
   ],
   "source": [
    "#make matricies\n",
    "#V = np.zeros((num_nodes,1))\n",
    "I = np.zeros((num_nodes,1),dtype='complex_')\n",
    "#V = np.zeros((num_nodes,1),dtype = 'string_') \n",
    "G = np.zeros((num_nodes,num_nodes),dtype='complex_')\n",
    "#s = Symbol('s')  # the Laplace variable\n",
    "\n",
    "# count the number of element types that affect the size of the B, C, D, E and J arrays\n",
    "k = v_count\n",
    "if k != 0:\n",
    "    B = np.zeros((num_nodes,k),dtype='complex_')\n",
    "    C = np.zeros((k,num_nodes),dtype='complex_')\n",
    "    D = np.zeros((k,k),dtype='complex_')\n",
    "    E = np.zeros((k,1),dtype='complex_')\n",
    "#    J = np.zeros((k,1),dtype='complex_')\n",
    "C  "
   ]
  },
  {
   "cell_type": "code",
   "execution_count": 197,
   "id": "89af0553",
   "metadata": {},
   "outputs": [
    {
     "name": "stdout",
     "output_type": "stream",
     "text": [
      "[[ 0.0015  +0.j -0.0005  +0.j  0.      +0.j  0.      +0.j  0.      +0.j\n",
      "   0.      +0.j]\n",
      " [-0.0005  +0.j  0.00075 +0.j -0.00025 +0.j  0.      +0.j  0.      +0.j\n",
      "   0.      +0.j]\n",
      " [ 0.      +0.j -0.00025 +0.j  0.00025 +0.j  0.      +0.j  0.      +0.j\n",
      "   0.      +0.j]\n",
      " [ 0.      +0.j  0.      +0.j  0.      +0.j  0.000325+0.j -0.0002  +0.j\n",
      "  -0.000125+0.j]\n",
      " [ 0.      +0.j  0.      +0.j  0.      +0.j -0.0002  +0.j  0.0002  +0.j\n",
      "   0.      +0.j]\n",
      " [ 0.      +0.j  0.      +0.j  0.      +0.j -0.000125+0.j  0.      +0.j\n",
      "   0.000125+0.j]]\n"
     ]
    }
   ],
   "source": [
    "for i in range(branch_count):  # don't use branch count use # of rows in data frame\n",
    "    n1 = data_dic['+node'][i]\n",
    "    n2 = data_dic['-node'][i]\n",
    "    # process all the passive elements, save conductance to temp value\n",
    "    comp = data_dic['element'][i][0]   #get 1st letter of element name\n",
    "    if comp == 'R':\n",
    "        g = 1/data_dic['value'][i]\n",
    "    if comp == 'L':\n",
    "        if mode == 'ac':\n",
    "            g = 1/(1j*w0*data_dic['value'][i])\n",
    "        else:\n",
    "            g = np.inf\n",
    "    if comp == 'C':\n",
    "        if mode == 'ac':\n",
    "            g = 1j*w0*data_dic['value'][i]\n",
    "        else:\n",
    "            g = 0\n",
    "\n",
    "    if (comp == 'R') or (comp == 'L') or (comp == 'C'):\n",
    "        # If neither side of the element is connected to ground\n",
    "        # then subtract it from appropriate location in matrix.\n",
    "        if (n1 != 0) and (n2 != 0):\n",
    "            G[n1-1,n2-1] += -g\n",
    "            G[n2-1,n1-1] += -g\n",
    "\n",
    "        # If node 1 is connected to ground, add element to diagonal of matrix\n",
    "        if n1 != 0:\n",
    "            G[n1-1,n1-1] += g\n",
    "\n",
    "        # same for for node 2\n",
    "        if n2 != 0:\n",
    "            G[n2-1,n2-1] += g\n",
    "\n",
    "print(G)"
   ]
  },
  {
   "cell_type": "code",
   "execution_count": 198,
   "id": "74e307e0",
   "metadata": {},
   "outputs": [
    {
     "name": "stdout",
     "output_type": "stream",
     "text": [
      "[[ 0.+0.j]\n",
      " [ 0.+0.j]\n",
      " [ 0.+0.j]\n",
      " [ 0.+0.j]\n",
      " [-1.+0.j]\n",
      " [10.+0.j]]\n"
     ]
    }
   ],
   "source": [
    "# Current matrix containg current at each node\n",
    "for i in range(branch_count):\n",
    "    #n1 = df.loc[i,'p node']\n",
    "    n1 = data_dic['+node'][i]\n",
    "    n2 = data_dic['-node'][i]\n",
    "    # process all the passive elements, save conductance to temp value\n",
    "    comp = data_dic['element'][i][0]\n",
    "    if comp == 'I':\n",
    "        #g = data_dic['element'][i]\n",
    "        g = data_dic['value'][i]*np.exp(1j*data_dic['phase'][i])\n",
    "        #g = data_dic['value'][i]\n",
    "        # sum the current into each node\n",
    "        if n1 != 0:\n",
    "            I[n1-1] = I[n1-1] - g\n",
    "        if n2 != 0:\n",
    "            I[n2-1] = I[n2-1] + g\n",
    "            \n",
    "print(I)"
   ]
  },
  {
   "cell_type": "code",
   "execution_count": 199,
   "id": "165d7a30",
   "metadata": {},
   "outputs": [],
   "source": [
    "rows, cols = num_nodes,1\n",
    "V = [(''*1) for i in range(num_nodes)]\n",
    "J = [(''*1) for i in range(v_count)]"
   ]
  },
  {
   "cell_type": "code",
   "execution_count": 200,
   "id": "cc941f99",
   "metadata": {},
   "outputs": [
    {
     "data": {
      "text/plain": [
       "['v1', 'v2', 'v3', 'v4', 'v5', 'v6']"
      ]
     },
     "execution_count": 200,
     "metadata": {},
     "output_type": "execute_result"
    }
   ],
   "source": [
    "# Voltage at each node\n",
    "for i in range(num_nodes):\n",
    "    V[i] = V[i] + 'v' +f'{i+1}'\n",
    "\n",
    "V  # display the V matrix"
   ]
  },
  {
   "cell_type": "code",
   "execution_count": 201,
   "id": "96bf8a6c",
   "metadata": {},
   "outputs": [
    {
     "data": {
      "text/plain": [
       "['I_V1', 'I_V2']"
      ]
     },
     "execution_count": 201,
     "metadata": {},
     "output_type": "execute_result"
    }
   ],
   "source": [
    "# matrix J for current through voltage sources\n",
    "sources = 0   # count source number\n",
    "for i in range(branch_count):\n",
    "    # process all the passive elements\n",
    "    comp = data_dic['element'][i][0]  \n",
    "    if comp == 'V':\n",
    "        #J[sorces] = sympify('I_{:s}'.format(df.loc[i,'element']))\n",
    "        J[sources] = 'I_{:s}'.format(data_dic['element'][i])\n",
    "        sources += 1\n",
    "\n",
    "J  # diplay the J matrix"
   ]
  },
  {
   "cell_type": "code",
   "execution_count": 202,
   "id": "6690420a",
   "metadata": {},
   "outputs": [
    {
     "data": {
      "text/plain": [
       "array([[ 0.+0.j,  0.+0.j],\n",
       "       [ 0.+0.j,  1.+0.j],\n",
       "       [ 1.+0.j,  0.+0.j],\n",
       "       [ 0.+0.j, -1.+0.j],\n",
       "       [ 0.+0.j,  0.+0.j],\n",
       "       [ 0.+0.j,  0.+0.j]])"
      ]
     },
     "execution_count": 202,
     "metadata": {},
     "output_type": "execute_result"
    }
   ],
   "source": [
    "# generate the B Matrix\n",
    "# loop through all the branches and process independent voltage sources\n",
    "sources = 0   # count source number\n",
    "for i in range(branch_count):\n",
    "    n1 = data_dic['+node'][i]\n",
    "    n2 = data_dic['-node'][i]\n",
    "    # process all the independent voltage sources\n",
    "    #x = df.loc[i,'element'][0]   #get 1st letter of element name\n",
    "    comp = data_dic['element'][i][0]\n",
    "    if comp == 'V':\n",
    "        if v_count > 1:\n",
    "            if n1 != 0:\n",
    "                B[n1-1][sources] = 1\n",
    "            if n2 != 0:\n",
    "                B[n2-1][sources] = -1\n",
    "            sources += 1   #increment source count\n",
    "        else:\n",
    "            if n1 != 0:\n",
    "                B[n1-1] = -1\n",
    "            if n2 != 0:\n",
    "                B[n2-1] = +1\n",
    "        \n",
    "B   # display the B matrix"
   ]
  },
  {
   "cell_type": "code",
   "execution_count": 203,
   "id": "9bf2f340",
   "metadata": {},
   "outputs": [
    {
     "name": "stdout",
     "output_type": "stream",
     "text": [
      "[[ 0.+0.j  0.+0.j  1.+0.j  0.+0.j  0.+0.j  0.+0.j]\n",
      " [ 0.+0.j  1.+0.j  0.+0.j -1.+0.j  0.+0.j  0.+0.j]]\n"
     ]
    }
   ],
   "source": [
    "# generate the C matrix\n",
    "source = 0   # count source number\n",
    "for i in range(branch_count):\n",
    "    #n1 = df.loc[i,'p node']\n",
    "    n1 = data_dic['+node'][i]\n",
    "    n2 = data_dic['-node'][i]\n",
    "    # process all the independent voltage sources\n",
    "    #x = df.loc[i,'element'][0]   #get 1st letter of element name\n",
    "    comp = data_dic['element'][i][0]\n",
    "    if comp == 'V':\n",
    "        if v_count > 1:\n",
    "            if n1 != 0:\n",
    "                C[source][n1-1] = 1\n",
    "            if n2 != 0:\n",
    "                C[source][n2-1] = -1\n",
    "            source += 1   #increment source count\n",
    "        else:\n",
    "            if n1 != 0:\n",
    "                C[0][n1-1] = -1\n",
    "            if n2 != 0:\n",
    "                C[0][n2-1] = +1\n",
    "print(C)   # display the C matrix"
   ]
  },
  {
   "cell_type": "code",
   "execution_count": 204,
   "id": "5390d961",
   "metadata": {},
   "outputs": [
    {
     "name": "stdout",
     "output_type": "stream",
     "text": [
      "[[0.+0.j 0.+0.j]\n",
      " [0.+0.j 0.+0.j]]\n"
     ]
    }
   ],
   "source": [
    "print(D)"
   ]
  },
  {
   "cell_type": "code",
   "execution_count": 206,
   "id": "c7503c69",
   "metadata": {},
   "outputs": [
    {
     "name": "stdout",
     "output_type": "stream",
     "text": [
      "[[2.+0.j]\n",
      " [5.+0.j]]\n"
     ]
    }
   ],
   "source": [
    "# generate the E matrix\n",
    "source = 0   # count source number\n",
    "for i in range(branch_count):\n",
    "    # process all the passive elements\n",
    "    #x = df.loc[i,'element'][0]   #get 1st letter of element name\n",
    "    comp = data_dic['element'][i][0]\n",
    "    if comp == 'V':\n",
    "        #E[source] = data_dic['element'][i]\n",
    "        E[source] = data_dic['value'][i]*np.exp(1j*data_dic['phase'][i])\n",
    "        source += 1\n",
    "\n",
    "print(E)   # display the E matrix"
   ]
  },
  {
   "cell_type": "code",
   "execution_count": 207,
   "id": "93c97de0",
   "metadata": {},
   "outputs": [
    {
     "name": "stdout",
     "output_type": "stream",
     "text": [
      "[[ 0.+0.j  0.+0.j  0.+0.j  0.+0.j -1.+0.j 10.+0.j  2.+0.j  5.+0.j]]\n"
     ]
    }
   ],
   "source": [
    "#matrix containg independent voltage source and current sources\n",
    "#Z = I[:] + E[:]\n",
    "#Z  # display the Z matrix\n",
    "Z = np.concatenate((I,E))\n",
    "print(Z.transpose())"
   ]
  },
  {
   "cell_type": "code",
   "execution_count": 208,
   "id": "4511ed22",
   "metadata": {},
   "outputs": [
    {
     "name": "stdout",
     "output_type": "stream",
     "text": [
      "['v1', 'v2', 'v3', 'v4', 'v5', 'v6', 'I_V1', 'I_V2']\n"
     ]
    }
   ],
   "source": [
    "#matrix containg node voltage and current through independent voltage sources\n",
    "X = V[:] + J[:]\n",
    "#X  # display the X matrix\n",
    "# X = np.concatenate(V,J)\n",
    "print(X)"
   ]
  },
  {
   "cell_type": "code",
   "execution_count": 209,
   "id": "0c9f0660",
   "metadata": {},
   "outputs": [
    {
     "data": {
      "text/plain": [
       "array([[ 1.50e-03+0.j, -5.00e-04+0.j,  0.00e+00+0.j,  0.00e+00+0.j,\n",
       "         0.00e+00+0.j,  0.00e+00+0.j,  0.00e+00+0.j,  0.00e+00+0.j],\n",
       "       [-5.00e-04+0.j,  7.50e-04+0.j, -2.50e-04+0.j,  0.00e+00+0.j,\n",
       "         0.00e+00+0.j,  0.00e+00+0.j,  0.00e+00+0.j,  1.00e+00+0.j],\n",
       "       [ 0.00e+00+0.j, -2.50e-04+0.j,  2.50e-04+0.j,  0.00e+00+0.j,\n",
       "         0.00e+00+0.j,  0.00e+00+0.j,  1.00e+00+0.j,  0.00e+00+0.j],\n",
       "       [ 0.00e+00+0.j,  0.00e+00+0.j,  0.00e+00+0.j,  3.25e-04+0.j,\n",
       "        -2.00e-04+0.j, -1.25e-04+0.j,  0.00e+00+0.j, -1.00e+00+0.j],\n",
       "       [ 0.00e+00+0.j,  0.00e+00+0.j,  0.00e+00+0.j, -2.00e-04+0.j,\n",
       "         2.00e-04+0.j,  0.00e+00+0.j,  0.00e+00+0.j,  0.00e+00+0.j],\n",
       "       [ 0.00e+00+0.j,  0.00e+00+0.j,  0.00e+00+0.j, -1.25e-04+0.j,\n",
       "         0.00e+00+0.j,  1.25e-04+0.j,  0.00e+00+0.j,  0.00e+00+0.j],\n",
       "       [ 0.00e+00+0.j,  0.00e+00+0.j,  1.00e+00+0.j,  0.00e+00+0.j,\n",
       "         0.00e+00+0.j,  0.00e+00+0.j,  0.00e+00+0.j,  0.00e+00+0.j],\n",
       "       [ 0.00e+00+0.j,  1.00e+00+0.j,  0.00e+00+0.j, -1.00e+00+0.j,\n",
       "         0.00e+00+0.j,  0.00e+00+0.j,  0.00e+00+0.j,  0.00e+00+0.j]])"
      ]
     },
     "execution_count": 209,
     "metadata": {},
     "output_type": "execute_result"
    }
   ],
   "source": [
    "#The A matrix is (m+n) by (m+n) and will be developed as the combination of 4 smaller matrices, G, B, C, and D.\n",
    "n = num_nodes\n",
    "m = v_count\n",
    "A = np.zeros((m+n,m+n),dtype='complex_')\n",
    "for i in range(n):\n",
    "    for j in range(n):\n",
    "        A[i,j] = G[i,j]\n",
    "\n",
    "if v_count > 1:\n",
    "    for i in range(n):\n",
    "        for j in range(m):\n",
    "            A[i,n+j] = B[i,j]\n",
    "            A[n+j,i] = C[j,i]\n",
    "else:\n",
    "    for i in range(n):\n",
    "        A[i,n] = B[i]\n",
    "        A[n,i] = C[0][i]\n",
    "\n",
    "A  # display the A matrix"
   ]
  },
  {
   "cell_type": "code",
   "execution_count": 210,
   "id": "1f86b38c",
   "metadata": {},
   "outputs": [
    {
     "name": "stdout",
     "output_type": "stream",
     "text": [
      "[[ 5.14314286e+03+0.j]\n",
      " [ 1.54294286e+04+0.j]\n",
      " [ 2.00000000e+00+0.j]\n",
      " [ 1.54244286e+04+0.j]\n",
      " [ 1.04244286e+04+0.j]\n",
      " [ 9.54244286e+04+0.j]\n",
      " [ 3.85685714e+00+0.j]\n",
      " [-9.00000000e+00-0.j]]\n"
     ]
    }
   ],
   "source": [
    "print(np.linalg.solve(A,Z))"
   ]
  },
  {
   "cell_type": "markdown",
   "id": "58792078",
   "metadata": {},
   "source": [
    "refrences: https://lpsa.swarthmore.edu/Systems/Electrical/mna/MNAAll.html"
   ]
  },
  {
   "cell_type": "code",
   "execution_count": null,
   "id": "95a43479",
   "metadata": {},
   "outputs": [],
   "source": []
  }
 ],
 "metadata": {
  "kernelspec": {
   "display_name": "Python 3 (ipykernel)",
   "language": "python",
   "name": "python3"
  },
  "language_info": {
   "codemirror_mode": {
    "name": "ipython",
    "version": 3
   },
   "file_extension": ".py",
   "mimetype": "text/x-python",
   "name": "python",
   "nbconvert_exporter": "python",
   "pygments_lexer": "ipython3",
   "version": "3.9.13"
  }
 },
 "nbformat": 4,
 "nbformat_minor": 5
}
