{
 "cells": [
  {
   "cell_type": "markdown",
   "id": "1d077f98-2b48-4624-890f-bbcde75b50f8",
   "metadata": {},
   "source": [
    "# Speed of computation\n",
    "\n",
    "Python, being an interpreted language, tends to be slower than compiled languages like C or Fortran.  Some other languages like Java and Julia tend to use Just-in-Time compilation which can give speedups, but Python also has the problem of being dynamically typed, which eliminates the possibility of many optimizations.\n",
    "\n",
    "The `timeit` library provides functions to estimate the time taken to run a piece of code.  It can automatically run the code multiple times to get better average results, and can be used to identify bottlenecks in your program.  However, it should be used with care as it is not a detailed function-call-level profiler.\n",
    "\n",
    "It can either be `import`ed as a module where you can then explicitly called `timeit.timeit(func)` to estimate time for a function, or you can use the *magic syntax* in Python notebooks as shown below.  "
   ]
  },
  {
   "cell_type": "markdown",
   "id": "58b588ff-6005-4a1e-9329-9189134b7653",
   "metadata": {},
   "source": [
    "import numpy as np\n",
    "x = np.random.rand(10000,1)"
   ]
  },
  {
   "cell_type": "code",
   "execution_count": 58,
   "id": "63c29c38-213f-439e-a7a4-1bc71a6a147b",
   "metadata": {},
   "outputs": [
    {
     "ename": "NameError",
     "evalue": "name 'x' is not defined",
     "output_type": "error",
     "traceback": [
      "\u001b[0;31m---------------------------------------------------------------------------\u001b[0m",
      "\u001b[0;31mNameError\u001b[0m                                 Traceback (most recent call last)",
      "Input \u001b[0;32mIn [58]\u001b[0m, in \u001b[0;36m<cell line: 7>\u001b[0;34m()\u001b[0m\n\u001b[1;32m      5\u001b[0m         \u001b[38;5;28msum\u001b[39m \u001b[38;5;241m+\u001b[39m\u001b[38;5;241m=\u001b[39m x[i]\n\u001b[1;32m      6\u001b[0m     \u001b[38;5;28;01mreturn\u001b[39;00m \u001b[38;5;28msum\u001b[39m\n\u001b[0;32m----> 7\u001b[0m \u001b[38;5;28mprint\u001b[39m(sumarr(\u001b[43mx\u001b[49m))\n\u001b[1;32m      8\u001b[0m get_ipython()\u001b[38;5;241m.\u001b[39mrun_line_magic(\u001b[38;5;124m'\u001b[39m\u001b[38;5;124mtimeit\u001b[39m\u001b[38;5;124m'\u001b[39m, \u001b[38;5;124m'\u001b[39m\u001b[38;5;124msumarr(x)\u001b[39m\u001b[38;5;124m'\u001b[39m)\n",
      "\u001b[0;31mNameError\u001b[0m: name 'x' is not defined"
     ]
    }
   ],
   "source": [
    "def sumarr(x):\n",
    "    sum = 0\n",
    "    for i in range(len(x)): \n",
    "    # for i in x:\n",
    "        sum += x[i]\n",
    "    return sum\n",
    "print(sumarr(x))\n",
    "%timeit sumarr(x)"
   ]
  },
  {
   "cell_type": "code",
   "execution_count": null,
   "id": "3685cabc-ea32-40cf-923d-efacf040bba1",
   "metadata": {},
   "outputs": [],
   "source": [
    "import numpy as np\n",
    "def npsumarr(x):\n",
    "    return np.sum(x)\n",
    "print(npsumarr(x))\n",
    "%timeit npsumarr(x)"
   ]
  },
  {
   "cell_type": "markdown",
   "id": "45165b44-8c0e-43ca-a3bb-c1da937c5919",
   "metadata": {},
   "source": [
    "# Solving equations by Gaussian elimination\n",
    "\n",
    "Once you have constructed two matrices A and B to represent the system of linear equations \n",
    "$$ Ax = b $$\n",
    "you can then proceed to solve the equations using the process known as Gaussian elimination.\n",
    "\n",
    "It is assumed you already know how the process works, but to refresh your memory, you could use the reference material at [LibreTexts](https://math.libretexts.org/Bookshelves/Algebra/Book%3A_Algebra_and_Trigonometry_(OpenStax)/11%3A_Systems_of_Equations_and_Inequalities/11.06%3A_Solving_Systems_with_Gaussian_Elimination).\n",
    "\n",
    "Basically it involves making the A matrix *triangular* and ultimately into the shape of an identity matrix."
   ]
  },
  {
   "cell_type": "code",
   "execution_count": null,
   "id": "2985880d-bf0b-465c-85e6-2b9aa2e036ad",
   "metadata": {},
   "outputs": [],
   "source": [
    "# Input matrices - the set of equations - 2 variables x1 and x2\n",
    "A = [ [2,3], [1,-1] ]\n",
    "B = [6,1/2]\n",
    "print(A)\n",
    "print(B)"
   ]
  },
  {
   "cell_type": "code",
   "execution_count": null,
   "id": "57c201b5-1d27-4bfb-9f65-1075568463b3",
   "metadata": {},
   "outputs": [],
   "source": [
    "# Normalize row 1\n",
    "norm = A[0][0]\n",
    "for i in range(len(A[0])): A[0][i] /= norm\n",
    "B[0] = B[0]/norm\n",
    "print(A)\n",
    "print(B)"
   ]
  },
  {
   "cell_type": "code",
   "execution_count": null,
   "id": "02eec543-407f-43ba-b59a-1a9abe46942c",
   "metadata": {},
   "outputs": [],
   "source": [
    "# Eliminate row 2 - A[1] - need to check and ensure div-by-zero etc doesnt happen\n",
    "norm = A[1][0] / A[0][0]\n",
    "for i in range(len(A[1])): A[1][i] = A[1][i] - A[0][i] * norm\n",
    "B[1] = B[1] - B[0] * norm\n",
    "print(A)\n",
    "print(B)"
   ]
  },
  {
   "cell_type": "code",
   "execution_count": null,
   "id": "e6d17637-4f8d-4b50-b051-f3f95520d5b9",
   "metadata": {},
   "outputs": [],
   "source": [
    "# Normalize row 2 - B[1] will now contain the solution for x2\n",
    "norm = A[1][1]\n",
    "for i in range(len(A[1])): A[1][i] = A[1][i] / norm\n",
    "B[1] = B[1] / norm\n",
    "print(A)\n",
    "print(B)"
   ]
  },
  {
   "cell_type": "code",
   "execution_count": null,
   "id": "eae41cdb-dde7-48c4-a93a-3dfa9a9dd3a0",
   "metadata": {},
   "outputs": [],
   "source": [
    "# Sub back and solve for B[0] <-> x1\n",
    "# This can be seen as eliminating A[0][1]\n",
    "norm = A[0][1] / A[0][0]\n",
    "# note that len(A) will give number of rows\n",
    "for i in range(len(A)): \n",
    "    A[i][1] = A[i][1] - A[i][0] * norm\n",
    "    B[i] = B[i] - A[i][0] * norm\n",
    "print(A)\n",
    "print(B)"
   ]
  },
  {
   "cell_type": "markdown",
   "id": "098cf3af-1055-4131-b7e3-68ee9637939f",
   "metadata": {
    "tags": []
   },
   "source": [
    "## Problems with Gaussian elimination\n",
    "\n",
    "There are several obvious problems with the method outlined here.  These include:\n",
    "\n",
    "- Performance - Python lists are not the most efficient way to store matrices\n",
    "- Zeros: the simple example does not consider a scenario where one of the values on the diagonal may be 0.  Then some shuffling of rows is required.\n",
    "- Numerical stability: there are several *normalization* steps involved, where it is quite possible for the values to blow up out of control if not managed properly.  Usually some kind of pivoting techniques are used to get around these issues."
   ]
  },
  {
   "cell_type": "code",
   "execution_count": null,
   "id": "2888f5f6-0d58-4252-b15a-cb240ca98c07",
   "metadata": {},
   "outputs": [],
   "source": [
    "import numpy as np\n",
    "A1 = np.array( [ [2,3], [1,-1] ] )\n",
    "B1 = np.array( [6, 1/2] )\n",
    "np.linalg.solve(A1, B1)"
   ]
  },
  {
   "cell_type": "markdown",
   "id": "986c1d41-e4d1-42aa-a274-227e816cd2d3",
   "metadata": {},
   "source": [
    "# Library functions\n",
    "\n",
    "*Numeric Python* or `numpy` is a library that allows Python code to directly call highly efficient implementations of several linear algebra routines (that have been written and optimized using C or Fortran and generally offer very high performance).\n",
    "\n",
    "Although you can use the same `list` based approach to create matrices, it is better to declare them as the `array` data type:\n",
    "\n",
    "- the numeric `type` (float, int etc.) can be specified for arrays\n",
    "- memory allocation is done more efficiently by assuming they are not meant to be arbitrarily extended or changed"
   ]
  },
  {
   "cell_type": "markdown",
   "id": "140f68a1-0072-4fe3-9dd4-1c946e93b8b5",
   "metadata": {},
   "source": [
    "# SPICE basics\n",
    "\n",
    "Our goal is to implement a SPICE simulator.  In order to do this, we first need to read in the circuit description from a text file.  To start with, we will only consider the basic elements of SPICE: Voltage sources, Current sources, and Resistors.  A typical SPICE netlist would look like this:\n",
    "\n",
    "```spice\n",
    ".circuit\n",
    "R1 GND 1 1  \n",
    "R2 1 2 1    \n",
    "V1 GND 2 dc 2\n",
    ".end\n",
    "```\n",
    "\n",
    "This is basically a *netlist* with 3 *nodes* - one of which is Ground (GND) which is assumed to be have a voltage of 0V.  We can write down Kirchhoff's current law (KCL) equations at each node, to account for current balance.  In addition, we will have some equations that specify the voltages between nodes having a direct voltage source, since there is no resistance there to provide an equation.\n",
    "\n",
    "For the above example, the equations will be\n",
    "\n",
    "$$\n",
    "\\begin{aligned}\n",
    "\\frac{V1-0}{R1} & + & \\frac{V1-V2}{R2} & = & 0 \\\\\n",
    "\\frac{V2-V1}{R2} & + & I1 & = & 0 \\\\\n",
    "V2 & - & 0 & = & 2\n",
    "\\end{aligned}\n",
    "$$\n",
    "\n",
    "which can be written in Matrix form as:\n",
    "\n",
    "$$\n",
    "\\begin{bmatrix}\n",
    "\\frac{1}{R1}+\\frac{1}{R2} & \\frac{-1}{R2} & 0 \\\\\n",
    "\\frac{-1}{R2}   & \\frac{1}{R2}  & 1 \\\\\n",
    "0  & 1  & 0\n",
    "\\end{bmatrix}\n",
    "\\begin{bmatrix}\n",
    "V1 \\\\\n",
    "V2 \\\\\n",
    "I1\n",
    "\\end{bmatrix}\n",
    "=\n",
    "\\begin{bmatrix}\n",
    "0 \\\\\n",
    "0 \\\\\n",
    "2\n",
    "\\end{bmatrix}\n",
    "$$\n",
    "\n",
    "At this point, you have reduced the solving of the SPICE equations to a known problem (linear equation solving) that you already know how to do."
   ]
  },
  {
   "cell_type": "markdown",
   "id": "ec5807ab",
   "metadata": {},
   "source": [
    "element <+ve node> <-ve node> <value>\n"
   ]
  },
  {
   "cell_type": "markdown",
   "id": "10067a6c",
   "metadata": {},
   "source": [
    "## AC sources\n",
    "\n",
    "The assumption above is that the system consists only of Voltage or Current sources and resistors.  What about capacitors, inductors, and AC sources?  These can be handled in exactly the same way as long as the circuit is operating at a single frequency.  We then replace the elements with their corresponding *impedance* values, which are frequency dependent complex numbers, but since there is only a single frequency they will still be constants."
   ]
  },
  {
   "cell_type": "markdown",
   "id": "1485d399",
   "metadata": {},
   "source": [
    "## Problem scenarios\n",
    "\n",
    "- Voltage source loops\n",
    "- Current sources at a node\n",
    "- Circuit defined with both DC and AC sources\n",
    "- Syntax errors"
   ]
  },
  {
   "cell_type": "markdown",
   "id": "6d214d59",
   "metadata": {},
   "source": [
    "# String and File manipulation\n",
    "\n",
    "Given a SPICE netlist like the one above, you need to *read* it and construct an internal matrix as described above.  For string manipulation, there are a few helpful utility functions that we can see here."
   ]
  },
  {
   "cell_type": "code",
   "execution_count": null,
   "id": "0d0f9ed2",
   "metadata": {},
   "outputs": [],
   "source": [
    "circ = \"\"\".circuit\n",
    "R1 GND 1 1  \n",
    "R2 1 2 1    \n",
    "V1 GND 2 dc 2\n",
    ".end\n",
    "\"\"\".splitlines()\n",
    "for l in circ:\n",
    "    if l[0] == 'R':\n",
    "        print(\"Found a resistor\")\n",
    "    elif l[0] == 'V':\n",
    "        print(\"Found a voltage source with value: \", float(l.split()[4]))"
   ]
  },
  {
   "cell_type": "markdown",
   "id": "18d4c59c",
   "metadata": {},
   "source": [
    "## Files\n",
    "\n",
    "You can read from a file using the `readlines()` method of file objects.  One thing to keep in mind is how you open and close file objects.  In particular, it is strongly recommended to use the pattern `with open(\"filename\") as f:` to ensure that the file is closed once you are done with reading it.  "
   ]
  },
  {
   "cell_type": "markdown",
   "id": "5b45ec84",
   "metadata": {},
   "source": [
    "# Assignment\n",
    "\n",
    "The following are the problems you need to solve for this assignment.  You need to submit your code (either as standalone Python script or a Python notebook), a PDF document explaining your solution (either generated from the notebook or a separate LaTeX document), and any supporting files you may have (such as circuit netlists you used for testing your code).\n",
    "\n",
    "- Write a function to find the factorial of N (N being an input) and find the time taken to compute it.  This will obviously depend on where you run the code and which approach you use to implement the factorial.  Explain your observations briefly.\n",
    "- Write a linear equation solver that will take in matrices $A$ and $b$ as inputs, and return the vector $x$ that solves the equation $Ax=b$.  Your function should catch errors in the inputs and return suitable error messages for different possible problems.\n",
    "  - Time your solver to solve a random $10\\times 10$ system of equations.  Compare the time taken against the `numpy.linalg.solve` function for the same inputs.\n",
    "- Given a circuit netlist in the form described above, read it in from a file, construct the appropriate matrices, and use the solver you have written above to obtain the voltages and currents in the circuit.  If you find AC circuits hard to handle, first do this for pure DC circuits, but you should be able to handle both voltage and current sources.\n",
    "\n",
    "## Bonus assignments\n",
    "\n",
    "- (Small bonus): after reading in the netlist, allow some or all sources and impedances to be controlled interactively - either using widgets or other mechanisms.  On each change you should recompute the currents and voltages and display them.\n",
    "- (Large bonus): make a solver that can do real-time transient simulations of a SPICE netlist and update the currents and voltages dynamically.  They should also be plotted as a function of time and react to changes.  This is something along the lines of https://www.falstad.com/circuit/.  Ideally you should be able to do a real-time demo of some experiments you might conduct as part of a basic electronics lab, and simulate the behaviour of an oscilloscope and signal generator."
   ]
  },
  {
   "cell_type": "code",
   "execution_count": null,
   "id": "d4840999",
   "metadata": {},
   "outputs": [],
   "source": [
    "#Code to Generate N factorial\n",
    "\n",
    "def factorial(N):\n",
    "    if N==1:\n",
    "        return N\n",
    "    else:\n",
    "        return N*factorial(N-1)\n",
    "    \n",
    "print(factorial(15))\n",
    "%timeit factorial(15)"
   ]
  },
  {
   "cell_type": "code",
   "execution_count": null,
   "id": "e5a1929a",
   "metadata": {},
   "outputs": [],
   "source": [
    "def fact(N):\n",
    "    num = 1\n",
    "    for i in range(N):\n",
    "        num = num*(i+1)\n",
    "    return num\n",
    "\n",
    "print(fact(15))\n",
    "%timeit fact(15)"
   ]
  },
  {
   "cell_type": "markdown",
   "id": "709b7d14",
   "metadata": {},
   "source": [
    "* For finding factorial of number I have used reccursion method and a for loop method,in reccursion method the fuction is called again and again until N equals 1, this method usese the property N! = N*(N-1)! and solves the problem \n",
    "* The second method I have used is just used a simple for loop to calculate N! it uses the property N! = 1*2*3...(N-1)*N \n",
    "* The time of reccusive function is 984ns greater then for loop implementation of 665ns as reccursive fuction is calling the fuction again and again which takes time greater then  the for loop implementation; for loop implementation calls the fuction ones and multiplies the values till N and returns the answer and thus is relatively faster then reccursive implementation"
   ]
  },
  {
   "cell_type": "code",
   "execution_count": 75,
   "id": "e9dbf865",
   "metadata": {},
   "outputs": [
    {
     "name": "stdout",
     "output_type": "stream",
     "text": [
      "0.9962570144967405\n"
     ]
    },
    {
     "ename": "TypeError",
     "evalue": "unsupported operand type(s) for /: 'list' and 'float'",
     "output_type": "error",
     "traceback": [
      "\u001b[0;31m---------------------------------------------------------------------------\u001b[0m",
      "\u001b[0;31mTypeError\u001b[0m                                 Traceback (most recent call last)",
      "Input \u001b[0;32mIn [75]\u001b[0m, in \u001b[0;36m<cell line: 110>\u001b[0;34m()\u001b[0m\n\u001b[1;32m    106\u001b[0m b \u001b[38;5;241m=\u001b[39m np\u001b[38;5;241m.\u001b[39mrandom\u001b[38;5;241m.\u001b[39mrand(\u001b[38;5;241m10\u001b[39m,\u001b[38;5;241m1\u001b[39m)\u001b[38;5;241m.\u001b[39mtolist()\n\u001b[1;32m    107\u001b[0m \u001b[38;5;66;03m#print(np.array(b))\u001b[39;00m\n\u001b[1;32m    108\u001b[0m \u001b[38;5;66;03m#print(np.linalg.solve(np.array(A), np.array(b)).tolist())\u001b[39;00m\n\u001b[1;32m    109\u001b[0m \u001b[38;5;66;03m#%timeit np.linalg.solve(np.array(A), np.array(b)).tolist()\u001b[39;00m\n\u001b[0;32m--> 110\u001b[0m \u001b[38;5;28mprint\u001b[39m(\u001b[43msolutions\u001b[49m\u001b[43m(\u001b[49m\u001b[43mA\u001b[49m\u001b[43m,\u001b[49m\u001b[43mb\u001b[49m\u001b[43m)\u001b[49m)\n\u001b[1;32m    111\u001b[0m get_ipython()\u001b[38;5;241m.\u001b[39mrun_line_magic(\u001b[38;5;124m'\u001b[39m\u001b[38;5;124mtimeit\u001b[39m\u001b[38;5;124m'\u001b[39m, \u001b[38;5;124m'\u001b[39m\u001b[38;5;124msolutions(A,b)\u001b[39m\u001b[38;5;124m'\u001b[39m)\n",
      "Input \u001b[0;32mIn [75]\u001b[0m, in \u001b[0;36msolutions\u001b[0;34m(A, b)\u001b[0m\n\u001b[1;32m     79\u001b[0m \u001b[38;5;28;01melse\u001b[39;00m:\n\u001b[1;32m     80\u001b[0m     sol \u001b[38;5;241m=\u001b[39m []\n\u001b[0;32m---> 81\u001b[0m     B \u001b[38;5;241m=\u001b[39m \u001b[43mgauss\u001b[49m\u001b[43m(\u001b[49m\u001b[43mA\u001b[49m\u001b[43m,\u001b[49m\u001b[43mb\u001b[49m\u001b[43m)\u001b[49m\n\u001b[1;32m     82\u001b[0m     \u001b[38;5;28mprint\u001b[39m(np\u001b[38;5;241m.\u001b[39marray(B))\n\u001b[1;32m     83\u001b[0m     \u001b[38;5;28;01mfor\u001b[39;00m i \u001b[38;5;129;01min\u001b[39;00m \u001b[38;5;28mrange\u001b[39m(\u001b[38;5;28mlen\u001b[39m(B)):\n",
      "Input \u001b[0;32mIn [75]\u001b[0m, in \u001b[0;36mgauss\u001b[0;34m(A, b)\u001b[0m\n\u001b[1;32m     63\u001b[0m m \u001b[38;5;241m=\u001b[39m \u001b[38;5;28mlen\u001b[39m(A)\n\u001b[1;32m     64\u001b[0m \u001b[38;5;28;01mfor\u001b[39;00m i \u001b[38;5;129;01min\u001b[39;00m \u001b[38;5;28mrange\u001b[39m(m):\n\u001b[0;32m---> 65\u001b[0m     \u001b[43mnormalization\u001b[49m\u001b[43m(\u001b[49m\u001b[43mA\u001b[49m\u001b[43m,\u001b[49m\u001b[43mi\u001b[49m\u001b[43m)\u001b[49m\n\u001b[1;32m     66\u001b[0m     \u001b[38;5;28;01mfor\u001b[39;00m j \u001b[38;5;129;01min\u001b[39;00m \u001b[38;5;28mrange\u001b[39m(m):\n\u001b[1;32m     67\u001b[0m         \u001b[38;5;28;01mif\u001b[39;00m i \u001b[38;5;241m!=\u001b[39m j:\n",
      "Input \u001b[0;32mIn [75]\u001b[0m, in \u001b[0;36mnormalization\u001b[0;34m(A, c)\u001b[0m\n\u001b[1;32m     40\u001b[0m             \u001b[38;5;28mprint\u001b[39m(norm)\n\u001b[1;32m     41\u001b[0m             \u001b[38;5;28;01mfor\u001b[39;00m j \u001b[38;5;129;01min\u001b[39;00m \u001b[38;5;28mrange\u001b[39m(m):\n\u001b[0;32m---> 42\u001b[0m                 A[c][j] \u001b[38;5;241m=\u001b[39m \u001b[43mA\u001b[49m\u001b[43m[\u001b[49m\u001b[43mc\u001b[49m\u001b[43m]\u001b[49m\u001b[43m[\u001b[49m\u001b[43mj\u001b[49m\u001b[43m]\u001b[49m\u001b[38;5;241;43m/\u001b[39;49m\u001b[43mnorm\u001b[49m\n\u001b[1;32m     43\u001b[0m \u001b[38;5;28;01mexcept\u001b[39;00m \u001b[38;5;167;01mZeroDivisionError\u001b[39;00m:\n\u001b[1;32m     44\u001b[0m     \u001b[38;5;28;01mfor\u001b[39;00m i \u001b[38;5;129;01min\u001b[39;00m \u001b[38;5;28mrange\u001b[39m(n):\n",
      "\u001b[0;31mTypeError\u001b[0m: unsupported operand type(s) for /: 'list' and 'float'"
     ]
    }
   ],
   "source": [
    "#Gauss Elemination method.\n",
    "import numpy as np\n",
    "def row_swap(A,r1,r2):\n",
    "    A[r1],A[r2] = A[r2],A[r1]\n",
    "      \n",
    "def agumented(A,b):\n",
    "    n = len(A)\n",
    "    for i in range(len(A)):\n",
    "        A[i].append(b[i])\n",
    "        \n",
    "def matminor(A,i,j): \n",
    "    B = []\n",
    "    for row in A[:i]+A[i+1:]:\n",
    "        B.append(row[:j] + row[j+1:])\n",
    "    return B\n",
    "\n",
    "def det(A):\n",
    "    determinant = 0\n",
    "    #------------------------------------------------------------------\n",
    "    if len(A) == 1:\n",
    "        #-------------\n",
    "        return A[0][0]\n",
    "    elif len(A) == 2:\n",
    "        #-------------------------------------\n",
    "        return A[0][0]*A[1][1]-A[0][1]*A[1][0]\n",
    "    else:\n",
    "        for k in range(len(A)):\n",
    "            determinant += (pow(-1,k))*A[0][k]*det(matminor(A,0,k))\n",
    "        #-----------------\n",
    "        return determinant\n",
    "    \n",
    "def normalization(A,c):\n",
    "    m = len(A[0])\n",
    "    n = len(A)\n",
    "    #n = len(A)\n",
    "    try:\n",
    "        for i in range(m):\n",
    "            if A[c][c] != 1:\n",
    "                norm = A[c][c] \n",
    "                print(norm)\n",
    "                for j in range(m):\n",
    "                    A[c][j] = A[c][j]/norm\n",
    "    except ZeroDivisionError:\n",
    "        for i in range(n):\n",
    "            for j in range(i+1,n):\n",
    "                if A[j][i] != 0:\n",
    "                    #swap A[j] with A[i]\n",
    "                    row_swap(A,j,i)\n",
    "        normalization(A,c)\n",
    "                \n",
    "                \n",
    "def elemination(A,r,c):\n",
    "    #normalization(A,c)\n",
    "    m = len(A[0])\n",
    "    for i in range(m):\n",
    "        if A[r][c] != 0:\n",
    "            ele = A[r][c]\n",
    "            for j in range(m):\n",
    "                A[r][j] = A[r][j] - ((ele)*A[c][j])\n",
    "\n",
    "def gauss(A,b):\n",
    "    agumented(A,b)\n",
    "    m = len(A)\n",
    "    for i in range(m):\n",
    "        normalization(A,i)\n",
    "        for j in range(m):\n",
    "            if i != j:\n",
    "                elemination(A,j,i)\n",
    "    return A\n",
    "\n",
    "def solutions(A,b):\n",
    "    n = len(b)\n",
    "    #print(A)\n",
    "    d = det(A)\n",
    "    if d == 0 and n == b.count(0):\n",
    "        return ('Infinite Solutions')\n",
    "    elif d == 0 and n != b.count(0):\n",
    "        return ('No Solutions')\n",
    "    else:\n",
    "        sol = []\n",
    "        B = gauss(A,b)\n",
    "        print(np.array(B))\n",
    "        for i in range(len(B)):\n",
    "            sol.append(B[i][-1])\n",
    "\n",
    "        return sol\n",
    "\n",
    "\n",
    "\n",
    "#A = [[0,0,0],[2,0,-3],[3,6,-5]]\n",
    "#b = [9,1,0]\n",
    "#A = [[1,1,2],[2,4,-3],[3,6,-5]]\n",
    "#print(np.array(gauss(A,b))) \n",
    "#print(solutions(A,b))\n",
    "#A = [[0,1,2,5],[3,4,5,5],[6,7,8,5]]\n",
    "# A = [[0,0,0],[1,0,3],[2,1,2]]\n",
    "# b = [0,0,0]\n",
    "# print(np.array(A))\n",
    "# print(np.array(b))\n",
    "# print(solutions(A,b))\n",
    "# row_swap(A,1,2)\n",
    "# print(np.array(normalization(A,0)))\n",
    "# print(np.array(A))\n",
    "\n",
    "A = np.random.rand(10,10).tolist()\n",
    "b = np.random.rand(10,1).tolist()\n",
    "#print(np.array(b))\n",
    "#print(np.linalg.solve(np.array(A), np.array(b)).tolist())\n",
    "#%timeit np.linalg.solve(np.array(A), np.array(b)).tolist()\n",
    "print(solutions(A,b))\n",
    "%timeit solutions(A,b)\n",
    "#print(solutions(A,b))\n",
    "#print(np.array(b))"
   ]
  },
  {
   "cell_type": "code",
   "execution_count": null,
   "id": "5d4fcd9d",
   "metadata": {},
   "outputs": [],
   "source": [
    "import numpy as np\n",
    "def matminor(A,r,c): \n",
    "    B = []\n",
    "    for row in A[:r] + A[r+1:]: \n",
    "        B.append(row[:c] + row[c+1:])\n",
    "    return B\n",
    "\n",
    "\n",
    "def det(A):\n",
    "    determinant = 0\n",
    "    #------------------------------------------------------------------\n",
    "    if len(A) == 1:\n",
    "        #-------------\n",
    "        return A[0][0]\n",
    "    elif len(A) == 2:\n",
    "        #-------------------------------------\n",
    "        return A[0][0]*A[1][1]-A[0][1]*A[1][0]\n",
    "    else:\n",
    "        for k in range(len(A)):\n",
    "            determinant += (pow(-1,k))*A[0][k]*det(matminor(A,0,k))\n",
    "        #-----------------\n",
    "        return determinant\n",
    "            \n",
    "def tran(A):\n",
    "    n = len(A)\n",
    "    B = [[0] * n for i in range(n)]\n",
    "    #--------------------------------\n",
    "    for i in range(n):\n",
    "        for j in range(n):\n",
    "            B[j][i] = A[i][j]\n",
    "    #--------------------------------\n",
    "    return B\n",
    "\n",
    "def inv(A):\n",
    "    n = len(A)\n",
    "    deter = det(A)\n",
    "    #------------------------------------------------\n",
    "    if len(A) == 2:\n",
    "        return [[A[1][1]/deter, -1*A[0][1]/deter],\n",
    "                [-1*A[1][0]/deter, A[0][0]/deter]]\n",
    "    else:\n",
    "        co = []\n",
    "        #---------------------------------------------\n",
    "        for i in range(n):\n",
    "            corow = []\n",
    "            for j in range(n):\n",
    "                minor = matminor(A,i,j)\n",
    "                corow.append(pow(-1,i+j)*det(minor))\n",
    "            co.append(corow)\n",
    "        co = tran(co)\n",
    "        #----------------------------------------------\n",
    "        for i in range(n):\n",
    "            for j in range(n):\n",
    "                co[i][j] = co[i][j]/deter\n",
    "        #----------------------------------------------       \n",
    "        return co\n",
    "\n",
    "def matmult(A,B):\n",
    "    n = len(A)\n",
    "    m = len(B[0])\n",
    "    result = [[0] * m for i in range(n)]\n",
    "    #-------------------------------------------\n",
    "    for i in range(len(A)):\n",
    "        for j in range(len(B[0])):\n",
    "            for k in range(len(B)):\n",
    "                result[i][j] += A[i][k] * B[k][j]\n",
    "    #--------------------------------------------           \n",
    "    return result\n",
    "    \n",
    "def  matsolver(A,b):\n",
    "    A_inverse = inv(A)\n",
    "    result = matmult(A_inverse,b)\n",
    "    return result\n",
    "        \n",
    "    \n",
    "            \n",
    "\n",
    "#A = [[1,2,3,4],[5,6,7,8],[9,10,11,12],[13,14,15,16]]\n",
    "#A = [[1,2,3],[4,5,5],[7,8,9]]\n",
    "#B = [[1,2,3],[4,5,6],[7,8,9]]\n",
    "#print(det(A))\n",
    "#print(np.array(A))\n",
    "#print(np.array(matminor(A,3,2)))\n",
    "#A = [[1,2],[3,4]]\n",
    "#print(matminor(A,0,0))\n",
    "#print(np.array(inv(A)))\n",
    "#print(matmult(A,B))\n",
    "#A = [ [2,3], [1,-1] ]\n",
    "#B = [[6],[1/2]]\n",
    "# print(matsolver(A,B))\n",
    "# %timeit matsolver(A,B)\n",
    "# # print(np.linalg.solve(A, B))\n",
    "# %timeit np.linalg.solve(A, B)\n",
    "# A = [[0,1,2],[2,4,-3],[3,6,-5]]\n",
    "# print(A)\n",
    "# print(det(A))\n",
    "# print(A)\n",
    "#A = np.random.rand(10,10).tolist()\n",
    "#b = np.random.rand(10,1).tolist()\n",
    "\n",
    "%timeit np.linalg.solve(np.array(A), np.array(b)).tolist()\n",
    "\n",
    "%timeit matsolver(A,b)"
   ]
  },
  {
   "cell_type": "markdown",
   "id": "2f19ed46",
   "metadata": {},
   "source": [
    "* <h5>The method I have choosen to solve this problem is by using the property, if Ax=b then x=A$^{-1}$b, and hence for this method I have to first calculate A$^{-1}$</h5>\n",
    "\n",
    "    * To calculate inverse of matrix A, I had to calculate its adjoint and the determinant of the matrix A\n",
    "    \n",
    "\n",
    "* Method to calculate determinant of matrix A\n",
    "    1. To calculate the determinant of any nxn matrix I first need the co-factor for the respective elements in first row, so therefor I need determinant of minor matrix formed by deleting i row and j column and get it's determinant, this will be multiplied if elements in first row and I will get determinant of overall matrix A\n",
    "    1. So if the matrix is a 1x1 return the element as that is it's determinant\n",
    "    1. if determinat is 2x2 we know the mathematical formula to caculate its determinant, I have used the same\n",
    "    1. then for matrix bigger then 2x2, I used reccursive relation to calculate its determinant by finding detrminant of minor matrix hence the cofactors and get the determinant by multiplying the elements of first row with it.\n",
    "    \n",
    "\n",
    "* Method to caclulate minor matrix\n",
    "    1. So therfore first thing to do is make a function that can give me a matrix after deleting i'th row and j'th column, for that I take three arguments they are matrix A and element position whose minor matrix I need\n",
    "    1. Next I have copied the matrix A to matrix B, I have done this because I dont want to change the matrix A, as this could later create problem in recursion or some other function I might need the A as it is.\n",
    "    1. Then simply using del function to delete the i'th row is easy part as matrix in python is just a nested list\n",
    "    1. Tricky part is to delete the j'th column,for that I used a for loop to iterate through each nested list and deleted the j'th element; the for loop takes a row from the matrix and then deletes the j'th element from that row and performing this action on all rows effectively deletes j'th column\n",
    "\n",
    "\n",
    "* Method to calculate transpose of matrix A.\n",
    "    1. To find inverse of a matrix A also need to calculate the transpose of the matrix obtained by it's co-facotors\n",
    "    1. Making transpose of a matrix is mathematically means to exchange ij element to ji element.\n",
    "    1. To do so I have first made a zero matrix of same size of matrix A, then changing each element for ij to ji using two for loops, in case of i=j the element remains at the same postion."
   ]
  }
 ],
 "metadata": {
  "kernelspec": {
   "display_name": "Python 3 (ipykernel)",
   "language": "python",
   "name": "python3"
  },
  "language_info": {
   "codemirror_mode": {
    "name": "ipython",
    "version": 3
   },
   "file_extension": ".py",
   "mimetype": "text/x-python",
   "name": "python",
   "nbconvert_exporter": "python",
   "pygments_lexer": "ipython3",
   "version": "3.9.13"
  },
  "vscode": {
   "interpreter": {
    "hash": "135c9c029983d30fe2c25215b219c39403965bc9bf9257a46b5d1e1e22d97d61"
   }
  }
 },
 "nbformat": 4,
 "nbformat_minor": 5
}
