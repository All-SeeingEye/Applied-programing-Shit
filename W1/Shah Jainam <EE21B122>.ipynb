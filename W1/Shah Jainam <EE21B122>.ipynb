{
 "cells": [
  {
   "cell_type": "markdown",
   "id": "bc66b3b5-035d-4397-af1d-5c64e180632f",
   "metadata": {},
   "source": [
    "# Document metadata\n",
    "\n",
    "> *Problem statement: modify this document so that the author name reflects your name and roll number.  Explain the changes you needed to make here.  If you use other approaches such as LaTeX to generate the PDF, explain the differences between the notebook approach and what you have used.*\n",
    "\n",
    "> To edit the author name I have edited notebook meta data from Edit window, and inside authors column changing the name from Nitin Chandrachoodan to Shah Jainam EE21B122\n"
   ]
  },
  {
   "cell_type": "markdown",
   "id": "47576f05-90e1-4c8b-b75b-13ebffe95171",
   "metadata": {},
   "source": [
    "# Basic Data Types\n",
    "\n",
    "Here we have a series of small problems involving various basic data types in Python.  You are required to complete the code where required, and give *brief* explanations of your answers.  Remember that the documentation and explanation is as important as the answer.\n",
    "\n",
    "For each of the following cells, first execute them, and then give a brief explanation of why the answer comes out to be the way it does.  If there is an error during execution of the cell, explain how you fixed it.  **Add a new cell of type Markdown with the explanation** after the corresponding cell.  If you are using plain Python, add suitable comments after each line and explain this in the documentation (clearly you would be better off using Notebooks here)."
   ]
  },
  {
   "cell_type": "markdown",
   "id": "90d271f4",
   "metadata": {},
   "source": [
    "## Numerical types"
   ]
  },
  {
   "cell_type": "code",
   "execution_count": 1,
   "id": "1e2d2e6e",
   "metadata": {},
   "outputs": [
    {
     "name": "stdout",
     "output_type": "stream",
     "text": [
      "2.4\n"
     ]
    }
   ],
   "source": [
    "print(12 / 5)"
   ]
  },
  {
   "cell_type": "markdown",
   "id": "04040af3",
   "metadata": {},
   "source": [
    "The operation '/' gives 12 divided by 5 i.e 2.4, and print() displays that to user screen."
   ]
  },
  {
   "cell_type": "code",
   "execution_count": 2,
   "id": "1b587eb7",
   "metadata": {},
   "outputs": [
    {
     "name": "stdout",
     "output_type": "stream",
     "text": [
      "2\n"
     ]
    }
   ],
   "source": [
    "print(12 // 5)"
   ]
  },
  {
   "cell_type": "markdown",
   "id": "fd444db4",
   "metadata": {},
   "source": [
    "The operation '//' gives floor value of 12 divided by 5 i.e [2.4] = 2, and print() displays that to user screen."
   ]
  },
  {
   "cell_type": "code",
   "execution_count": 3,
   "id": "97a6c535",
   "metadata": {},
   "outputs": [
    {
     "name": "stdout",
     "output_type": "stream",
     "text": [
      "10 10 1.0\n"
     ]
    }
   ],
   "source": [
    "a=b=10\n",
    "print(a,b,a/b)"
   ]
  },
  {
   "cell_type": "markdown",
   "id": "84ba8aa6",
   "metadata": {},
   "source": [
    "* The first line intializez the variable a and b to be equal and their value being 10\n",
    "* The second line prints value of a which is 10, b which is also 10 and a/b which is 1.0 as a/b will output floating point value in computer\n",
    "\n",
    "`In python we need not to specificy the type of variable we need otherwise in programming language like C`"
   ]
  },
  {
   "cell_type": "markdown",
   "id": "af329d1c",
   "metadata": {},
   "source": [
    "## Strings and related operations"
   ]
  },
  {
   "cell_type": "code",
   "execution_count": 4,
   "id": "ba913542",
   "metadata": {},
   "outputs": [
    {
     "name": "stdout",
     "output_type": "stream",
     "text": [
      "Hello \n"
     ]
    }
   ],
   "source": [
    "a = \"Hello \"\n",
    "print(a)"
   ]
  },
  {
   "cell_type": "markdown",
   "id": "3486c27a",
   "metadata": {},
   "source": [
    "* The first line stores the string Hello in variable a\n",
    "* The second line prints the vaue stored in a i.e Hello"
   ]
  },
  {
   "cell_type": "code",
   "execution_count": 5,
   "id": "ad0e046b",
   "metadata": {},
   "outputs": [
    {
     "name": "stdout",
     "output_type": "stream",
     "text": [
      "Hello 10\n"
     ]
    }
   ],
   "source": [
    "print(a+ str(b))  # Output should contain \"Hello 10\" "
   ]
  },
  {
   "cell_type": "markdown",
   "id": "60a7c313",
   "metadata": {},
   "source": [
    "The original code was print(a+b) which is not valid as a is string type but b is int type so I typecasted b to string type using str(b)\n",
    "\n",
    "<div class=\"alert alert-block alert-info\">String concating that is using + to concat two strings only works when all involved variables or data are str type only </div>"
   ]
  },
  {
   "cell_type": "code",
   "execution_count": 6,
   "id": "e2793fa4",
   "metadata": {},
   "outputs": [
    {
     "name": "stdout",
     "output_type": "stream",
     "text": [
      "________________________________________42\n",
      "-*-*-*-*-*-*-*-*-*-*-*-*-*-*-*-*-*-*-*-*"
     ]
    }
   ],
   "source": [
    "# Print out a line of 40 '-' signs (to look like one long line)\n",
    "# Then print the number 42 so that it is right justified to the end of \n",
    "# the above line\n",
    "# Then print one more line of length 40, but with the pattern '*-*-*-' \n",
    "for i in range(81):\n",
    "    if i<40:\n",
    "        print('_',end='')\n",
    "    elif i==40:\n",
    "        print('42')\n",
    "    elif i>40 and i%2==0:\n",
    "        print('*',end='')\n",
    "    else:\n",
    "        print('-',end='')\n",
    "        \n"
   ]
  },
  {
   "cell_type": "markdown",
   "id": "57b21beb",
   "metadata": {},
   "source": [
    "* To print out a line of length 40 I used for loop and if statment so I get a line length 40 and overwrite the end in the print function from defualt '/n' to '' so the charcter '_' does'nt get printed in next line\n",
    "* to print 42 at the end of above line i used elif stament to print 42 when the program is at 40 step i.e after the line of length 40 is printed its right, note here I havent change the end in print('42') because I want to print in new line in third part of the problem\n",
    "* third elif statement is used to print * on even positions and - on odd positions, with modifications on print function to make line\n",
    "\n",
    "<div class = 'alert alert-block alert-info'> \n",
    "more info on print syntax -> https://docs.python.org/3/library/functions.html#print </div>\n"
   ]
  },
  {
   "cell_type": "code",
   "execution_count": 7,
   "id": "9b4e1f03",
   "metadata": {},
   "outputs": [
    {
     "name": "stdout",
     "output_type": "stream",
     "text": [
      "The variable 'a' has the value Hello  and 'b' has the value         10\n"
     ]
    }
   ],
   "source": [
    "print(f\"The variable 'a' has the value {a} and 'b' has the value {b:>10}\")"
   ]
  },
  {
   "cell_type": "markdown",
   "id": "86e66d04",
   "metadata": {},
   "source": [
    "The f before object in print means treat that object as formated string literals i.e treat {} in special way instead of printing them as it is\n",
    "\n",
    "<div class='alert alert-block alert-info'>To treat a string quiet literally instead of formating it use 'r' instead of 'f', these are called raw strings literals</div>"
   ]
  },
  {
   "cell_type": "code",
   "execution_count": 8,
   "id": "9d746f81",
   "metadata": {},
   "outputs": [
    {
     "name": "stdout",
     "output_type": "stream",
     "text": [
      "EE2703                      Applied Programming Lab\n",
      "EE2003                        Computer Organization\n",
      "EE5131                            Digital IC Design\n"
     ]
    }
   ],
   "source": [
    "# Create a list of dictionaries where each entry in the list has two keys:\n",
    "# - id: this will be the ID number of a course, for example 'EE2703'\n",
    "# - name: this will be the name, for example 'Applied Programming Lab'\n",
    "# Add 3 entries:\n",
    "# EE2703 -> Applied Programming Lab\n",
    "# EE2003 -> Computer Organization\n",
    "# EE5311 -> Digital IC Design\n",
    "# Then print out the entries in a neatly formatted table where the \n",
    "# ID number is left justified\n",
    "# to 10 spaces and the name is right justified to 40 spaces.  \n",
    "# That is it should look like:\n",
    "\n",
    "# EE2703                     Applied Programming Lab\n",
    "# EE2003                       Computer Organization\n",
    "# EE5131                           Digital IC Design\n",
    "\n",
    "l = [{'id':'EE2703','name':'Applied Programming Lab'},{'id':'EE2003','name':'Computer Organization'},{'id':'EE5131','name':'Digital IC Design'}]\n",
    "\n",
    "for dic in l:\n",
    "    print(dic['id'].ljust(10,' '),dic['name'].rjust(40, ' '))"
   ]
  },
  {
   "cell_type": "markdown",
   "id": "aace32d1",
   "metadata": {},
   "source": [
    "* First I made a list of dictionary with id and names as keys and their values\n",
    "* Next I iterated through each dictionary and printed their keys and values and used ljust and rjust to print the context in desired output"
   ]
  },
  {
   "cell_type": "markdown",
   "id": "959169d6",
   "metadata": {},
   "source": [
    "# Functions for general manipulation"
   ]
  },
  {
   "cell_type": "code",
   "execution_count": 9,
   "id": "fb799573",
   "metadata": {},
   "outputs": [
    {
     "name": "stdout",
     "output_type": "stream",
     "text": [
      "001\n"
     ]
    }
   ],
   "source": [
    "# Write a function with name 'twosc' that will take a single integer \n",
    "# as input, and print out the binary representation of the number \n",
    "# as output.  The function should take one other optional parameter N \n",
    "# which represents the number of bits.  The final result should always \n",
    "# contain N characters as output (either 0 or 1) and should use \n",
    "# two's complement to represent the number if it is negative.\n",
    "# Examples:\n",
    "# twosc(10): 0000000000001010\n",
    "# twosc(-10): 1111111111110110\n",
    "# twosc(-20, 8): 11101100\n",
    "#\n",
    "# Use only functions from the Python standard library to do this.\n",
    "def twosc(x, N=16):\n",
    "    if x>=0:\n",
    "        x_ = format(x, 'b')\n",
    "        y = len(format(x, 'b'))\n",
    "        if N<y:\n",
    "            return x_[-N:] \n",
    "        else:\n",
    "            return format(x, 'b').zfill(N)\n",
    "    else:\n",
    "        x = -x\n",
    "        x_ = format(x, 'b')\n",
    "        y = len(format(x, 'b'))\n",
    "        if N<=y:\n",
    "            inv = ''\n",
    "            bits = format(x, 'b')\n",
    "            for i in bits:\n",
    "                if i == '0':\n",
    "                    inv = inv + '1'\n",
    "                else:\n",
    "                    inv = inv +'0'\n",
    "            inv = '1'+inv           # I have added this here because in edge case of -15(01), its only 1 digit(1 no preceding zeroes) to padd the number with N digits\n",
    "            ans = bin(int(inv,base=2)+ int('1',base=2))[2:]\n",
    "            return ans[-N:]\n",
    "        else:\n",
    "            inv = ''\n",
    "            bits = format(x, 'b').zfill(N)\n",
    "            for i in bits:\n",
    "                if i == '0':\n",
    "                    inv = inv + '1'\n",
    "                else:\n",
    "                    inv = inv +'0'       \n",
    "            return bin(int(inv,base=2)+ int('1',base=2))[2:]\n",
    "    \n",
    "        \n",
    "print(twosc(-15,3))\n",
    "#%timeit twosc(-1234567890,1000000)"
   ]
  },
  {
   "cell_type": "markdown",
   "id": "fbd1d38d",
   "metadata": {},
   "source": [
    "* First if the input number x is positive then I have used the inbuilt function bin or format to convert decimal to binary and remove prefix 0b from it, then using inbuilt function zfill I have added the required number of zeroes\n",
    "\n",
    "<div class= 'alert alert-block alert-info'>for more info on bin https://docs.python.org/3/library/functions.html#bin</div>\n",
    "\n",
    "* Secondly if x is a negative integer, then we need its 2's complement,for that first I find its ones complement first by inverting 0 to 1 and 1 to 0 using a for loop, note that bin or format returns a string not a int type so taking its advantage I use string concatination to get one's complement\n",
    "\n",
    "* Now that I have one's complement; binary addition of the 1 to the number gives me two's complement, so for that I have done simple addition of the one's complement and '1' in base 2 note that defailt int base is 10, to change it we have to overwrite it by 2 using the above syntax and also that the number to be changed should be of str type not a int type for the opertaion to work\n",
    "\n",
    "<div class= 'alert alert-block alert-info'>for more info on int https://docs.python.org/3/library/functions.html#int</div>\n",
    "\n",
    "* To tackel the edge case of number of digit being less than total number of digits in binary representation (i.e twosc(4,1) should dispay one digit), I check for the condition using if else loop and then use string slicing methods\n"
   ]
  },
  {
   "cell_type": "markdown",
   "id": "d9845f63",
   "metadata": {},
   "source": [
    "# List comprehensions and decorators"
   ]
  },
  {
   "cell_type": "code",
   "execution_count": 10,
   "id": "9f573a70-d7f0-4496-926f-34b7cff5492f",
   "metadata": {},
   "outputs": [
    {
     "data": {
      "text/plain": [
       "[0, 4, 16, 36, 64]"
      ]
     },
     "execution_count": 10,
     "metadata": {},
     "output_type": "execute_result"
    }
   ],
   "source": [
    "# Explain the output you see below\n",
    "[x*x for x in range(10) if x%2 == 0]"
   ]
  },
  {
   "cell_type": "markdown",
   "id": "93b2aabc",
   "metadata": {},
   "source": [
    "This returns a list of the square of all even numbers between 0 and 9 "
   ]
  },
  {
   "cell_type": "code",
   "execution_count": 11,
   "id": "d34ddb81-5caf-40a7-ac1f-43ce08d64220",
   "metadata": {},
   "outputs": [
    {
     "data": {
      "text/plain": [
       "[1, 2, 3, 4, 5, 6, 7, 8, 9]"
      ]
     },
     "execution_count": 11,
     "metadata": {},
     "output_type": "execute_result"
    }
   ],
   "source": [
    "# Explain the output you see below\n",
    "matrix = [[1,2,3], [4,5,6], [7,8,9]]\n",
    "[v for row in matrix for v in row]"
   ]
  },
  {
   "cell_type": "markdown",
   "id": "a87552d4",
   "metadata": {},
   "source": [
    "v for row in matrix takes the first element in the list called matrix and then for v in row takes the first element in list called row and makes a new list of v, i.e a list of all elements in the nested list in the matrix"
   ]
  },
  {
   "cell_type": "code",
   "execution_count": 12,
   "id": "e7349601-a068-4d91-bc0f-bcc755c4b215",
   "metadata": {},
   "outputs": [
    {
     "data": {
      "text/plain": [
       "[2,\n",
       " 3,\n",
       " 5,\n",
       " 7,\n",
       " 11,\n",
       " 13,\n",
       " 17,\n",
       " 19,\n",
       " 23,\n",
       " 29,\n",
       " 31,\n",
       " 37,\n",
       " 41,\n",
       " 43,\n",
       " 47,\n",
       " 53,\n",
       " 59,\n",
       " 61,\n",
       " 67,\n",
       " 71,\n",
       " 73,\n",
       " 79,\n",
       " 83,\n",
       " 89,\n",
       " 97]"
      ]
     },
     "execution_count": 12,
     "metadata": {},
     "output_type": "execute_result"
    }
   ],
   "source": [
    "# Define a function `is_prime(x)` that will return True if a number \n",
    "# is prime, or False otherwise.\n",
    "# Use it to write a one-line statement that will print all \n",
    "# prime numbers between 1 and 100\n",
    "\n",
    "def is_prime(x):\n",
    "    cat = 0\n",
    "    #-------------------------------------------\n",
    "    if x==2 or x==3:\n",
    "        return True\n",
    "    elif x==1 or x==0:\n",
    "        return False\n",
    "    else:\n",
    "        for i in range(2,x-1):\n",
    "            if x%i == 0:\n",
    "                cat = cat + 1\n",
    "    #-------------------------------------------\n",
    "    if cat != 0:\n",
    "        return False\n",
    "    else:\n",
    "        return True\n",
    "\n",
    "def prime_in_100():\n",
    "    ls = []\n",
    "    for i in range(101):\n",
    "        if is_prime(i):\n",
    "            ls.append(i)\n",
    "    return ls\n",
    "            \n",
    "            \n",
    "#is_prime(9)\n",
    "prime_in_100()"
   ]
  },
  {
   "cell_type": "code",
   "execution_count": 13,
   "id": "3dd1087b-f384-41a2-88d8-6788336d2291",
   "metadata": {},
   "outputs": [
    {
     "name": "stdout",
     "output_type": "stream",
     "text": [
      "Hello happy flappy world\n"
     ]
    }
   ],
   "source": [
    "# Explain the output below\n",
    "def f1(x):\n",
    "    return \"happy \" + x\n",
    "def f2(f):\n",
    "    def wrapper(*args, **kwargs):\n",
    "        return \"Hello \" + f(*args, **kwargs) + \" world\"\n",
    "    return wrapper\n",
    "f3 = f2(f1)\n",
    "print(f3(\"flappy\"))"
   ]
  },
  {
   "cell_type": "markdown",
   "id": "310552bd",
   "metadata": {},
   "source": [
    "* The f3('flappy') means we are giving function f3 an argument string 'flappy', now f3 is made of f2 and f1, going by the inner most bracket we can see f1 will be executed first and f1 will return 'happy flappy' as it is just concating two strings now this is passed to f2 as a argument which in turn concats 'Hello ' and ' world' to the argument and returns it.\n",
    "\n",
    "* Note that we had to use wrapper function to concat the strings as we have defined f3 as f2(f1) and f1 is a function not a string, and only strings can be concated in python.\n"
   ]
  },
  {
   "cell_type": "code",
   "execution_count": 14,
   "id": "ede870a7-6564-4930-9ff1-818f075c3e43",
   "metadata": {},
   "outputs": [
    {
     "name": "stdout",
     "output_type": "stream",
     "text": [
      "Hello nappy flappy world\n"
     ]
    }
   ],
   "source": [
    "# Explain the output below\n",
    "@f2\n",
    "def f4(x):\n",
    "    return \"nappy \" + x\n",
    "\n",
    "print(f4(\"flappy\"))"
   ]
  },
  {
   "cell_type": "markdown",
   "id": "b21fd433",
   "metadata": {},
   "source": [
    "@f2 is decorator and this is used to do the exact same thing the above code f3=f2(f1) is suppose to do here it will be f2(f4)"
   ]
  },
  {
   "cell_type": "markdown",
   "id": "de144cc1-a06a-4e96-8017-7887296dddc0",
   "metadata": {},
   "source": [
    "# File IO"
   ]
  },
  {
   "cell_type": "code",
   "execution_count": 16,
   "id": "09e62f52-fec6-4026-a4d8-ca4b87b19732",
   "metadata": {},
   "outputs": [],
   "source": [
    "# Write a function to generate prime numbers from 1 to N (input)\n",
    "# and write them to a file (second argument).  You can reuse the prime\n",
    "# detection function written earlier.\n",
    "def write_primes(N, filename):\n",
    "    ls =[]\n",
    "    for i in range(0,N):\n",
    "        if is_prime(i):\n",
    "            ls.append(i)\n",
    "    f = open(filename, \"w\")\n",
    "    f.write(str(ls))\n",
    "    f.close()\n",
    "write_primes(100, 'raw.py')"
   ]
  },
  {
   "cell_type": "markdown",
   "id": "9b2de5cb-13c3-4804-9576-e7bb6fd3a371",
   "metadata": {},
   "source": [
    "# Exceptions"
   ]
  },
  {
   "cell_type": "code",
   "execution_count": 2,
   "id": "eec5626e-6e92-45bf-b307-2459de0f44e1",
   "metadata": {},
   "outputs": [
    {
     "name": "stdout",
     "output_type": "stream",
     "text": [
      "Enter a number: 2.5\n"
     ]
    },
    {
     "data": {
      "text/plain": [
       "'Error provide a integer value'"
      ]
     },
     "execution_count": 2,
     "metadata": {},
     "output_type": "execute_result"
    }
   ],
   "source": [
    "# Write a function that takes in a number as input, and prints out \n",
    "# whether it is a prime or not.  If the input is not an integer,\n",
    "# print an appropriate error message.  Use exceptions to detect problems.\n",
    "def check_prime(x):\n",
    "    try:\n",
    "        x=int(x)\n",
    "    except ValueError:\n",
    "        return 'Error provide a integer value'\n",
    "    #------------------------------------------\n",
    "    if x==2 or x==3:\n",
    "            return True\n",
    "    else:\n",
    "        cat = 0\n",
    "        for i in range(2,x-1):\n",
    "            if x%i == 0:\n",
    "                cat += 1\n",
    "    #----------------------------------------\n",
    "    if cat!=0:\n",
    "        return False\n",
    "    else:\n",
    "        return True\n",
    "   \n",
    "       \n",
    "x = input('Enter a number: ')\n",
    "check_prime(x)"
   ]
  },
  {
   "cell_type": "markdown",
   "id": "9753d70e",
   "metadata": {},
   "source": [
    "I have added a try except block at x = int(x) so whenver there is a ValueError I get an exception, this code block only captures Value Error other Error that may be caused are not handle by this, to handle all types of errors; remove ValueError in except statment."
   ]
  }
 ],
 "metadata": {
  "authors": [
   {
    "name": "Shah Jainam EE21B122"
   }
  ],
  "kernelspec": {
   "display_name": "Python 3 (ipykernel)",
   "language": "python",
   "name": "python3"
  },
  "language_info": {
   "codemirror_mode": {
    "name": "ipython",
    "version": 3
   },
   "file_extension": ".py",
   "mimetype": "text/x-python",
   "name": "python",
   "nbconvert_exporter": "python",
   "pygments_lexer": "ipython3",
   "version": "3.9.13"
  },
  "title": "EE2703 - Week 1",
  "toc-autonumbering": true,
  "vscode": {
   "interpreter": {
    "hash": "40d3a090f54c6569ab1632332b64b2c03c39dcf918b08424e98f38b5ae0af88f"
   }
  }
 },
 "nbformat": 4,
 "nbformat_minor": 5
}
